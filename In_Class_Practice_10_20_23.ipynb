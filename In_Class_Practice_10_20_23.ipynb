{
  "nbformat": 4,
  "nbformat_minor": 0,
  "metadata": {
    "colab": {
      "provenance": [],
      "authorship_tag": "ABX9TyOvOTbi4C1QbuqVXo3uD1ZM",
      "include_colab_link": true
    },
    "kernelspec": {
      "name": "python3",
      "display_name": "Python 3"
    },
    "language_info": {
      "name": "python"
    }
  },
  "cells": [
    {
      "cell_type": "markdown",
      "metadata": {
        "id": "view-in-github",
        "colab_type": "text"
      },
      "source": [
        "<a href=\"https://colab.research.google.com/github/setran11/ds1002-mnd4up/blob/main/In_Class_Practice_10_20_23.ipynb\" target=\"_parent\"><img src=\"https://colab.research.google.com/assets/colab-badge.svg\" alt=\"Open In Colab\"/></a>"
      ]
    },
    {
      "cell_type": "code",
      "execution_count": 2,
      "metadata": {
        "colab": {
          "base_uri": "https://localhost:8080/"
        },
        "id": "tpY2gCeHY0Sl",
        "outputId": "73ba0bc6-0e36-4c2c-a7a2-132aac7582d9"
      },
      "outputs": [
        {
          "output_type": "stream",
          "name": "stdout",
          "text": [
            "17\n"
          ]
        }
      ],
      "source": [
        "# populate and consume a variable -- global varible (exists outside a function)\n",
        "x = 17\n",
        "print(x)"
      ]
    },
    {
      "cell_type": "code",
      "source": [
        "# create a function\n",
        "def call_x():\n",
        "  print(x)\n",
        "\n",
        "call_x()"
      ],
      "metadata": {
        "colab": {
          "base_uri": "https://localhost:8080/"
        },
        "id": "6kCOD-t8ZL4V",
        "outputId": "7f194c06-720f-462c-cd77-18618815ebf6"
      },
      "execution_count": 3,
      "outputs": [
        {
          "output_type": "stream",
          "name": "stdout",
          "text": [
            "17\n"
          ]
        }
      ]
    },
    {
      "cell_type": "code",
      "source": [
        "# private variable only exists in the function -- cannot be called outside of the function\n",
        "def private_var():\n",
        "  xx = \"charlottesville\"\n",
        "\n",
        "private_var()\n",
        "print(xx)"
      ],
      "metadata": {
        "colab": {
          "base_uri": "https://localhost:8080/",
          "height": 214
        },
        "id": "ewsRQ98WZgyP",
        "outputId": "5f96a7e2-c664-4655-f992-25a0f6127368"
      },
      "execution_count": 6,
      "outputs": [
        {
          "output_type": "error",
          "ename": "NameError",
          "evalue": "ignored",
          "traceback": [
            "\u001b[0;31m---------------------------------------------------------------------------\u001b[0m",
            "\u001b[0;31mNameError\u001b[0m                                 Traceback (most recent call last)",
            "\u001b[0;32m<ipython-input-6-1681e2213fa1>\u001b[0m in \u001b[0;36m<cell line: 6>\u001b[0;34m()\u001b[0m\n\u001b[1;32m      4\u001b[0m \u001b[0;34m\u001b[0m\u001b[0m\n\u001b[1;32m      5\u001b[0m \u001b[0mprivate_var\u001b[0m\u001b[0;34m(\u001b[0m\u001b[0;34m)\u001b[0m\u001b[0;34m\u001b[0m\u001b[0;34m\u001b[0m\u001b[0m\n\u001b[0;32m----> 6\u001b[0;31m \u001b[0mprint\u001b[0m\u001b[0;34m(\u001b[0m\u001b[0mxx\u001b[0m\u001b[0;34m)\u001b[0m\u001b[0;34m\u001b[0m\u001b[0;34m\u001b[0m\u001b[0m\n\u001b[0m",
            "\u001b[0;31mNameError\u001b[0m: name 'xx' is not defined"
          ]
        }
      ]
    },
    {
      "cell_type": "code",
      "source": [
        "# create a global function -- called from within\n",
        "def create_a_global_var():\n",
        "  global zz\n",
        "  zz = \"top\"\n",
        "  print(zz)\n",
        "\n",
        "create_a_global_var()"
      ],
      "metadata": {
        "colab": {
          "base_uri": "https://localhost:8080/"
        },
        "id": "xINknXFUZ8xm",
        "outputId": "467a0763-2f95-4c2f-edcc-fd098c1e2992"
      },
      "execution_count": 7,
      "outputs": [
        {
          "output_type": "stream",
          "name": "stdout",
          "text": [
            "top\n"
          ]
        }
      ]
    },
    {
      "cell_type": "code",
      "source": [
        "# create a global function -- called from outside\n",
        "def create_a_global_var():\n",
        "  global zz\n",
        "  zz = \"top\"\n",
        "\n",
        "create_a_global_var()\n",
        "print(zz)"
      ],
      "metadata": {
        "colab": {
          "base_uri": "https://localhost:8080/"
        },
        "id": "gGQXtCEIaOK0",
        "outputId": "53c9ede4-a6f6-4d1b-b088-d33684a4e45a"
      },
      "execution_count": 8,
      "outputs": [
        {
          "output_type": "stream",
          "name": "stdout",
          "text": [
            "top\n"
          ]
        }
      ]
    },
    {
      "cell_type": "code",
      "source": [
        "# update a global variable -- \"globalizing\" variable in the function\n",
        "mm = 17\n",
        "\n",
        "def update_the_global():\n",
        "  global mm\n",
        "  mm = 14\n",
        "  print(mm)\n",
        "\n",
        "update_the_global()\n",
        "print(mm)"
      ],
      "metadata": {
        "colab": {
          "base_uri": "https://localhost:8080/"
        },
        "id": "yoPqaqXYasdI",
        "outputId": "eed3fb1e-554c-4abb-eda5-88f420c36f05"
      },
      "execution_count": 12,
      "outputs": [
        {
          "output_type": "stream",
          "name": "stdout",
          "text": [
            "14\n",
            "14\n"
          ]
        }
      ]
    },
    {
      "cell_type": "markdown",
      "source": [
        "Validating Input"
      ],
      "metadata": {
        "id": "ZJUKiWMqce4H"
      }
    },
    {
      "cell_type": "code",
      "source": [
        "var1 = 3\n",
        "var2 = 7\n",
        "\n",
        "def add_these_things(var1,var2):\n",
        "  return var1 + var2\n",
        "\n",
        "add_these_things(var1,var2)"
      ],
      "metadata": {
        "colab": {
          "base_uri": "https://localhost:8080/"
        },
        "id": "Y8zFJSv0cgA4",
        "outputId": "e8c81c2e-f039-4872-dd99-027a83b1f421"
      },
      "execution_count": 14,
      "outputs": [
        {
          "output_type": "execute_result",
          "data": {
            "text/plain": [
              "10"
            ]
          },
          "metadata": {},
          "execution_count": 14
        }
      ]
    },
    {
      "cell_type": "code",
      "source": [
        "var1 = \"apples\"\n",
        "var2 = \"bananas\"\n",
        "\n",
        "def add_these_things(var1,var2):\n",
        "  return var1 + var2\n",
        "\n",
        "add_these_things(var1,var2)"
      ],
      "metadata": {
        "colab": {
          "base_uri": "https://localhost:8080/",
          "height": 35
        },
        "id": "qOwuWk8Hc-fa",
        "outputId": "415c92bb-6eb2-4c01-cdb7-ec8504d21e49"
      },
      "execution_count": 15,
      "outputs": [
        {
          "output_type": "execute_result",
          "data": {
            "text/plain": [
              "'applesbananas'"
            ],
            "application/vnd.google.colaboratory.intrinsic+json": {
              "type": "string"
            }
          },
          "metadata": {},
          "execution_count": 15
        }
      ]
    },
    {
      "cell_type": "code",
      "source": [
        "var1 = 3\n",
        "var2 = \"bananas\"\n",
        "\n",
        "def add_these_things(var1,var2):\n",
        "  return var1 + var2\n",
        "\n",
        "add_these_things(var1,var2)"
      ],
      "metadata": {
        "colab": {
          "base_uri": "https://localhost:8080/",
          "height": 339
        },
        "id": "WJ_d_d_UdBsd",
        "outputId": "d2ba7540-8cdf-4237-920a-e246596dc1f7"
      },
      "execution_count": 16,
      "outputs": [
        {
          "output_type": "error",
          "ename": "TypeError",
          "evalue": "ignored",
          "traceback": [
            "\u001b[0;31m---------------------------------------------------------------------------\u001b[0m",
            "\u001b[0;31mTypeError\u001b[0m                                 Traceback (most recent call last)",
            "\u001b[0;32m<ipython-input-16-114a5b31f416>\u001b[0m in \u001b[0;36m<cell line: 7>\u001b[0;34m()\u001b[0m\n\u001b[1;32m      5\u001b[0m   \u001b[0;32mreturn\u001b[0m \u001b[0mvar1\u001b[0m \u001b[0;34m+\u001b[0m \u001b[0mvar2\u001b[0m\u001b[0;34m\u001b[0m\u001b[0;34m\u001b[0m\u001b[0m\n\u001b[1;32m      6\u001b[0m \u001b[0;34m\u001b[0m\u001b[0m\n\u001b[0;32m----> 7\u001b[0;31m \u001b[0madd_these_things\u001b[0m\u001b[0;34m(\u001b[0m\u001b[0mvar1\u001b[0m\u001b[0;34m,\u001b[0m\u001b[0mvar2\u001b[0m\u001b[0;34m)\u001b[0m\u001b[0;34m\u001b[0m\u001b[0;34m\u001b[0m\u001b[0m\n\u001b[0m",
            "\u001b[0;32m<ipython-input-16-114a5b31f416>\u001b[0m in \u001b[0;36madd_these_things\u001b[0;34m(var1, var2)\u001b[0m\n\u001b[1;32m      3\u001b[0m \u001b[0;34m\u001b[0m\u001b[0m\n\u001b[1;32m      4\u001b[0m \u001b[0;32mdef\u001b[0m \u001b[0madd_these_things\u001b[0m\u001b[0;34m(\u001b[0m\u001b[0mvar1\u001b[0m\u001b[0;34m,\u001b[0m\u001b[0mvar2\u001b[0m\u001b[0;34m)\u001b[0m\u001b[0;34m:\u001b[0m\u001b[0;34m\u001b[0m\u001b[0;34m\u001b[0m\u001b[0m\n\u001b[0;32m----> 5\u001b[0;31m   \u001b[0;32mreturn\u001b[0m \u001b[0mvar1\u001b[0m \u001b[0;34m+\u001b[0m \u001b[0mvar2\u001b[0m\u001b[0;34m\u001b[0m\u001b[0;34m\u001b[0m\u001b[0m\n\u001b[0m\u001b[1;32m      6\u001b[0m \u001b[0;34m\u001b[0m\u001b[0m\n\u001b[1;32m      7\u001b[0m \u001b[0madd_these_things\u001b[0m\u001b[0;34m(\u001b[0m\u001b[0mvar1\u001b[0m\u001b[0;34m,\u001b[0m\u001b[0mvar2\u001b[0m\u001b[0;34m)\u001b[0m\u001b[0;34m\u001b[0m\u001b[0;34m\u001b[0m\u001b[0m\n",
            "\u001b[0;31mTypeError\u001b[0m: unsupported operand type(s) for +: 'int' and 'str'"
          ]
        }
      ]
    },
    {
      "cell_type": "code",
      "source": [
        "# document datatypes -- define parameters in function and define variable/return dtypes\n",
        "def add_numbers(var3: int, var4: int) -> int:\n",
        "  return var3 + var4"
      ],
      "metadata": {
        "id": "_qQkpjtFdddC"
      },
      "execution_count": 20,
      "outputs": []
    },
    {
      "cell_type": "code",
      "source": [
        "var3, var4 = 2342, 2345\n",
        "add_numbers(var3, var4)"
      ],
      "metadata": {
        "colab": {
          "base_uri": "https://localhost:8080/"
        },
        "id": "JVrYP9nMd4jw",
        "outputId": "d3f3932c-7cf5-4be5-98e7-5480ecc49104"
      },
      "execution_count": 21,
      "outputs": [
        {
          "output_type": "execute_result",
          "data": {
            "text/plain": [
              "4687"
            ]
          },
          "metadata": {},
          "execution_count": 21
        }
      ]
    },
    {
      "cell_type": "code",
      "source": [
        "# will show you what you defined\n",
        "add_numbers.__annotations__"
      ],
      "metadata": {
        "colab": {
          "base_uri": "https://localhost:8080/"
        },
        "id": "_fQbA2T5eYKG",
        "outputId": "0a2e6d1c-bb1a-4d37-b425-fd74c21e26d9"
      },
      "execution_count": 22,
      "outputs": [
        {
          "output_type": "execute_result",
          "data": {
            "text/plain": [
              "{'var3': int, 'var4': int, 'return': int}"
            ]
          },
          "metadata": {},
          "execution_count": 22
        }
      ]
    },
    {
      "cell_type": "code",
      "source": [
        "# update a function with validation code\n",
        "def add_numbers(var3: int, var4: int) -> int:\n",
        "  if (type(var3) == int) and (type(var4) == int):\n",
        "    return var3 + var4\n",
        "  else:\n",
        "    print(\"You need two integers to use this fcn\")\n",
        "\n",
        "add_numbers(17,23)"
      ],
      "metadata": {
        "colab": {
          "base_uri": "https://localhost:8080/"
        },
        "id": "cdeZHCH9fKAp",
        "outputId": "4ba7db6a-b349-4fd4-c780-49f7d96eee69"
      },
      "execution_count": 28,
      "outputs": [
        {
          "output_type": "execute_result",
          "data": {
            "text/plain": [
              "40"
            ]
          },
          "metadata": {},
          "execution_count": 28
        }
      ]
    },
    {
      "cell_type": "code",
      "source": [
        "def add_numbers(var3: int, var4: int) -> int:\n",
        "  if (type(var3) == int) and (type(var4) == int):\n",
        "    return var3 + var4\n",
        "  else:\n",
        "    print(\"You need two integers to use this fcn\")\n",
        "\n",
        "add_numbers(17,\"bananas\")"
      ],
      "metadata": {
        "colab": {
          "base_uri": "https://localhost:8080/"
        },
        "id": "FKIeZvHDfneA",
        "outputId": "4b4c8154-cf9a-4299-c232-ba41875d0cd5"
      },
      "execution_count": 29,
      "outputs": [
        {
          "output_type": "stream",
          "name": "stdout",
          "text": [
            "You need two integers to use this fcn\n"
          ]
        }
      ]
    },
    {
      "cell_type": "code",
      "source": [
        "# input prompt\n",
        "def add_numbers():\n",
        "  var3 = input(\"Give me a first number:\")\n",
        "  var4 = input(\"Give me a second number:\")\n",
        "  return int(var3) + int(var4)\n",
        "\n",
        "add_numbers()"
      ],
      "metadata": {
        "colab": {
          "base_uri": "https://localhost:8080/"
        },
        "id": "Hy0s-0jVf0Ud",
        "outputId": "05ba8663-a8f2-4100-dc88-32b14e6fac78"
      },
      "execution_count": 33,
      "outputs": [
        {
          "name": "stdout",
          "output_type": "stream",
          "text": [
            "Give me a first number:44\n",
            "Give me a second number:77\n"
          ]
        },
        {
          "output_type": "execute_result",
          "data": {
            "text/plain": [
              "121"
            ]
          },
          "metadata": {},
          "execution_count": 33
        }
      ]
    }
  ]
}