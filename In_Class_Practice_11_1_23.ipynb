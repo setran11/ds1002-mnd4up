{
  "nbformat": 4,
  "nbformat_minor": 0,
  "metadata": {
    "colab": {
      "provenance": [],
      "authorship_tag": "ABX9TyOfSz2B/ugfq/NN5+YWEhcF",
      "include_colab_link": true
    },
    "kernelspec": {
      "name": "python3",
      "display_name": "Python 3"
    },
    "language_info": {
      "name": "python"
    }
  },
  "cells": [
    {
      "cell_type": "markdown",
      "metadata": {
        "id": "view-in-github",
        "colab_type": "text"
      },
      "source": [
        "<a href=\"https://colab.research.google.com/github/setran11/ds1002-mnd4up/blob/main/In_Class_Practice_11_1_23.ipynb\" target=\"_parent\"><img src=\"https://colab.research.google.com/assets/colab-badge.svg\" alt=\"Open In Colab\"/></a>"
      ]
    },
    {
      "cell_type": "markdown",
      "source": [
        "Error / Exception Handling"
      ],
      "metadata": {
        "id": "wTR7BlNjORy7"
      }
    },
    {
      "cell_type": "code",
      "execution_count": 7,
      "metadata": {
        "colab": {
          "base_uri": "https://localhost:8080/"
        },
        "id": "Wq_nqHSsNt5P",
        "outputId": "4429f1e7-ef6c-45a9-d87c-ae8fb397f93d"
      },
      "outputs": [
        {
          "output_type": "stream",
          "name": "stdout",
          "text": [
            "This first element is 5\n",
            "An indexing error has occurred\n"
          ]
        }
      ],
      "source": [
        "mylist = [5, 6, 7]\n",
        "\n",
        "try:\n",
        "  print(\"This first element is \" + str(mylist[0]))\n",
        "  print(\"The fourth element is \" + str(mylist[3]))\n",
        "\n",
        "except IndexError:\n",
        "  print(\"An indexing error has occurred\")\n",
        "\n",
        "except ValueError:\n",
        "  print(\"An error in value has occurred\")\n",
        "\n",
        "else:\n",
        "  print(\"I have tried everything I can think of\")"
      ]
    },
    {
      "cell_type": "code",
      "source": [
        "mylist = [5, 6, 7]\n",
        "\n",
        "try:\n",
        "  print(\"This first element is \" + str(mylist[0]))\n",
        "  print(\"The fourth element is \" + str(mylist[3]))\n",
        "\n",
        "except Exception as e:\n",
        "  print(f\"An error has occured: {e}\")\n",
        "\n",
        "finally:\n",
        "  print(\"I have looked for errors and exceptions\")\n",
        "# this is something that must run whether the process succeded or excepted"
      ],
      "metadata": {
        "colab": {
          "base_uri": "https://localhost:8080/"
        },
        "id": "wtNd62KPPK7M",
        "outputId": "0a2970c0-7186-41b0-b0c4-7a5cbfc83061"
      },
      "execution_count": 12,
      "outputs": [
        {
          "output_type": "stream",
          "name": "stdout",
          "text": [
            "This first element is 5\n",
            "An error has occured: list index out of range\n",
            "I have looked for errors and exceptions\n"
          ]
        }
      ]
    },
    {
      "cell_type": "markdown",
      "source": [
        "In Class Practice"
      ],
      "metadata": {
        "id": "Zz7M48KPQ0Xd"
      }
    },
    {
      "cell_type": "markdown",
      "source": [
        "No Exception"
      ],
      "metadata": {
        "id": "3a1bM6PYRhrh"
      }
    },
    {
      "cell_type": "code",
      "source": [
        "def fetch(obj, index):\n",
        "  return obj[index]"
      ],
      "metadata": {
        "id": "TXyOYQk-Q1xR"
      },
      "execution_count": 21,
      "outputs": []
    },
    {
      "cell_type": "code",
      "source": [
        "fetch(\"moon\",3)"
      ],
      "metadata": {
        "colab": {
          "base_uri": "https://localhost:8080/",
          "height": 35
        },
        "id": "V1TyMFXRQ7jp",
        "outputId": "cef81d1b-05a7-4f26-85c3-eefaba2a426e"
      },
      "execution_count": 22,
      "outputs": [
        {
          "output_type": "execute_result",
          "data": {
            "text/plain": [
              "'n'"
            ],
            "application/vnd.google.colaboratory.intrinsic+json": {
              "type": "string"
            }
          },
          "metadata": {},
          "execution_count": 22
        }
      ]
    },
    {
      "cell_type": "code",
      "source": [
        "fetch(\"moon\",4)"
      ],
      "metadata": {
        "colab": {
          "base_uri": "https://localhost:8080/",
          "height": 250
        },
        "id": "tbov-m1_RQ-l",
        "outputId": "a7b9712d-cfa4-4c3f-ac85-d7dd14d47c63"
      },
      "execution_count": 23,
      "outputs": [
        {
          "output_type": "error",
          "ename": "IndexError",
          "evalue": "ignored",
          "traceback": [
            "\u001b[0;31m---------------------------------------------------------------------------\u001b[0m",
            "\u001b[0;31mIndexError\u001b[0m                                Traceback (most recent call last)",
            "\u001b[0;32m<ipython-input-23-1b96efac9c14>\u001b[0m in \u001b[0;36m<cell line: 1>\u001b[0;34m()\u001b[0m\n\u001b[0;32m----> 1\u001b[0;31m \u001b[0mfetch\u001b[0m\u001b[0;34m(\u001b[0m\u001b[0;34m\"moon\"\u001b[0m\u001b[0;34m,\u001b[0m\u001b[0;36m4\u001b[0m\u001b[0;34m)\u001b[0m\u001b[0;34m\u001b[0m\u001b[0;34m\u001b[0m\u001b[0m\n\u001b[0m",
            "\u001b[0;32m<ipython-input-21-afb7025f001b>\u001b[0m in \u001b[0;36mfetch\u001b[0;34m(obj, index)\u001b[0m\n\u001b[1;32m      1\u001b[0m \u001b[0;32mdef\u001b[0m \u001b[0mfetch\u001b[0m\u001b[0;34m(\u001b[0m\u001b[0mobj\u001b[0m\u001b[0;34m,\u001b[0m \u001b[0mindex\u001b[0m\u001b[0;34m)\u001b[0m\u001b[0;34m:\u001b[0m\u001b[0;34m\u001b[0m\u001b[0;34m\u001b[0m\u001b[0m\n\u001b[0;32m----> 2\u001b[0;31m   \u001b[0;32mreturn\u001b[0m \u001b[0mobj\u001b[0m\u001b[0;34m[\u001b[0m\u001b[0mindex\u001b[0m\u001b[0;34m]\u001b[0m\u001b[0;34m\u001b[0m\u001b[0;34m\u001b[0m\u001b[0m\n\u001b[0m",
            "\u001b[0;31mIndexError\u001b[0m: string index out of range"
          ]
        }
      ]
    },
    {
      "cell_type": "markdown",
      "source": [
        "With Exception"
      ],
      "metadata": {
        "id": "-rv60pX_RlK1"
      }
    },
    {
      "cell_type": "code",
      "source": [
        "def fetch(obj, index):\n",
        "  try:\n",
        "    return obj[index]\n",
        "  except Exception as e:\n",
        "    print(f\"Exception caught: {e}\")"
      ],
      "metadata": {
        "id": "0YljFBQ-RTkO"
      },
      "execution_count": 24,
      "outputs": []
    },
    {
      "cell_type": "code",
      "source": [
        "fetch(\"moon\",4)"
      ],
      "metadata": {
        "colab": {
          "base_uri": "https://localhost:8080/"
        },
        "id": "97B6HBxqRdY6",
        "outputId": "b07cf8c4-1d34-45ba-ebd1-f9a02fe9f31a"
      },
      "execution_count": 25,
      "outputs": [
        {
          "output_type": "stream",
          "name": "stdout",
          "text": [
            "Exception caught: string index out of range\n"
          ]
        }
      ]
    },
    {
      "cell_type": "markdown",
      "source": [
        "Specific Exception Types"
      ],
      "metadata": {
        "id": "PA6oVvw-SC-r"
      }
    },
    {
      "cell_type": "code",
      "source": [
        "try:\n",
        "  f = open('myfile.txt')\n",
        "  s = f.readline()\n",
        "  i = int(s.strip())\n",
        "\n",
        "except IOError as e:\n",
        "  print(f\"Exception caught: {e}\")\n",
        "\n",
        "# except IOError as (errno, strerror):\n",
        "#   print(\"I/O error ({e}): {1}\".format(errno,strerror))\n",
        "# except ValueError\n",
        "#   print(\"Could not convert data to an integer.\")\n",
        "# except:\n",
        "#   print(\"Unexpected error:\", sys.exc_info()[0])\n",
        "#   raise"
      ],
      "metadata": {
        "colab": {
          "base_uri": "https://localhost:8080/"
        },
        "id": "6AwFumXqSEaK",
        "outputId": "58f38538-0d2d-491f-f081-214b67725815"
      },
      "execution_count": 27,
      "outputs": [
        {
          "output_type": "stream",
          "name": "stdout",
          "text": [
            "Exception caught: [Errno 2] No such file or directory: 'myfile.txt'\n"
          ]
        }
      ]
    },
    {
      "cell_type": "code",
      "source": [
        "# everything here -- will catch every possible case of what might go wrong\n",
        "\n",
        "import sys\n",
        "\n",
        "def foolme():\n",
        "  try:\n",
        "    raise IndexError(\"blah blah\")\n",
        "  except Exception as e:\n",
        "    print(f\"An exception has been thrown: {e}\")\n",
        "  else:\n",
        "    print(\"Else has happened\")\n",
        "  finally:\n",
        "    print(\"Finally has happened\")\n",
        "    sys.exit(1)\n",
        "\n",
        "foolme()"
      ],
      "metadata": {
        "colab": {
          "base_uri": "https://localhost:8080/",
          "height": 197
        },
        "id": "YhLpWz1XVGsD",
        "outputId": "e7150ac9-4218-420e-de16-17c3f6dc1d0f"
      },
      "execution_count": 39,
      "outputs": [
        {
          "output_type": "stream",
          "name": "stdout",
          "text": [
            "An exception has been thrown: blah blah\n",
            "Finally has happened\n"
          ]
        },
        {
          "output_type": "error",
          "ename": "SystemExit",
          "evalue": "ignored",
          "traceback": [
            "An exception has occurred, use %tb to see the full traceback.\n",
            "\u001b[0;31mSystemExit\u001b[0m\u001b[0;31m:\u001b[0m 1\n"
          ]
        },
        {
          "output_type": "stream",
          "name": "stderr",
          "text": [
            "/usr/local/lib/python3.10/dist-packages/IPython/core/interactiveshell.py:3561: UserWarning: To exit: use 'exit', 'quit', or Ctrl-D.\n",
            "  warn(\"To exit: use 'exit', 'quit', or Ctrl-D.\", stacklevel=1)\n"
          ]
        }
      ]
    }
  ]
}