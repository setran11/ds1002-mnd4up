{
  "nbformat": 4,
  "nbformat_minor": 0,
  "metadata": {
    "colab": {
      "provenance": [],
      "include_colab_link": true
    },
    "kernelspec": {
      "name": "ir",
      "display_name": "R"
    },
    "language_info": {
      "name": "R"
    }
  },
  "cells": [
    {
      "cell_type": "markdown",
      "metadata": {
        "id": "view-in-github",
        "colab_type": "text"
      },
      "source": [
        "<a href=\"https://colab.research.google.com/github/setran11/ds1002-mnd4up/blob/main/notebooks/20-introducing-R.ipynb\" target=\"_parent\"><img src=\"https://colab.research.google.com/assets/colab-badge.svg\" alt=\"Open In Colab\"/></a>"
      ]
    },
    {
      "cell_type": "markdown",
      "source": [
        "# Introducing R\n",
        "\n",
        "<img align=\"right\" width=\"200\" height=\"200\" src=\"https://stamsgroup.com/wp-content/uploads/2020/08/R.programming-300x300.png\">\n",
        "\n",
        "**What is R?** R is a programming language for statistical computing and graphics supported by the R Core Team and the R Foundation for Statistical Computing. It was created at the University of Auckland in 1991 and became an open source project in 1995.\n",
        "\n",
        "**What are the pros and cons of R?**\n",
        "\n",
        "There are a few advantages R has over Python in the realm of statistics and data analysis:\n",
        "\n",
        "- Built for statistics\n",
        "- Data visualization\n",
        "- Additional statistical packages\n",
        "- Data wrangling\n",
        "- Academic focus\n",
        "- Customizable\n",
        "\n",
        "Disadvantages of R vs. Python:\n",
        "\n",
        "- Less readable\n",
        "- More difficult to learn well\n",
        "- Not as beginner-friendly\n",
        "\n",
        "- - -"
      ],
      "metadata": {
        "id": "FK-OA1E3FGOl"
      }
    },
    {
      "cell_type": "markdown",
      "source": [
        "## The Basics\n",
        "\n",
        "### Design:\n",
        "\n",
        "-   Designed to support statistical computing\n",
        "-   Very strong community\n",
        "-   Many domain-specific functions are built in\n",
        "-   Vector first thinking\n",
        "-   Everything is an object\n",
        "\n",
        "### R Syntax\n",
        "\n",
        "-   Syntax loosely follows traditional `C`-style\n",
        "    -   **Braces** `{` and `}` are used to form blocks.\n",
        "    -   **Semi-colons** are used optionally to end statements, required\n",
        "        if on same line.\n",
        "-   **Assignments** are made with `<-` or `->` (or `=`)\n",
        "-   **Dots** `.` have no special meaning -- they are not operators.\n",
        "-   Single and double **quotes** have the same meaning, but double\n",
        "    quotes tend to be preferred.\n",
        "    -   Use single quotes if you expect your string to contain double\n",
        "        quotes.\n",
        "\n",
        "- - -"
      ],
      "metadata": {
        "id": "w2AT-cm7GJkO"
      }
    },
    {
      "cell_type": "markdown",
      "source": [
        "## Variables\n",
        "\n",
        "Like other languages, variables (known as \"objects\" in R) can be named arbitrarily. The limits on naming are:\n",
        "\n",
        "- A variable name must start with a letter and can be a combination of letters, digits, period(.)\n",
        "and underscore(_).\n",
        "- If it starts with period(.), it cannot be followed by a digit.\n",
        "- A variable name cannot start with a number or underscore (_)\n",
        "- Variable names are case-sensitive (age, Age and AGE are three different variables)\n",
        "- Reserved words cannot be used as variables (TRUE, FALSE, NULL, if...)\n",
        "\n",
        "To assign a value to a variable, use the ` <- ` notation, which suggests \"pushing\" value into the variable.\n",
        "\n",
        "Note: Just like in Python, variables/objects can be ANYTHING. A string, an integer, a data frame, a list, etc. And just like in Python you can always print out that variable to see what it contains."
      ],
      "metadata": {
        "id": "igcp_r77Hu20"
      }
    },
    {
      "cell_type": "code",
      "source": [
        "# comments also use hashtags to indicate they are comments!\n",
        "# let's create an object and populate it.\n",
        "\n",
        "myvar <- 1.45"
      ],
      "metadata": {
        "id": "wULaaJZ_IRhV"
      },
      "execution_count": null,
      "outputs": []
    },
    {
      "cell_type": "code",
      "source": [
        "# you can learn what datatype an object is using the typeof() function.\n",
        "# A \"double\" is a type of integer.\n",
        "\n",
        "typeof(myvar)"
      ],
      "metadata": {
        "id": "DdETH23sIcr5",
        "outputId": "41bea62b-294b-43dd-eb12-0615ab154e50",
        "colab": {
          "base_uri": "https://localhost:8080/",
          "height": 34
        }
      },
      "execution_count": null,
      "outputs": [
        {
          "output_type": "display_data",
          "data": {
            "text/html": [
              "'double'"
            ],
            "text/markdown": "'double'",
            "text/latex": "'double'",
            "text/plain": [
              "[1] \"double\""
            ]
          },
          "metadata": {}
        }
      ]
    },
    {
      "cell_type": "code",
      "source": [
        "# you can also assign in the other direction if you want (though the convention is R to L)\n",
        "\n",
        "\"mickey\" -> mousename\n",
        "mousename"
      ],
      "metadata": {
        "id": "jU9Q0JT_JgDJ",
        "outputId": "df44e498-5c1b-4523-f5a2-3a1f0590217b",
        "colab": {
          "base_uri": "https://localhost:8080/",
          "height": 34
        }
      },
      "execution_count": null,
      "outputs": [
        {
          "output_type": "display_data",
          "data": {
            "text/html": [
              "'mickey'"
            ],
            "text/markdown": "'mickey'",
            "text/latex": "'mickey'",
            "text/plain": [
              "[1] \"mickey\""
            ]
          },
          "metadata": {}
        }
      ]
    },
    {
      "cell_type": "code",
      "source": [
        "# Another very basic operation is to concatenate values into an object using the c() function:\n",
        "\n",
        "myname <- c(\"Bob\", \"Dylan\")\n",
        "myname"
      ],
      "metadata": {
        "id": "E-YTJ7MxJ1Kr",
        "outputId": "b697b9a7-bccc-4116-84e1-0363243f6540",
        "colab": {
          "base_uri": "https://localhost:8080/",
          "height": 34
        }
      },
      "execution_count": null,
      "outputs": [
        {
          "output_type": "display_data",
          "data": {
            "text/html": [
              "<style>\n",
              ".list-inline {list-style: none; margin:0; padding: 0}\n",
              ".list-inline>li {display: inline-block}\n",
              ".list-inline>li:not(:last-child)::after {content: \"\\00b7\"; padding: 0 .5ex}\n",
              "</style>\n",
              "<ol class=list-inline><li>'Bob'</li><li>'Dylan'</li></ol>\n"
            ],
            "text/markdown": "1. 'Bob'\n2. 'Dylan'\n\n\n",
            "text/latex": "\\begin{enumerate*}\n\\item 'Bob'\n\\item 'Dylan'\n\\end{enumerate*}\n",
            "text/plain": [
              "[1] \"Bob\"   \"Dylan\""
            ]
          },
          "metadata": {}
        }
      ]
    },
    {
      "cell_type": "markdown",
      "source": [
        "### R Data Types\n",
        "\n",
        "There are several basic R data types.\n",
        "\n",
        "-   [Numeric](#scrollTo=hNZPBBDdHKzi&line=35&uniqifier=1)\n",
        "-   [Integer](#scrollTo=eikm2wiRHiC_&line=47&uniqifier=1)\n",
        "-   Complex\n",
        "-   [Logical](#scrollTo=fYk9koTOHYxR&line=42&uniqifier=1)\n",
        "-   [Character](#scrollTo=nnEP2VnkHPkd&line=61&uniqifier=1)\n"
      ],
      "metadata": {
        "id": "Nf2zdOlEHofg"
      }
    },
    {
      "cell_type": "markdown",
      "source": [
        "## Numeric\n",
        "\n",
        "Decimal values are called \"numerics\" in R.\n",
        "\n",
        "It is the **default** computational data type.\n",
        "\n",
        "If we assign a decimal value to a variable x, x will be of numeric type:\n",
        "\n",
        "```{r}\n",
        "x <- 10.5       # assign a decimal value\n",
        "x              # print the value of x\n",
        "```\n",
        "\n",
        "```{r}\n",
        "class(x)      # print the class name of x\n",
        "```\n",
        "\n",
        "Even if we assign an integer to a variable k, it will still be saved\n",
        "as a numeric value.\n",
        "\n",
        "```{r}\n",
        "k <- 1\n",
        "k              # print the value of k\n",
        "```\n",
        "\n",
        "```{r}\n",
        "class(k)       # print the class name of k\n",
        "```\n",
        "\n",
        "That k is not an integer can be confirmed with `is.integer()`:\n",
        "\n",
        "```{r}\n",
        "is.integer(k)  # is k an integer?\n",
        "```\n"
      ],
      "metadata": {
        "id": "hNZPBBDdHKzi"
      }
    },
    {
      "cell_type": "markdown",
      "source": [
        "## Integers\n",
        "\n",
        "To create an integer variable in R, we use `as.integer()`.\n",
        "\n",
        "```{r}\n",
        "y <- as.integer(3)\n",
        "y              # print the value of y\n",
        "```\n",
        "\n",
        "```{r}\n",
        "class(y)       # print the class name of y\n",
        "is.integer(y)  # is y an integer?\n",
        "```\n",
        "\n",
        "We can also declare an integer by appending an `L` suffix.\n",
        "\n",
        "```{r}\n",
        "y <- 3L\n",
        "is.integer(y)  # is y an integer?\n",
        "```\n",
        "\n",
        "We can coerce, or cast, a numeric value into an integer with\n",
        "`as.integer()`.\n",
        "\n",
        "```{r}\n",
        "as.integer(3.14)    # coerce a numeric value\n",
        "```\n",
        "\n",
        "And we can parse a string for decimal values in much the same way.\n",
        "\n",
        "```{r}\n",
        "as.integer(\"5.27\")  # coerce a decimal string\n",
        "```\n",
        "\n",
        "On the other hand, it is erroneous trying to parse a non-decimal string.\n",
        "\n",
        "```{r}\n",
        "as.integer(\"Joe\")   # coerce an non-decimal string\n",
        "```\n",
        "\n",
        "We can convert booleans to numbers this way, too.\n",
        "\n",
        "```{r}\n",
        "as.integer(TRUE)    # the numeric value of TRUE\n",
        "as.integer(FALSE)   # the numeric value of FALSE\n",
        "```\n"
      ],
      "metadata": {
        "id": "eikm2wiRHiC_"
      }
    },
    {
      "cell_type": "markdown",
      "source": [
        "## Math Operators\n",
        "\n",
        "| **Operator**   | **Description**             |\n",
        "|----------------|-----------------------------|\n",
        "| **+**          | addition                    |\n",
        "| **-**          | subtraction                 |\n",
        "| **\\***         | multiplication              |\n",
        "| **/**          | division                    |\n",
        "| **\\^ or \\*\\*** | exponentiation              |\n",
        "| **x %% y**     | modulus (x mod y) 5%%2 is 1 |\n",
        "| **x %/% y**    | integer division 5%/%2 is 2 |\n",
        "\n"
      ],
      "metadata": {
        "id": "vXV6GU1KHeOe"
      }
    },
    {
      "cell_type": "code",
      "source": [
        "4^2 * (4 + 8 * 2)\n",
        "14^3\n",
        "7 %/% 3"
      ],
      "metadata": {
        "id": "0w2Rr2xVWKpU",
        "outputId": "cdc7b862-ed9f-4828-eda8-fad97b076e57",
        "colab": {
          "base_uri": "https://localhost:8080/",
          "height": 69
        }
      },
      "execution_count": 1,
      "outputs": [
        {
          "output_type": "display_data",
          "data": {
            "text/html": [
              "320"
            ],
            "text/markdown": "320",
            "text/latex": "320",
            "text/plain": [
              "[1] 320"
            ]
          },
          "metadata": {}
        },
        {
          "output_type": "display_data",
          "data": {
            "text/html": [
              "2744"
            ],
            "text/markdown": "2744",
            "text/latex": "2744",
            "text/plain": [
              "[1] 2744"
            ]
          },
          "metadata": {}
        },
        {
          "output_type": "display_data",
          "data": {
            "text/html": [
              "2"
            ],
            "text/markdown": "2",
            "text/latex": "2",
            "text/plain": [
              "[1] 2"
            ]
          },
          "metadata": {}
        }
      ]
    },
    {
      "cell_type": "markdown",
      "source": [
        "## Logical (Boolean)\n",
        "\n",
        "A logical value is often created via comparison between variables.\n",
        "\n",
        "```{r}\n",
        "x <- 1\n",
        "y <- 2   # sample values\n",
        "z <- x > y      # is x larger than y?\n",
        "z              # print the logical value\n",
        "```\n",
        "\n",
        "```{r}\n",
        "class(z)       # print the class name of z\n",
        "```"
      ],
      "metadata": {
        "id": "fYk9koTOHYxR"
      }
    },
    {
      "cell_type": "code",
      "source": [
        "x <- 1\n",
        "y <- 2\n",
        "\n",
        "x > y\n",
        "z <- x > y\n",
        "class(z)"
      ],
      "metadata": {
        "id": "4an-qZ_0Vqli",
        "outputId": "9091924a-f31c-4e23-aa86-6b11da21ec7d",
        "colab": {
          "base_uri": "https://localhost:8080/",
          "height": 52
        }
      },
      "execution_count": 2,
      "outputs": [
        {
          "output_type": "display_data",
          "data": {
            "text/html": [
              "FALSE"
            ],
            "text/markdown": "FALSE",
            "text/latex": "FALSE",
            "text/plain": [
              "[1] FALSE"
            ]
          },
          "metadata": {}
        },
        {
          "output_type": "display_data",
          "data": {
            "text/html": [
              "'logical'"
            ],
            "text/markdown": "'logical'",
            "text/latex": "'logical'",
            "text/plain": [
              "[1] \"logical\""
            ]
          },
          "metadata": {}
        }
      ]
    },
    {
      "cell_type": "markdown",
      "source": [
        "### Logical Operators\n",
        "\n",
        "Standard logical operations are `&` (and), `|` (or), and `!` (negation).\n",
        "\n",
        "```{r}\n",
        "u <- TRUE\n",
        "v <- FALSE\n",
        "u & v          # u AND v\n",
        "```\n",
        "\n",
        "```{r}\n",
        "u | v          # u OR v\n",
        "```\n",
        "\n",
        "```{r}\n",
        "!u             # negation of u\n",
        "```\n",
        "\n",
        "Note that you can use `T` and `F` instead of `TRUE` and `FALSE`.\n",
        "\n",
        "```{r}\n",
        "a <- T\n",
        "b <- F\n",
        "a & b\n",
        "```"
      ],
      "metadata": {
        "id": "HJGzf1uAVj8Y"
      }
    },
    {
      "cell_type": "code",
      "source": [
        "u <- TRUE\n",
        "v <- FALSE\n",
        "u & v"
      ],
      "metadata": {
        "id": "IgK4VQvaVij9",
        "outputId": "5451fce3-f506-4990-cd11-ad2f7549c3c2",
        "colab": {
          "base_uri": "https://localhost:8080/",
          "height": 34
        }
      },
      "execution_count": 3,
      "outputs": [
        {
          "output_type": "display_data",
          "data": {
            "text/html": [
              "FALSE"
            ],
            "text/markdown": "FALSE",
            "text/latex": "FALSE",
            "text/plain": [
              "[1] FALSE"
            ]
          },
          "metadata": {}
        }
      ]
    },
    {
      "cell_type": "code",
      "source": [
        "u | v"
      ],
      "metadata": {
        "id": "PPvqWm-jV54x",
        "outputId": "47d397ae-80ca-4b45-be35-3ace7a40d8ee",
        "colab": {
          "base_uri": "https://localhost:8080/",
          "height": 34
        }
      },
      "execution_count": 4,
      "outputs": [
        {
          "output_type": "display_data",
          "data": {
            "text/html": [
              "TRUE"
            ],
            "text/markdown": "TRUE",
            "text/latex": "TRUE",
            "text/plain": [
              "[1] TRUE"
            ]
          },
          "metadata": {}
        }
      ]
    },
    {
      "cell_type": "code",
      "source": [
        "!u"
      ],
      "metadata": {
        "id": "p-R2hyx_V8_h",
        "outputId": "53dd6bb8-5630-4d20-da3d-58dda7e9576f",
        "colab": {
          "base_uri": "https://localhost:8080/",
          "height": 34
        }
      },
      "execution_count": 5,
      "outputs": [
        {
          "output_type": "display_data",
          "data": {
            "text/html": [
              "FALSE"
            ],
            "text/markdown": "FALSE",
            "text/latex": "FALSE",
            "text/plain": [
              "[1] FALSE"
            ]
          },
          "metadata": {}
        }
      ]
    },
    {
      "cell_type": "markdown",
      "source": [
        "## Characters\n",
        "\n",
        "A character object is used to represent string values in R.\n",
        "\n",
        "We convert objects into character values with the `as.character()`\n",
        "function:\n",
        "\n",
        "```{r}\n",
        "x = as.character(3.14)\n",
        "x\n",
        "```\n",
        "\n",
        "```{r}\n",
        "class(x)       # print the class name of x\n",
        "```\n",
        "\n",
        "### `paste()`\n",
        "\n",
        "Two character values can be concatenated with the `paste()` function.\n",
        "\n",
        "```{r}\n",
        "fname <- \"Joe\"\n",
        "lname <-\"Smith\"\n",
        "paste(fname, lname)\n",
        "```\n",
        "\n",
        "`paste()` takes a `sep` argument:\n",
        "\n",
        "```{r}\n",
        "paste(\"A\", \"B\", \"C\", sep=\"--\")\n",
        "```\n",
        "\n",
        "### `sprintf()`\n",
        "\n",
        "However, it is often more convenient to create a readable string with\n",
        "the `sprintf()` function, which has a C language syntax.\n",
        "\n",
        "```{r}\n",
        "sprintf(\"%s has %d dollars\", \"Sam\", 100)\n",
        "```\n",
        "\n",
        "### `substr()`\n",
        "\n",
        "To extract a substring, we apply the `substr()` function.\n",
        "\n",
        "Here is an example showing how to extract the substring between the\n",
        "third and twelfth positions in a string.\n",
        "\n",
        "```{r}\n",
        "substr(\"Mary has a little lamb.\", start=3, stop=12)\n",
        "```\n",
        "\n",
        "### `sub()`\n",
        "\n",
        "And to replace the first occurrence of the word \"little\" by another word\n",
        "\"big\" in the string, we apply the `sub()` function.\n",
        "\n",
        "```{r}\n",
        "sub(\"little\", \"big\", \"Mary has a little lamb.\")\n",
        "```\n"
      ],
      "metadata": {
        "id": "nnEP2VnkHPkd"
      }
    },
    {
      "cell_type": "code",
      "source": [
        "# as.character()\n",
        "\n",
        "x = as.character(3.14)      # push integer into character\n",
        "x\n",
        "class(x)"
      ],
      "metadata": {
        "id": "Zq6_0FzjlHYf",
        "outputId": "fcc1d4a2-3176-4518-e3ac-79ba8d1a6c70",
        "colab": {
          "base_uri": "https://localhost:8080/",
          "height": 52
        }
      },
      "execution_count": 13,
      "outputs": [
        {
          "output_type": "display_data",
          "data": {
            "text/html": [
              "'3.14'"
            ],
            "text/markdown": "'3.14'",
            "text/latex": "'3.14'",
            "text/plain": [
              "[1] \"3.14\""
            ]
          },
          "metadata": {}
        },
        {
          "output_type": "display_data",
          "data": {
            "text/html": [
              "'character'"
            ],
            "text/markdown": "'character'",
            "text/latex": "'character'",
            "text/plain": [
              "[1] \"character\""
            ]
          },
          "metadata": {}
        }
      ]
    },
    {
      "cell_type": "code",
      "source": [
        "# paste()\n",
        "\n",
        "fname <- \"Joe\"\n",
        "lname <-\"Smith\"\n",
        "paste(fname, lname)     # concatenates by squishing together as one thing\n",
        "c(fname, lname)         # concatenates by adding together as two things"
      ],
      "metadata": {
        "id": "wOPnCSYgkSmg",
        "outputId": "2a8482f8-f92a-46c5-b490-b197ab4ab2e3",
        "colab": {
          "base_uri": "https://localhost:8080/",
          "height": 52
        }
      },
      "execution_count": 8,
      "outputs": [
        {
          "output_type": "display_data",
          "data": {
            "text/html": [
              "'Joe Smith'"
            ],
            "text/markdown": "'Joe Smith'",
            "text/latex": "'Joe Smith'",
            "text/plain": [
              "[1] \"Joe Smith\""
            ]
          },
          "metadata": {}
        },
        {
          "output_type": "display_data",
          "data": {
            "text/html": [
              "<style>\n",
              ".list-inline {list-style: none; margin:0; padding: 0}\n",
              ".list-inline>li {display: inline-block}\n",
              ".list-inline>li:not(:last-child)::after {content: \"\\00b7\"; padding: 0 .5ex}\n",
              "</style>\n",
              "<ol class=list-inline><li>'Joe'</li><li>'Smith'</li></ol>\n"
            ],
            "text/markdown": "1. 'Joe'\n2. 'Smith'\n\n\n",
            "text/latex": "\\begin{enumerate*}\n\\item 'Joe'\n\\item 'Smith'\n\\end{enumerate*}\n",
            "text/plain": [
              "[1] \"Joe\"   \"Smith\""
            ]
          },
          "metadata": {}
        }
      ]
    },
    {
      "cell_type": "code",
      "source": [
        "# sprintf()\n",
        "                                              # %s is string, %d is digit\n",
        "sprintf(\"%s has %d dollars\", \"Sam\", 100)      # concatenate as a string, injects appropriate info where % is, by order"
      ],
      "metadata": {
        "id": "WC2I01E2kqbW",
        "outputId": "8efcd5d4-12f0-469b-979c-481eea0cca73",
        "colab": {
          "base_uri": "https://localhost:8080/",
          "height": 34
        }
      },
      "execution_count": 10,
      "outputs": [
        {
          "output_type": "display_data",
          "data": {
            "text/html": [
              "'Sam has 100 dollars'"
            ],
            "text/markdown": "'Sam has 100 dollars'",
            "text/latex": "'Sam has 100 dollars'",
            "text/plain": [
              "[1] \"Sam has 100 dollars\""
            ]
          },
          "metadata": {}
        }
      ]
    },
    {
      "cell_type": "code",
      "source": [
        "# substr()\n",
        "                                                        # R INDEXES AS 1\n",
        "substr(\"Mary has a little lamb.\", start=3, stop=12)     # extract substring from a string"
      ],
      "metadata": {
        "id": "RCCYlPiolbr-",
        "outputId": "e8da2ced-57d9-4d4a-cccd-4c4998aba8de",
        "colab": {
          "base_uri": "https://localhost:8080/",
          "height": 34
        }
      },
      "execution_count": 17,
      "outputs": [
        {
          "output_type": "display_data",
          "data": {
            "text/html": [
              "'ry has a l'"
            ],
            "text/markdown": "'ry has a l'",
            "text/latex": "'ry has a l'",
            "text/plain": [
              "[1] \"ry has a l\""
            ]
          },
          "metadata": {}
        }
      ]
    },
    {
      "cell_type": "code",
      "source": [
        "# sub()\n",
        "\n",
        "sub(\"little\", \"big\", \"Mary has a little lamb.\")         # replace occurrence of a word by another word in a string"
      ],
      "metadata": {
        "id": "0MU2Lji1ls8d",
        "outputId": "475f2860-40c7-41e9-b858-9f739485e483",
        "colab": {
          "base_uri": "https://localhost:8080/",
          "height": 34
        }
      },
      "execution_count": 16,
      "outputs": [
        {
          "output_type": "display_data",
          "data": {
            "text/html": [
              "'Mary has a big lamb.'"
            ],
            "text/markdown": "'Mary has a big lamb.'",
            "text/latex": "'Mary has a big lamb.'",
            "text/plain": [
              "[1] \"Mary has a big lamb.\""
            ]
          },
          "metadata": {}
        }
      ]
    },
    {
      "cell_type": "markdown",
      "source": [
        "## R Data Structures\n",
        "\n",
        "Basic R comes with several data structures:\n",
        "\n",
        "- Vector\n",
        "- Matrix\n",
        "- Array\n",
        "- List\n",
        "- Data frame\n",
        "\n",
        "A **vector** is what is called an array in all other programming languages except R\n",
        "\n",
        "> A collection of cells with a fixed size where all cells hold the same data type (integers or characters or reals or whatever).\n",
        "\n",
        "A **matrix** is a two-dimensional vector (fixed size, all cell types the same).\n",
        "\n",
        "An **array** is a vector with one or more dimensions.\n",
        "\n",
        "> So, an array with one dimension is (almost) the same as a vector.An array with two dimensions is (almost) the same as a matrix.An array with three or more dimensions is an n-dimensional array.\n",
        "\n",
        "A **list** can hold items of different types and the list size can be increased on the fly.\n",
        "\n",
        "> List contents can be accessed either by index (like mylist[[1]]) or by name (like mylist$age).\n",
        "\n",
        "A **data frame** is called a table in most languages.\n",
        "\n",
        "> Each column holds the same type, and the columns can have header names. A data frame is essentially a kind of a list — a list of vectors each with the same length, but of varying data types.\n",
        "\n",
        "The two most frequently uses are **Vector** and **Data frame**.\n",
        "\n",
        "So, let's look more closely at vectors and data frames. We will also look at lists since they are used internally to construct data frames."
      ],
      "metadata": {
        "id": "NnIU8w8filRh"
      }
    },
    {
      "cell_type": "markdown",
      "source": [
        "### Vectors and `c()`\n",
        "\n",
        "A vector is a sequence of data elements of the same basic type.\n",
        "\n",
        "Members in a vector are officially called components, but many call them members.\n",
        "\n",
        "Vectors may be created with the `c()` function (\"c\" stands for combine).\n",
        "\n",
        "Here is a vector of three numeric values 2, 3 and 5."
      ],
      "metadata": {
        "id": "5R0Nvtt5i7eV"
      }
    },
    {
      "cell_type": "code",
      "source": [
        "c(2, 3, 5)      # populate a vector using c()"
      ],
      "metadata": {
        "id": "7d0Wx1ijihRA",
        "outputId": "c87d6531-d523-412a-8ce6-000f2fe1cc0e",
        "colab": {
          "base_uri": "https://localhost:8080/",
          "height": 34
        }
      },
      "execution_count": 19,
      "outputs": [
        {
          "output_type": "display_data",
          "data": {
            "text/html": [
              "<style>\n",
              ".list-inline {list-style: none; margin:0; padding: 0}\n",
              ".list-inline>li {display: inline-block}\n",
              ".list-inline>li:not(:last-child)::after {content: \"\\00b7\"; padding: 0 .5ex}\n",
              "</style>\n",
              "<ol class=list-inline><li>2</li><li>3</li><li>5</li></ol>\n"
            ],
            "text/markdown": "1. 2\n2. 3\n3. 5\n\n\n",
            "text/latex": "\\begin{enumerate*}\n\\item 2\n\\item 3\n\\item 5\n\\end{enumerate*}\n",
            "text/plain": [
              "[1] 2 3 5"
            ]
          },
          "metadata": {}
        }
      ]
    },
    {
      "cell_type": "markdown",
      "source": [
        "And here is a vector of logical values"
      ],
      "metadata": {
        "id": "u-jLSMh5jFPF"
      }
    },
    {
      "cell_type": "code",
      "source": [
        "z <- c(TRUE, FALSE, TRUE, FALSE, FALSE)     # can be assigned to a variable, load into memory\n",
        "z"
      ],
      "metadata": {
        "id": "jFXI4FuFjHJe",
        "outputId": "3c98f42b-26bd-4970-ea75-e5ca9410728d",
        "colab": {
          "base_uri": "https://localhost:8080/",
          "height": 34
        }
      },
      "execution_count": 22,
      "outputs": [
        {
          "output_type": "display_data",
          "data": {
            "text/html": [
              "<style>\n",
              ".list-inline {list-style: none; margin:0; padding: 0}\n",
              ".list-inline>li {display: inline-block}\n",
              ".list-inline>li:not(:last-child)::after {content: \"\\00b7\"; padding: 0 .5ex}\n",
              "</style>\n",
              "<ol class=list-inline><li>TRUE</li><li>FALSE</li><li>TRUE</li><li>FALSE</li><li>FALSE</li></ol>\n"
            ],
            "text/markdown": "1. TRUE\n2. FALSE\n3. TRUE\n4. FALSE\n5. FALSE\n\n\n",
            "text/latex": "\\begin{enumerate*}\n\\item TRUE\n\\item FALSE\n\\item TRUE\n\\item FALSE\n\\item FALSE\n\\end{enumerate*}\n",
            "text/plain": [
              "[1]  TRUE FALSE  TRUE FALSE FALSE"
            ]
          },
          "metadata": {}
        }
      ]
    },
    {
      "cell_type": "markdown",
      "source": [
        "A vector can contain character strings"
      ],
      "metadata": {
        "id": "ZXfI6SsWjJYt"
      }
    },
    {
      "cell_type": "code",
      "source": [
        "c(\"aa\", \"bb\", \"cc\", \"dd\", \"ee\")"
      ],
      "metadata": {
        "id": "gNN3LRNIjL4n",
        "outputId": "6a7e2d72-82b2-4dc4-c3da-aa9edefa26f0",
        "colab": {
          "base_uri": "https://localhost:8080/",
          "height": 34
        }
      },
      "execution_count": 23,
      "outputs": [
        {
          "output_type": "display_data",
          "data": {
            "text/html": [
              "<style>\n",
              ".list-inline {list-style: none; margin:0; padding: 0}\n",
              ".list-inline>li {display: inline-block}\n",
              ".list-inline>li:not(:last-child)::after {content: \"\\00b7\"; padding: 0 .5ex}\n",
              "</style>\n",
              "<ol class=list-inline><li>'aa'</li><li>'bb'</li><li>'cc'</li><li>'dd'</li><li>'ee'</li></ol>\n"
            ],
            "text/markdown": "1. 'aa'\n2. 'bb'\n3. 'cc'\n4. 'dd'\n5. 'ee'\n\n\n",
            "text/latex": "\\begin{enumerate*}\n\\item 'aa'\n\\item 'bb'\n\\item 'cc'\n\\item 'dd'\n\\item 'ee'\n\\end{enumerate*}\n",
            "text/plain": [
              "[1] \"aa\" \"bb\" \"cc\" \"dd\" \"ee\""
            ]
          },
          "metadata": {}
        }
      ]
    },
    {
      "cell_type": "markdown",
      "source": [
        "### Vectors from sequences using `:`, `seq()`, and `rep()`\n",
        "\n",
        "Vectors can be made out of sequences which may be generated in a few ways."
      ],
      "metadata": {
        "id": "6c-Hnsu3jRpl"
      }
    },
    {
      "cell_type": "code",
      "source": [
        "s1 <- 2:5\n",
        "s1"
      ],
      "metadata": {
        "id": "FKW05VypjYgH",
        "outputId": "c2e86721-86da-4ab1-dbf6-cec901582cc5",
        "colab": {
          "base_uri": "https://localhost:8080/",
          "height": 34
        }
      },
      "execution_count": 24,
      "outputs": [
        {
          "output_type": "display_data",
          "data": {
            "text/html": [
              "<style>\n",
              ".list-inline {list-style: none; margin:0; padding: 0}\n",
              ".list-inline>li {display: inline-block}\n",
              ".list-inline>li:not(:last-child)::after {content: \"\\00b7\"; padding: 0 .5ex}\n",
              "</style>\n",
              "<ol class=list-inline><li>2</li><li>3</li><li>4</li><li>5</li></ol>\n"
            ],
            "text/markdown": "1. 2\n2. 3\n3. 4\n4. 5\n\n\n",
            "text/latex": "\\begin{enumerate*}\n\\item 2\n\\item 3\n\\item 4\n\\item 5\n\\end{enumerate*}\n",
            "text/plain": [
              "[1] 2 3 4 5"
            ]
          },
          "metadata": {}
        }
      ]
    },
    {
      "cell_type": "markdown",
      "source": [
        "The `seq()` function is like Python's `range()`."
      ],
      "metadata": {
        "id": "sJZqItznjbIk"
      }
    },
    {
      "cell_type": "code",
      "source": [
        "s2 <- seq(from=10, to=500, by=13)     # can give it a range, can count by number\n",
        "s2"
      ],
      "metadata": {
        "id": "X5PgIRgGjfPX",
        "outputId": "e57b4dd7-792b-48ed-8b0d-064f9855d1d8",
        "colab": {
          "base_uri": "https://localhost:8080/",
          "height": 52
        }
      },
      "execution_count": 29,
      "outputs": [
        {
          "output_type": "display_data",
          "data": {
            "text/html": [
              "<style>\n",
              ".list-inline {list-style: none; margin:0; padding: 0}\n",
              ".list-inline>li {display: inline-block}\n",
              ".list-inline>li:not(:last-child)::after {content: \"\\00b7\"; padding: 0 .5ex}\n",
              "</style>\n",
              "<ol class=list-inline><li>10</li><li>23</li><li>36</li><li>49</li><li>62</li><li>75</li><li>88</li><li>101</li><li>114</li><li>127</li><li>140</li><li>153</li><li>166</li><li>179</li><li>192</li><li>205</li><li>218</li><li>231</li><li>244</li><li>257</li><li>270</li><li>283</li><li>296</li><li>309</li><li>322</li><li>335</li><li>348</li><li>361</li><li>374</li><li>387</li><li>400</li><li>413</li><li>426</li><li>439</li><li>452</li><li>465</li><li>478</li><li>491</li></ol>\n"
            ],
            "text/markdown": "1. 10\n2. 23\n3. 36\n4. 49\n5. 62\n6. 75\n7. 88\n8. 101\n9. 114\n10. 127\n11. 140\n12. 153\n13. 166\n14. 179\n15. 192\n16. 205\n17. 218\n18. 231\n19. 244\n20. 257\n21. 270\n22. 283\n23. 296\n24. 309\n25. 322\n26. 335\n27. 348\n28. 361\n29. 374\n30. 387\n31. 400\n32. 413\n33. 426\n34. 439\n35. 452\n36. 465\n37. 478\n38. 491\n\n\n",
            "text/latex": "\\begin{enumerate*}\n\\item 10\n\\item 23\n\\item 36\n\\item 49\n\\item 62\n\\item 75\n\\item 88\n\\item 101\n\\item 114\n\\item 127\n\\item 140\n\\item 153\n\\item 166\n\\item 179\n\\item 192\n\\item 205\n\\item 218\n\\item 231\n\\item 244\n\\item 257\n\\item 270\n\\item 283\n\\item 296\n\\item 309\n\\item 322\n\\item 335\n\\item 348\n\\item 361\n\\item 374\n\\item 387\n\\item 400\n\\item 413\n\\item 426\n\\item 439\n\\item 452\n\\item 465\n\\item 478\n\\item 491\n\\end{enumerate*}\n",
            "text/plain": [
              " [1]  10  23  36  49  62  75  88 101 114 127 140 153 166 179 192 205 218 231 244\n",
              "[20] 257 270 283 296 309 322 335 348 361 374 387 400 413 426 439 452 465 478 491"
            ]
          },
          "metadata": {}
        }
      ]
    },
    {
      "cell_type": "markdown",
      "source": [
        "The `rep()` function will created a series of repeated values"
      ],
      "metadata": {
        "id": "C7nDufK9jjwL"
      }
    },
    {
      "cell_type": "code",
      "source": [
        "s3 <- rep(1, 5)       # what to repeat, how many times to repeat\n",
        "s3"
      ],
      "metadata": {
        "id": "qvdVfyEJjmt_",
        "outputId": "e646b813-a06a-49d2-b7b1-b4210cca26d2",
        "colab": {
          "base_uri": "https://localhost:8080/",
          "height": 34
        }
      },
      "execution_count": 28,
      "outputs": [
        {
          "output_type": "display_data",
          "data": {
            "text/html": [
              "<style>\n",
              ".list-inline {list-style: none; margin:0; padding: 0}\n",
              ".list-inline>li {display: inline-block}\n",
              ".list-inline>li:not(:last-child)::after {content: \"\\00b7\"; padding: 0 .5ex}\n",
              "</style>\n",
              "<ol class=list-inline><li>1</li><li>1</li><li>1</li><li>1</li><li>1</li></ol>\n"
            ],
            "text/markdown": "1. 1\n2. 1\n3. 1\n4. 1\n5. 1\n\n\n",
            "text/latex": "\\begin{enumerate*}\n\\item 1\n\\item 1\n\\item 1\n\\item 1\n\\item 1\n\\end{enumerate*}\n",
            "text/plain": [
              "[1] 1 1 1 1 1"
            ]
          },
          "metadata": {}
        }
      ]
    },
    {
      "cell_type": "markdown",
      "source": [
        "### Length\n",
        "\n",
        "The number of members in a vector is given by the `length()` function."
      ],
      "metadata": {
        "id": "5pwWxJTvjpgJ"
      }
    },
    {
      "cell_type": "code",
      "source": [
        "length(c(\"aa\", \"bb\", \"cc\", \"dd\", \"ee\"))\n",
        "\n",
        "z <- c(\"aa\", \"bb\", \"cc\", \"dd\", \"ee\")      # assign it to a variable\n",
        "length(z)                                 # z is known that it is looking for length"
      ],
      "metadata": {
        "id": "ludZUHN2juYI",
        "outputId": "cdbab74c-3248-44d0-dcfc-14feb9940078",
        "colab": {
          "base_uri": "https://localhost:8080/",
          "height": 52
        }
      },
      "execution_count": 32,
      "outputs": [
        {
          "output_type": "display_data",
          "data": {
            "text/html": [
              "5"
            ],
            "text/markdown": "5",
            "text/latex": "5",
            "text/plain": [
              "[1] 5"
            ]
          },
          "metadata": {}
        },
        {
          "output_type": "display_data",
          "data": {
            "text/html": [
              "5"
            ],
            "text/markdown": "5",
            "text/latex": "5",
            "text/plain": [
              "[1] 5"
            ]
          },
          "metadata": {}
        }
      ]
    },
    {
      "cell_type": "markdown",
      "source": [
        "### Combining Vectors with `c()`\n",
        "\n",
        "Vectors can be combined via the `c()` function"
      ],
      "metadata": {
        "id": "qnwWuexHj1UJ"
      }
    },
    {
      "cell_type": "code",
      "source": [
        "# create a list\n",
        "\n",
        "n <- c(2, 3, 5)\n",
        "s <- c(\"aa\", \"bb\", \"cc\", \"dd\", \"ee\")\n",
        "c(n, s)"
      ],
      "metadata": {
        "id": "6KOj5-GEj5AV",
        "outputId": "56a9c631-e163-4529-e9ef-4b9c5c781d28",
        "colab": {
          "base_uri": "https://localhost:8080/",
          "height": 34
        }
      },
      "execution_count": 34,
      "outputs": [
        {
          "output_type": "display_data",
          "data": {
            "text/html": [
              "<style>\n",
              ".list-inline {list-style: none; margin:0; padding: 0}\n",
              ".list-inline>li {display: inline-block}\n",
              ".list-inline>li:not(:last-child)::after {content: \"\\00b7\"; padding: 0 .5ex}\n",
              "</style>\n",
              "<ol class=list-inline><li>'2'</li><li>'3'</li><li>'5'</li><li>'aa'</li><li>'bb'</li><li>'cc'</li><li>'dd'</li><li>'ee'</li></ol>\n"
            ],
            "text/markdown": "1. '2'\n2. '3'\n3. '5'\n4. 'aa'\n5. 'bb'\n6. 'cc'\n7. 'dd'\n8. 'ee'\n\n\n",
            "text/latex": "\\begin{enumerate*}\n\\item '2'\n\\item '3'\n\\item '5'\n\\item 'aa'\n\\item 'bb'\n\\item 'cc'\n\\item 'dd'\n\\item 'ee'\n\\end{enumerate*}\n",
            "text/plain": [
              "[1] \"2\"  \"3\"  \"5\"  \"aa\" \"bb\" \"cc\" \"dd\" \"ee\""
            ]
          },
          "metadata": {}
        }
      ]
    },
    {
      "cell_type": "markdown",
      "source": [
        "### Value Coercion\n",
        "\n",
        "Notice how the numeric values are being coerced into character strings when the two vectors are combined.\n",
        "\n",
        "This is necessary so as to maintain the same primitive data type for members in the same vector."
      ],
      "metadata": {
        "id": "FKyKCRfhkB3h"
      }
    },
    {
      "cell_type": "markdown",
      "source": [
        "### Vector Math\n",
        "\n",
        "Arithmetic operations of vectors are performed member-by-member, i.e., member-wise.\n",
        "\n",
        "For example, suppose we have two vectors a and b."
      ],
      "metadata": {
        "id": "zRi-TOjFkFfR"
      }
    },
    {
      "cell_type": "code",
      "source": [
        "a <- c(1, 3, 5, 7)\n",
        "b <- c(1, 2, 4, 8)"
      ],
      "metadata": {
        "id": "z9_FE4gukI9r"
      },
      "execution_count": 35,
      "outputs": []
    },
    {
      "cell_type": "markdown",
      "source": [
        "Then, if we multiply a by 5, we would get a vector with each of its members multiplied by 5."
      ],
      "metadata": {
        "id": "zLt9cB53kLIc"
      }
    },
    {
      "cell_type": "code",
      "source": [
        "# multiply vector a by 5\n",
        "\n",
        "5 * a"
      ],
      "metadata": {
        "id": "wNc6JAYykLuu",
        "outputId": "12e2855a-4fd9-4832-971b-ba3eff30d9c5",
        "colab": {
          "base_uri": "https://localhost:8080/",
          "height": 34
        }
      },
      "execution_count": 37,
      "outputs": [
        {
          "output_type": "display_data",
          "data": {
            "text/html": [
              "<style>\n",
              ".list-inline {list-style: none; margin:0; padding: 0}\n",
              ".list-inline>li {display: inline-block}\n",
              ".list-inline>li:not(:last-child)::after {content: \"\\00b7\"; padding: 0 .5ex}\n",
              "</style>\n",
              "<ol class=list-inline><li>5</li><li>15</li><li>25</li><li>35</li></ol>\n"
            ],
            "text/markdown": "1. 5\n2. 15\n3. 25\n4. 35\n\n\n",
            "text/latex": "\\begin{enumerate*}\n\\item 5\n\\item 15\n\\item 25\n\\item 35\n\\end{enumerate*}\n",
            "text/plain": [
              "[1]  5 15 25 35"
            ]
          },
          "metadata": {}
        }
      ]
    },
    {
      "cell_type": "markdown",
      "source": [
        "And if we add a and b together, the sum would be a vector whose members are the sum of the corresponding members from a and b."
      ],
      "metadata": {
        "id": "Uoizz0SAkPRE"
      }
    },
    {
      "cell_type": "code",
      "source": [
        "# add two vectors together\n",
        "\n",
        "a + b"
      ],
      "metadata": {
        "id": "WCwMG82JkRWp",
        "outputId": "cf209566-345b-478a-de0b-e0515baa36f8",
        "colab": {
          "base_uri": "https://localhost:8080/",
          "height": 34
        }
      },
      "execution_count": 38,
      "outputs": [
        {
          "output_type": "display_data",
          "data": {
            "text/html": [
              "<style>\n",
              ".list-inline {list-style: none; margin:0; padding: 0}\n",
              ".list-inline>li {display: inline-block}\n",
              ".list-inline>li:not(:last-child)::after {content: \"\\00b7\"; padding: 0 .5ex}\n",
              "</style>\n",
              "<ol class=list-inline><li>2</li><li>5</li><li>9</li><li>15</li></ol>\n"
            ],
            "text/markdown": "1. 2\n2. 5\n3. 9\n4. 15\n\n\n",
            "text/latex": "\\begin{enumerate*}\n\\item 2\n\\item 5\n\\item 9\n\\item 15\n\\end{enumerate*}\n",
            "text/plain": [
              "[1]  2  5  9 15"
            ]
          },
          "metadata": {}
        }
      ]
    },
    {
      "cell_type": "markdown",
      "source": [
        "Similarly for subtraction, multiplication and division, we get new vectors via member-wise operations."
      ],
      "metadata": {
        "id": "ibqQh6jhkTB8"
      }
    },
    {
      "cell_type": "code",
      "source": [
        "# subtract two vectors together\n",
        "\n",
        "a - b"
      ],
      "metadata": {
        "id": "KZXwNuC4kYzt",
        "outputId": "576a698d-71d5-4b04-f7c8-a7c286f1946b",
        "colab": {
          "base_uri": "https://localhost:8080/",
          "height": 34
        }
      },
      "execution_count": 39,
      "outputs": [
        {
          "output_type": "display_data",
          "data": {
            "text/html": [
              "<style>\n",
              ".list-inline {list-style: none; margin:0; padding: 0}\n",
              ".list-inline>li {display: inline-block}\n",
              ".list-inline>li:not(:last-child)::after {content: \"\\00b7\"; padding: 0 .5ex}\n",
              "</style>\n",
              "<ol class=list-inline><li>0</li><li>1</li><li>1</li><li>-1</li></ol>\n"
            ],
            "text/markdown": "1. 0\n2. 1\n3. 1\n4. -1\n\n\n",
            "text/latex": "\\begin{enumerate*}\n\\item 0\n\\item 1\n\\item 1\n\\item -1\n\\end{enumerate*}\n",
            "text/plain": [
              "[1]  0  1  1 -1"
            ]
          },
          "metadata": {}
        }
      ]
    },
    {
      "cell_type": "code",
      "source": [
        "# multiply two vectors together\n",
        "\n",
        "a * b"
      ],
      "metadata": {
        "id": "fVErxSvCkZSq",
        "outputId": "5cf162f5-41b6-47fc-d790-1f2f763f7f8d",
        "colab": {
          "base_uri": "https://localhost:8080/",
          "height": 34
        }
      },
      "execution_count": 40,
      "outputs": [
        {
          "output_type": "display_data",
          "data": {
            "text/html": [
              "<style>\n",
              ".list-inline {list-style: none; margin:0; padding: 0}\n",
              ".list-inline>li {display: inline-block}\n",
              ".list-inline>li:not(:last-child)::after {content: \"\\00b7\"; padding: 0 .5ex}\n",
              "</style>\n",
              "<ol class=list-inline><li>1</li><li>6</li><li>20</li><li>56</li></ol>\n"
            ],
            "text/markdown": "1. 1\n2. 6\n3. 20\n4. 56\n\n\n",
            "text/latex": "\\begin{enumerate*}\n\\item 1\n\\item 6\n\\item 20\n\\item 56\n\\end{enumerate*}\n",
            "text/plain": [
              "[1]  1  6 20 56"
            ]
          },
          "metadata": {}
        }
      ]
    },
    {
      "cell_type": "code",
      "source": [
        "# divide two vectors together\n",
        "\n",
        "a / b"
      ],
      "metadata": {
        "id": "jQK5TTnIkZng",
        "outputId": "48738c4e-ec10-4fb4-f73b-c87e627e880d",
        "colab": {
          "base_uri": "https://localhost:8080/",
          "height": 34
        }
      },
      "execution_count": 41,
      "outputs": [
        {
          "output_type": "display_data",
          "data": {
            "text/html": [
              "<style>\n",
              ".list-inline {list-style: none; margin:0; padding: 0}\n",
              ".list-inline>li {display: inline-block}\n",
              ".list-inline>li:not(:last-child)::after {content: \"\\00b7\"; padding: 0 .5ex}\n",
              "</style>\n",
              "<ol class=list-inline><li>1</li><li>1.5</li><li>1.25</li><li>0.875</li></ol>\n"
            ],
            "text/markdown": "1. 1\n2. 1.5\n3. 1.25\n4. 0.875\n\n\n",
            "text/latex": "\\begin{enumerate*}\n\\item 1\n\\item 1.5\n\\item 1.25\n\\item 0.875\n\\end{enumerate*}\n",
            "text/plain": [
              "[1] 1.000 1.500 1.250 0.875"
            ]
          },
          "metadata": {}
        }
      ]
    },
    {
      "cell_type": "markdown",
      "source": [
        "### The Recycling Rule\n",
        "\n",
        "If two vectors are of unequal length, the shorter one will be recycled in order to match the longer vector.\n",
        "\n",
        "For example, the following vectors u and v have different lengths, and their sum is computed by recycling values of the shorter vector u."
      ],
      "metadata": {
        "id": "MNs_s2U5kdWG"
      }
    },
    {
      "cell_type": "code",
      "source": [
        "u <- c(10, 20, 30)\n",
        "v <- c(1, 2, 3, 4, 5, 6, 7, 8, 9)     # additional values return back to first value of shorter vector\n",
        "u + v"
      ],
      "metadata": {
        "id": "MOSP_y7Vkh9Y",
        "outputId": "1b0120b0-6390-40ab-db8c-39eb0333a5b0",
        "colab": {
          "base_uri": "https://localhost:8080/",
          "height": 34
        }
      },
      "execution_count": 44,
      "outputs": [
        {
          "output_type": "display_data",
          "data": {
            "text/html": [
              "<style>\n",
              ".list-inline {list-style: none; margin:0; padding: 0}\n",
              ".list-inline>li {display: inline-block}\n",
              ".list-inline>li:not(:last-child)::after {content: \"\\00b7\"; padding: 0 .5ex}\n",
              "</style>\n",
              "<ol class=list-inline><li>11</li><li>22</li><li>33</li><li>14</li><li>25</li><li>36</li><li>17</li><li>28</li><li>39</li></ol>\n"
            ],
            "text/markdown": "1. 11\n2. 22\n3. 33\n4. 14\n5. 25\n6. 36\n7. 17\n8. 28\n9. 39\n\n\n",
            "text/latex": "\\begin{enumerate*}\n\\item 11\n\\item 22\n\\item 33\n\\item 14\n\\item 25\n\\item 36\n\\item 17\n\\item 28\n\\item 39\n\\end{enumerate*}\n",
            "text/plain": [
              "[1] 11 22 33 14 25 36 17 28 39"
            ]
          },
          "metadata": {}
        }
      ]
    },
    {
      "cell_type": "markdown",
      "source": [
        "### Vector Indexes\n",
        "\n",
        "We retrieve values in a vector by declaring an index inside a single square bracket index [] operator.\n",
        "\n",
        "**Vector indexes are 1-based. ALL INDEXING IN R IS 1-BASED.**"
      ],
      "metadata": {
        "id": "ikWC6nxKkkEC"
      }
    },
    {
      "cell_type": "code",
      "source": [
        "s <- c(\"aa\", \"bb\", \"cc\", \"dd\", \"ee\")\n",
        "s[3]      # INDEXING IN R IS 1-BASED"
      ],
      "metadata": {
        "id": "ZL-U_27QknPH",
        "outputId": "a0be788a-399f-4d4e-ea89-c36ea3e93709",
        "colab": {
          "base_uri": "https://localhost:8080/",
          "height": 34
        }
      },
      "execution_count": 45,
      "outputs": [
        {
          "output_type": "display_data",
          "data": {
            "text/html": [
              "'cc'"
            ],
            "text/markdown": "'cc'",
            "text/latex": "'cc'",
            "text/plain": [
              "[1] \"cc\""
            ]
          },
          "metadata": {}
        }
      ]
    },
    {
      "cell_type": "markdown",
      "source": [
        "### Negative Indexing\n",
        "\n",
        "Unlike Python, if the index is negative, it will remove the member whose position has the same absolute value as the negative index.\n",
        "\n",
        "It really does mean subtraction!\n",
        "\n",
        "For example, the following creates a vector slice with the third member removed."
      ],
      "metadata": {
        "id": "VJrOT-49kpBc"
      }
    },
    {
      "cell_type": "code",
      "source": [
        "s[-3]     # negative indexing removes that value (not destructive operation)\n",
        "s         # but not changing, not manipulated easily"
      ],
      "metadata": {
        "id": "jliUBjKrkseS",
        "outputId": "fc91a9b2-0b2d-487b-d0cb-7eb5efb2bc0f",
        "colab": {
          "base_uri": "https://localhost:8080/",
          "height": 52
        }
      },
      "execution_count": 49,
      "outputs": [
        {
          "output_type": "display_data",
          "data": {
            "text/html": [
              "<style>\n",
              ".list-inline {list-style: none; margin:0; padding: 0}\n",
              ".list-inline>li {display: inline-block}\n",
              ".list-inline>li:not(:last-child)::after {content: \"\\00b7\"; padding: 0 .5ex}\n",
              "</style>\n",
              "<ol class=list-inline><li>'aa'</li><li>'bb'</li><li>'dd'</li><li>'ee'</li></ol>\n"
            ],
            "text/markdown": "1. 'aa'\n2. 'bb'\n3. 'dd'\n4. 'ee'\n\n\n",
            "text/latex": "\\begin{enumerate*}\n\\item 'aa'\n\\item 'bb'\n\\item 'dd'\n\\item 'ee'\n\\end{enumerate*}\n",
            "text/plain": [
              "[1] \"aa\" \"bb\" \"dd\" \"ee\""
            ]
          },
          "metadata": {}
        },
        {
          "output_type": "display_data",
          "data": {
            "text/html": [
              "<style>\n",
              ".list-inline {list-style: none; margin:0; padding: 0}\n",
              ".list-inline>li {display: inline-block}\n",
              ".list-inline>li:not(:last-child)::after {content: \"\\00b7\"; padding: 0 .5ex}\n",
              "</style>\n",
              "<ol class=list-inline><li>'aa'</li><li>'bb'</li><li>'cc'</li><li>'dd'</li><li>'ee'</li></ol>\n"
            ],
            "text/markdown": "1. 'aa'\n2. 'bb'\n3. 'cc'\n4. 'dd'\n5. 'ee'\n\n\n",
            "text/latex": "\\begin{enumerate*}\n\\item 'aa'\n\\item 'bb'\n\\item 'cc'\n\\item 'dd'\n\\item 'ee'\n\\end{enumerate*}\n",
            "text/plain": [
              "[1] \"aa\" \"bb\" \"cc\" \"dd\" \"ee\""
            ]
          },
          "metadata": {}
        }
      ]
    },
    {
      "cell_type": "code",
      "source": [
        "s <- c(\"aa\", \"bb\", \"cc\", \"dd\", \"ee\")\n",
        "\n",
        "s <- s[-3]       # assign operation to object to preserve change\n",
        "s"
      ],
      "metadata": {
        "id": "ExJHGcWIrDyk",
        "outputId": "959612e5-bf6b-4d80-835e-d4460d2a7614",
        "colab": {
          "base_uri": "https://localhost:8080/",
          "height": 34
        }
      },
      "execution_count": 50,
      "outputs": [
        {
          "output_type": "display_data",
          "data": {
            "text/html": [
              "<style>\n",
              ".list-inline {list-style: none; margin:0; padding: 0}\n",
              ".list-inline>li {display: inline-block}\n",
              ".list-inline>li:not(:last-child)::after {content: \"\\00b7\"; padding: 0 .5ex}\n",
              "</style>\n",
              "<ol class=list-inline><li>'aa'</li><li>'bb'</li><li>'dd'</li><li>'ee'</li></ol>\n"
            ],
            "text/markdown": "1. 'aa'\n2. 'bb'\n3. 'dd'\n4. 'ee'\n\n\n",
            "text/latex": "\\begin{enumerate*}\n\\item 'aa'\n\\item 'bb'\n\\item 'dd'\n\\item 'ee'\n\\end{enumerate*}\n",
            "text/plain": [
              "[1] \"aa\" \"bb\" \"dd\" \"ee\""
            ]
          },
          "metadata": {}
        }
      ]
    },
    {
      "cell_type": "markdown",
      "source": [
        "### Out-of-Range Indexes\n",
        "\n",
        "Values for out-of-range indexes are reported as `NA`.\n",
        "\n",
        "Empty values in R are noted by `NA` (compared to `NaN` in Python)."
      ],
      "metadata": {
        "id": "Tnm5TOREkvCW"
      }
    },
    {
      "cell_type": "code",
      "source": [
        "s[10]"
      ],
      "metadata": {
        "id": "53_Dq1qVky7E"
      },
      "execution_count": null,
      "outputs": []
    },
    {
      "cell_type": "markdown",
      "source": [
        "### Numeric Index Vectors\n",
        "\n",
        "A new vector can be sliced from a given vector with a numeric vector passed to the indexing operator.\n",
        "\n",
        "Index vectors consist of member positions of the original vector to be retrieved.\n",
        "\n",
        "Here we see how to retrieve a vector slice containing the second and third members of a given vector `s`."
      ],
      "metadata": {
        "id": "aeDsCJy_kzyC"
      }
    },
    {
      "cell_type": "code",
      "source": [
        "s <- c(\"aa\", \"bb\", \"cc\", \"dd\", \"ee\")\n",
        "s[c(2, 3)]"
      ],
      "metadata": {
        "id": "MFiI6nOak4ex"
      },
      "execution_count": null,
      "outputs": []
    },
    {
      "cell_type": "markdown",
      "source": [
        "### Duplicate Indexes\n",
        "\n",
        "The index vector allows duplicate values. Hence the following retrieves a member twice in one operation."
      ],
      "metadata": {
        "id": "yWzvVpllk60Q"
      }
    },
    {
      "cell_type": "code",
      "source": [
        "s[c(2, 3, 3)]"
      ],
      "metadata": {
        "id": "dlEJ9zWFk_63"
      },
      "execution_count": null,
      "outputs": []
    },
    {
      "cell_type": "markdown",
      "source": [
        "### Out-of-Order Indexes\n",
        "\n",
        "The index vector can even be out-of-order. Here is a vector slice with the order of first and second members reversed."
      ],
      "metadata": {
        "id": "H0o-sSWRlAml"
      }
    },
    {
      "cell_type": "code",
      "source": [
        "s[c(2, 1, 3)]"
      ],
      "metadata": {
        "id": "0aNJ4UIwlF8v"
      },
      "execution_count": null,
      "outputs": []
    },
    {
      "cell_type": "markdown",
      "source": [
        "### Range Index\n",
        "\n",
        "To produce a vector slice between two indexes, we can use the colon operator \":\". This can be convenient for situations involving large vectors."
      ],
      "metadata": {
        "id": "ytztbl5jlG9W"
      }
    },
    {
      "cell_type": "code",
      "source": [
        "s[2:4]"
      ],
      "metadata": {
        "id": "EEokXzbBlJ53"
      },
      "execution_count": null,
      "outputs": []
    },
    {
      "cell_type": "markdown",
      "source": [
        "### Logical Index Vectors\n",
        "\n",
        "A new vector can be sliced from a given vector with a logical index vector.\n",
        "\n",
        "The logical vector must the same length as the original vector.\n",
        "\n",
        "Its members are `TRUE` if the corresponding members in the original vector are to be included in the slice, and `FALSE` if otherwise.\n",
        "\n",
        "> This is what we called boolean filtering and masking in Python.\n",
        "\n",
        "For example, consider the following vector `s` of length 5."
      ],
      "metadata": {
        "id": "pBrghVEElMRb"
      }
    },
    {
      "cell_type": "code",
      "source": [
        "s <- c(\"aa\", \"bb\", \"cc\", \"dd\", \"ee\")"
      ],
      "metadata": {
        "id": "Gv2wDb5DlUak"
      },
      "execution_count": null,
      "outputs": []
    },
    {
      "cell_type": "markdown",
      "source": [
        "To retrieve the second and fouroth members of `s`, we define a logical vector L of the same length, and have its second and fourth members set as TRUE."
      ],
      "metadata": {
        "id": "InLwnL2ilXLW"
      }
    },
    {
      "cell_type": "code",
      "source": [
        "L = c(FALSE, TRUE, FALSE, TRUE, FALSE)\n",
        "s[L]"
      ],
      "metadata": {
        "id": "umCvB6OylakS"
      },
      "execution_count": null,
      "outputs": []
    },
    {
      "cell_type": "markdown",
      "source": [
        "The code can be abbreviated into a single line:"
      ],
      "metadata": {
        "id": "DMm3RkOUldv7"
      }
    },
    {
      "cell_type": "code",
      "source": [
        "s[c(FALSE, TRUE, FALSE, TRUE, FALSE)]"
      ],
      "metadata": {
        "id": "kQYksS_Clf0d"
      },
      "execution_count": null,
      "outputs": []
    },
    {
      "cell_type": "markdown",
      "source": [
        "### Naming Vector Members with `names()`\n",
        "\n",
        "We can assign names to vector members."
      ],
      "metadata": {
        "id": "RZWkBWVhlsgu"
      }
    },
    {
      "cell_type": "code",
      "source": [
        "v <- c(\"Mary\", \"Sue\")\n",
        "names(v) <- c(\"First\", \"Last\")\n",
        "v"
      ],
      "metadata": {
        "id": "dChdFsV5luXK"
      },
      "execution_count": null,
      "outputs": []
    },
    {
      "cell_type": "markdown",
      "source": [
        "Now we can retrieve the first member by name."
      ],
      "metadata": {
        "id": "XgGy4FvSltc4"
      }
    },
    {
      "cell_type": "code",
      "source": [
        "v[\"First\"]"
      ],
      "metadata": {
        "id": "0vsbMw8PlvCt"
      },
      "execution_count": null,
      "outputs": []
    },
    {
      "cell_type": "markdown",
      "source": [
        "We can also reverse the order with a character string index vector."
      ],
      "metadata": {
        "id": "dNLrr0cKltyf"
      }
    },
    {
      "cell_type": "code",
      "source": [
        "v[c(\"Last\", \"First\")]"
      ],
      "metadata": {
        "id": "om1y5hZSlu0X"
      },
      "execution_count": null,
      "outputs": []
    },
    {
      "cell_type": "markdown",
      "source": [
        "## Lists\n",
        "\n",
        "A list is a generic vector containing other objects.\n",
        "\n",
        "The following variable `x` is a list containing copies of three vectors `n`, `s`, `b`, and a numeric value 3."
      ],
      "metadata": {
        "id": "W6wNAHwHmAGG"
      }
    },
    {
      "cell_type": "code",
      "source": [
        "n <- c(2, 3, 5)\n",
        "s <- c(\"aa\", \"bb\", \"cc\", \"dd\", \"ee\")\n",
        "b <- c(TRUE, FALSE, TRUE, FALSE, FALSE)\n",
        "\n",
        "x <- list(n, s, b, 3)   # x contains copies of n, s, b\n",
        "x"
      ],
      "metadata": {
        "id": "M1bFuAgUmH-x"
      },
      "execution_count": null,
      "outputs": []
    },
    {
      "cell_type": "markdown",
      "source": [
        "Note that odd bracket notation.\n",
        "\n",
        "Each list member contains a vector."
      ],
      "metadata": {
        "id": "Kb-e_mSjmIvM"
      }
    },
    {
      "cell_type": "markdown",
      "source": [
        "### List Slicing\n",
        "\n",
        "We retrieve a list slice with the single square bracket [] operator.\n",
        "\n",
        "The following is a slice containing the second member of x, which is a copy of s."
      ],
      "metadata": {
        "id": "aBylVHgdmLcZ"
      }
    },
    {
      "cell_type": "code",
      "source": [
        "x[2]"
      ],
      "metadata": {
        "id": "0LA51Xv8mPun"
      },
      "execution_count": null,
      "outputs": []
    },
    {
      "cell_type": "markdown",
      "source": [
        "With an index vector, we can retrieve a slice with multiple members.\n",
        "\n",
        "Here a slice containing the second and fourth members of x."
      ],
      "metadata": {
        "id": "6FxGYRyQmSlt"
      }
    },
    {
      "cell_type": "code",
      "source": [
        "x[c(2, 4)]"
      ],
      "metadata": {
        "id": "Q_QNF8-WmVIQ"
      },
      "execution_count": null,
      "outputs": []
    },
    {
      "cell_type": "markdown",
      "source": [
        "### Member Reference with `[[]]`\n",
        "\n",
        "To reference a list member directly, we use the double square bracket `[[]]` operator.\n",
        "\n",
        "The following object `x[[2]]` is the second member of x.\n",
        "\n",
        "In other words, `x[[2]]` is a copy of `s`, but is not a slice containing `s` or its copy."
      ],
      "metadata": {
        "id": "G85szKWxmZy4"
      }
    },
    {
      "cell_type": "code",
      "source": [
        "x[[2]]"
      ],
      "metadata": {
        "id": "vfTxplm_mgqt"
      },
      "execution_count": null,
      "outputs": []
    },
    {
      "cell_type": "markdown",
      "source": [
        "We can modify its contens directly"
      ],
      "metadata": {
        "id": "XVZq6vlQmiaq"
      }
    },
    {
      "cell_type": "code",
      "source": [
        "x[[2]][1] = \"ta\"\n",
        "x[[2]]"
      ],
      "metadata": {
        "id": "bRM_JzZBmkGx"
      },
      "execution_count": null,
      "outputs": []
    },
    {
      "cell_type": "markdown",
      "source": [
        "And `s` is unaffected."
      ],
      "metadata": {
        "id": "Q2S2dCMBml-1"
      }
    },
    {
      "cell_type": "code",
      "source": [
        "s"
      ],
      "metadata": {
        "id": "aXmdqfprmnoR"
      },
      "execution_count": null,
      "outputs": []
    }
  ]
}