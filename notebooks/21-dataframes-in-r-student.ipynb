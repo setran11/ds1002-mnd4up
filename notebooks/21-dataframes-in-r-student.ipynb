{
  "nbformat": 4,
  "nbformat_minor": 0,
  "metadata": {
    "colab": {
      "provenance": [],
      "include_colab_link": true
    },
    "kernelspec": {
      "name": "ir",
      "display_name": "R"
    },
    "language_info": {
      "name": "R"
    }
  },
  "cells": [
    {
      "cell_type": "markdown",
      "metadata": {
        "id": "view-in-github",
        "colab_type": "text"
      },
      "source": [
        "<a href=\"https://colab.research.google.com/github/setran11/ds1002-mnd4up/blob/main/notebooks/21-dataframes-in-r-student.ipynb\" target=\"_parent\"><img src=\"https://colab.research.google.com/assets/colab-badge.svg\" alt=\"Open In Colab\"/></a>"
      ]
    },
    {
      "cell_type": "markdown",
      "source": [
        "# Data Frames in R\n",
        "\n",
        "Build a data frame by hand."
      ],
      "metadata": {
        "id": "n9Hyle2zcFZx"
      }
    },
    {
      "cell_type": "code",
      "execution_count": 3,
      "metadata": {
        "id": "zZJftFYrcFIb"
      },
      "outputs": [],
      "source": [
        "# album, year, digital as vectors\n",
        "album <- c(\"The Low End Theory\", \"Nevermind\", \"Port of Morrow\",\n",
        "           \"Dark Side of the Moon\", \"Naked\", \"OK Computer\",\n",
        "           \"Abbey Road\", \"Thriller\", \"Rumours\", \"The Joshua Tree\")\n",
        "year <- c(1991, 1991, 2012, 1973, 1988, 1997, 1969, 1982, 1977, 1987)\n",
        "digital <- c(FALSE, FALSE, TRUE, FALSE, TRUE, TRUE, FALSE, FALSE, FALSE, TRUE)\n",
        "\n",
        "# push data frame into a function\n",
        "df <- data.frame(Album = album, Year = year, Digital = digital)"
      ]
    },
    {
      "cell_type": "code",
      "source": [
        "# display the df\n",
        "df"
      ],
      "metadata": {
        "id": "X_sJF7WYcQBs",
        "outputId": "9ec6beee-2165-46f6-f78e-d72d8a2b0682",
        "colab": {
          "base_uri": "https://localhost:8080/",
          "height": 412
        }
      },
      "execution_count": 4,
      "outputs": [
        {
          "output_type": "display_data",
          "data": {
            "text/html": [
              "<table class=\"dataframe\">\n",
              "<caption>A data.frame: 10 × 3</caption>\n",
              "<thead>\n",
              "\t<tr><th scope=col>Album</th><th scope=col>Year</th><th scope=col>Digital</th></tr>\n",
              "\t<tr><th scope=col>&lt;chr&gt;</th><th scope=col>&lt;dbl&gt;</th><th scope=col>&lt;lgl&gt;</th></tr>\n",
              "</thead>\n",
              "<tbody>\n",
              "\t<tr><td>The Low End Theory   </td><td>1991</td><td>FALSE</td></tr>\n",
              "\t<tr><td>Nevermind            </td><td>1991</td><td>FALSE</td></tr>\n",
              "\t<tr><td>Port of Morrow       </td><td>2012</td><td> TRUE</td></tr>\n",
              "\t<tr><td>Dark Side of the Moon</td><td>1973</td><td>FALSE</td></tr>\n",
              "\t<tr><td>Naked                </td><td>1988</td><td> TRUE</td></tr>\n",
              "\t<tr><td>OK Computer          </td><td>1997</td><td> TRUE</td></tr>\n",
              "\t<tr><td>Abbey Road           </td><td>1969</td><td>FALSE</td></tr>\n",
              "\t<tr><td>Thriller             </td><td>1982</td><td>FALSE</td></tr>\n",
              "\t<tr><td>Rumours              </td><td>1977</td><td>FALSE</td></tr>\n",
              "\t<tr><td>The Joshua Tree      </td><td>1987</td><td> TRUE</td></tr>\n",
              "</tbody>\n",
              "</table>\n"
            ],
            "text/markdown": "\nA data.frame: 10 × 3\n\n| Album &lt;chr&gt; | Year &lt;dbl&gt; | Digital &lt;lgl&gt; |\n|---|---|---|\n| The Low End Theory    | 1991 | FALSE |\n| Nevermind             | 1991 | FALSE |\n| Port of Morrow        | 2012 |  TRUE |\n| Dark Side of the Moon | 1973 | FALSE |\n| Naked                 | 1988 |  TRUE |\n| OK Computer           | 1997 |  TRUE |\n| Abbey Road            | 1969 | FALSE |\n| Thriller              | 1982 | FALSE |\n| Rumours               | 1977 | FALSE |\n| The Joshua Tree       | 1987 |  TRUE |\n\n",
            "text/latex": "A data.frame: 10 × 3\n\\begin{tabular}{lll}\n Album & Year & Digital\\\\\n <chr> & <dbl> & <lgl>\\\\\n\\hline\n\t The Low End Theory    & 1991 & FALSE\\\\\n\t Nevermind             & 1991 & FALSE\\\\\n\t Port of Morrow        & 2012 &  TRUE\\\\\n\t Dark Side of the Moon & 1973 & FALSE\\\\\n\t Naked                 & 1988 &  TRUE\\\\\n\t OK Computer           & 1997 &  TRUE\\\\\n\t Abbey Road            & 1969 & FALSE\\\\\n\t Thriller              & 1982 & FALSE\\\\\n\t Rumours               & 1977 & FALSE\\\\\n\t The Joshua Tree       & 1987 &  TRUE\\\\\n\\end{tabular}\n",
            "text/plain": [
              "   Album                 Year Digital\n",
              "1  The Low End Theory    1991 FALSE  \n",
              "2  Nevermind             1991 FALSE  \n",
              "3  Port of Morrow        2012  TRUE  \n",
              "4  Dark Side of the Moon 1973 FALSE  \n",
              "5  Naked                 1988  TRUE  \n",
              "6  OK Computer           1997  TRUE  \n",
              "7  Abbey Road            1969 FALSE  \n",
              "8  Thriller              1982 FALSE  \n",
              "9  Rumours               1977 FALSE  \n",
              "10 The Joshua Tree       1987  TRUE  "
            ]
          },
          "metadata": {}
        }
      ]
    },
    {
      "cell_type": "markdown",
      "source": [
        "Column Naming"
      ],
      "metadata": {
        "id": "laCjqxkw0PDO"
      }
    },
    {
      "cell_type": "code",
      "source": [
        "df <- data.frame(Album = album, Year = year, Digital = digital)"
      ],
      "metadata": {
        "id": "64kTfaeM0QRH"
      },
      "execution_count": 5,
      "outputs": []
    },
    {
      "cell_type": "code",
      "source": [
        "# alternative way of naming columns\n",
        "names(df) <- c(\"Album\", \"Year\", \"Digital\")"
      ],
      "metadata": {
        "id": "CR70shoT0fD3"
      },
      "execution_count": 9,
      "outputs": []
    },
    {
      "cell_type": "markdown",
      "source": [
        "## Insert a Column"
      ],
      "metadata": {
        "id": "GlkoOWfzpiTp"
      }
    },
    {
      "cell_type": "code",
      "source": [
        "# call out a column as a vector (data frame name $ column name)\n",
        "df$Year\n",
        "df$Album"
      ],
      "metadata": {
        "id": "-9oMqTMOpk73",
        "outputId": "420f0432-4b9a-40c0-cb78-0e6e714bc5ad",
        "colab": {
          "base_uri": "https://localhost:8080/",
          "height": 52
        }
      },
      "execution_count": 10,
      "outputs": [
        {
          "output_type": "display_data",
          "data": {
            "text/html": [
              "<style>\n",
              ".list-inline {list-style: none; margin:0; padding: 0}\n",
              ".list-inline>li {display: inline-block}\n",
              ".list-inline>li:not(:last-child)::after {content: \"\\00b7\"; padding: 0 .5ex}\n",
              "</style>\n",
              "<ol class=list-inline><li>1991</li><li>1991</li><li>2012</li><li>1973</li><li>1988</li><li>1997</li><li>1969</li><li>1982</li><li>1977</li><li>1987</li></ol>\n"
            ],
            "text/markdown": "1. 1991\n2. 1991\n3. 2012\n4. 1973\n5. 1988\n6. 1997\n7. 1969\n8. 1982\n9. 1977\n10. 1987\n\n\n",
            "text/latex": "\\begin{enumerate*}\n\\item 1991\n\\item 1991\n\\item 2012\n\\item 1973\n\\item 1988\n\\item 1997\n\\item 1969\n\\item 1982\n\\item 1977\n\\item 1987\n\\end{enumerate*}\n",
            "text/plain": [
              " [1] 1991 1991 2012 1973 1988 1997 1969 1982 1977 1987"
            ]
          },
          "metadata": {}
        },
        {
          "output_type": "display_data",
          "data": {
            "text/html": [
              "<style>\n",
              ".list-inline {list-style: none; margin:0; padding: 0}\n",
              ".list-inline>li {display: inline-block}\n",
              ".list-inline>li:not(:last-child)::after {content: \"\\00b7\"; padding: 0 .5ex}\n",
              "</style>\n",
              "<ol class=list-inline><li>'The Low End Theory'</li><li>'Nevermind'</li><li>'Port of Morrow'</li><li>'Dark Side of the Moon'</li><li>'Naked'</li><li>'OK Computer'</li><li>'Abbey Road'</li><li>'Thriller'</li><li>'Rumours'</li><li>'The Joshua Tree'</li></ol>\n"
            ],
            "text/markdown": "1. 'The Low End Theory'\n2. 'Nevermind'\n3. 'Port of Morrow'\n4. 'Dark Side of the Moon'\n5. 'Naked'\n6. 'OK Computer'\n7. 'Abbey Road'\n8. 'Thriller'\n9. 'Rumours'\n10. 'The Joshua Tree'\n\n\n",
            "text/latex": "\\begin{enumerate*}\n\\item 'The Low End Theory'\n\\item 'Nevermind'\n\\item 'Port of Morrow'\n\\item 'Dark Side of the Moon'\n\\item 'Naked'\n\\item 'OK Computer'\n\\item 'Abbey Road'\n\\item 'Thriller'\n\\item 'Rumours'\n\\item 'The Joshua Tree'\n\\end{enumerate*}\n",
            "text/plain": [
              " [1] \"The Low End Theory\"    \"Nevermind\"             \"Port of Morrow\"       \n",
              " [4] \"Dark Side of the Moon\" \"Naked\"                 \"OK Computer\"          \n",
              " [7] \"Abbey Road\"            \"Thriller\"              \"Rumours\"              \n",
              "[10] \"The Joshua Tree\"      "
            ]
          },
          "metadata": {}
        }
      ]
    },
    {
      "cell_type": "code",
      "source": [
        "# insert a column -- same syntax (push vector into it)\n",
        "df$Artist <- c(\"A Tribe Called Quest\", \"Nirvana\", \"The Shins\", \"Pink Floyd\", \"Talking Heads\", \"Radio Head\", \"The Beatles\", \"Michael Jackson\", \"Fleetwood Mac\", \"U2\")"
      ],
      "metadata": {
        "id": "ak6kWhW70zra"
      },
      "execution_count": 12,
      "outputs": []
    },
    {
      "cell_type": "code",
      "source": [
        "df"
      ],
      "metadata": {
        "id": "TNsdc5oz1iUz",
        "outputId": "6885edf9-af50-4df1-f4b7-ee4095bee04f",
        "colab": {
          "base_uri": "https://localhost:8080/",
          "height": 412
        }
      },
      "execution_count": 13,
      "outputs": [
        {
          "output_type": "display_data",
          "data": {
            "text/html": [
              "<table class=\"dataframe\">\n",
              "<caption>A data.frame: 10 × 4</caption>\n",
              "<thead>\n",
              "\t<tr><th scope=col>Album</th><th scope=col>Year</th><th scope=col>Digital</th><th scope=col>Artist</th></tr>\n",
              "\t<tr><th scope=col>&lt;chr&gt;</th><th scope=col>&lt;dbl&gt;</th><th scope=col>&lt;lgl&gt;</th><th scope=col>&lt;chr&gt;</th></tr>\n",
              "</thead>\n",
              "<tbody>\n",
              "\t<tr><td>The Low End Theory   </td><td>1991</td><td>FALSE</td><td>A Tribe Called Quest</td></tr>\n",
              "\t<tr><td>Nevermind            </td><td>1991</td><td>FALSE</td><td>Nirvana             </td></tr>\n",
              "\t<tr><td>Port of Morrow       </td><td>2012</td><td> TRUE</td><td>The Shins           </td></tr>\n",
              "\t<tr><td>Dark Side of the Moon</td><td>1973</td><td>FALSE</td><td>Pink Floyd          </td></tr>\n",
              "\t<tr><td>Naked                </td><td>1988</td><td> TRUE</td><td>Talking Heads       </td></tr>\n",
              "\t<tr><td>OK Computer          </td><td>1997</td><td> TRUE</td><td>Radio Head          </td></tr>\n",
              "\t<tr><td>Abbey Road           </td><td>1969</td><td>FALSE</td><td>The Beatles         </td></tr>\n",
              "\t<tr><td>Thriller             </td><td>1982</td><td>FALSE</td><td>Michael Jackson     </td></tr>\n",
              "\t<tr><td>Rumours              </td><td>1977</td><td>FALSE</td><td>Fleetwood Mac       </td></tr>\n",
              "\t<tr><td>The Joshua Tree      </td><td>1987</td><td> TRUE</td><td>U2                  </td></tr>\n",
              "</tbody>\n",
              "</table>\n"
            ],
            "text/markdown": "\nA data.frame: 10 × 4\n\n| Album &lt;chr&gt; | Year &lt;dbl&gt; | Digital &lt;lgl&gt; | Artist &lt;chr&gt; |\n|---|---|---|---|\n| The Low End Theory    | 1991 | FALSE | A Tribe Called Quest |\n| Nevermind             | 1991 | FALSE | Nirvana              |\n| Port of Morrow        | 2012 |  TRUE | The Shins            |\n| Dark Side of the Moon | 1973 | FALSE | Pink Floyd           |\n| Naked                 | 1988 |  TRUE | Talking Heads        |\n| OK Computer           | 1997 |  TRUE | Radio Head           |\n| Abbey Road            | 1969 | FALSE | The Beatles          |\n| Thriller              | 1982 | FALSE | Michael Jackson      |\n| Rumours               | 1977 | FALSE | Fleetwood Mac        |\n| The Joshua Tree       | 1987 |  TRUE | U2                   |\n\n",
            "text/latex": "A data.frame: 10 × 4\n\\begin{tabular}{llll}\n Album & Year & Digital & Artist\\\\\n <chr> & <dbl> & <lgl> & <chr>\\\\\n\\hline\n\t The Low End Theory    & 1991 & FALSE & A Tribe Called Quest\\\\\n\t Nevermind             & 1991 & FALSE & Nirvana             \\\\\n\t Port of Morrow        & 2012 &  TRUE & The Shins           \\\\\n\t Dark Side of the Moon & 1973 & FALSE & Pink Floyd          \\\\\n\t Naked                 & 1988 &  TRUE & Talking Heads       \\\\\n\t OK Computer           & 1997 &  TRUE & Radio Head          \\\\\n\t Abbey Road            & 1969 & FALSE & The Beatles         \\\\\n\t Thriller              & 1982 & FALSE & Michael Jackson     \\\\\n\t Rumours               & 1977 & FALSE & Fleetwood Mac       \\\\\n\t The Joshua Tree       & 1987 &  TRUE & U2                  \\\\\n\\end{tabular}\n",
            "text/plain": [
              "   Album                 Year Digital Artist              \n",
              "1  The Low End Theory    1991 FALSE   A Tribe Called Quest\n",
              "2  Nevermind             1991 FALSE   Nirvana             \n",
              "3  Port of Morrow        2012  TRUE   The Shins           \n",
              "4  Dark Side of the Moon 1973 FALSE   Pink Floyd          \n",
              "5  Naked                 1988  TRUE   Talking Heads       \n",
              "6  OK Computer           1997  TRUE   Radio Head          \n",
              "7  Abbey Road            1969 FALSE   The Beatles         \n",
              "8  Thriller              1982 FALSE   Michael Jackson     \n",
              "9  Rumours               1977 FALSE   Fleetwood Mac       \n",
              "10 The Joshua Tree       1987  TRUE   U2                  "
            ]
          },
          "metadata": {}
        }
      ]
    },
    {
      "cell_type": "markdown",
      "source": [
        "## Get the Structure"
      ],
      "metadata": {
        "id": "TQ4mxM8lpm69"
      }
    },
    {
      "cell_type": "code",
      "source": [
        "# learn the structure of the df\n",
        "str(df)"
      ],
      "metadata": {
        "id": "6K63ICLKpokD",
        "outputId": "c0ba1909-26cc-4ac2-c328-fe62a46107a4",
        "colab": {
          "base_uri": "https://localhost:8080/"
        }
      },
      "execution_count": 14,
      "outputs": [
        {
          "output_type": "stream",
          "name": "stdout",
          "text": [
            "'data.frame':\t10 obs. of  4 variables:\n",
            " $ Album  : chr  \"The Low End Theory\" \"Nevermind\" \"Port of Morrow\" \"Dark Side of the Moon\" ...\n",
            " $ Year   : num  1991 1991 2012 1973 1988 ...\n",
            " $ Digital: logi  FALSE FALSE TRUE FALSE TRUE TRUE ...\n",
            " $ Artist : chr  \"A Tribe Called Quest\" \"Nirvana\" \"The Shins\" \"Pink Floyd\" ...\n"
          ]
        }
      ]
    },
    {
      "cell_type": "markdown",
      "source": [
        "## Slicing & Filtering\n",
        "\n",
        "Remember that a data frame is simply a 2-dimensional array. Rows + Columns.\n",
        "\n",
        "The `[ ]` selector has two halves, separated by a comma: `[ <ROWS> , <COLUMNS> ]`"
      ],
      "metadata": {
        "id": "ggsLz7-bprEE"
      }
    },
    {
      "cell_type": "markdown",
      "source": [
        "Selecting Columns"
      ],
      "metadata": {
        "id": "gZbJs-L61-fA"
      }
    },
    {
      "cell_type": "code",
      "source": [
        "# df[ROWS, COLUMNS] -- range separated by a colon :\n",
        "\n",
        "# get all rows and only first two columns\n",
        "df[ ,1:2]"
      ],
      "metadata": {
        "id": "1mPJE0n01_pd",
        "outputId": "31cc6fa9-857b-4eb3-82d0-4758d89a5e8d",
        "colab": {
          "base_uri": "https://localhost:8080/",
          "height": 412
        }
      },
      "execution_count": 29,
      "outputs": [
        {
          "output_type": "display_data",
          "data": {
            "text/html": [
              "<table class=\"dataframe\">\n",
              "<caption>A data.frame: 10 × 2</caption>\n",
              "<thead>\n",
              "\t<tr><th scope=col>Album</th><th scope=col>Year</th></tr>\n",
              "\t<tr><th scope=col>&lt;chr&gt;</th><th scope=col>&lt;dbl&gt;</th></tr>\n",
              "</thead>\n",
              "<tbody>\n",
              "\t<tr><td>The Low End Theory   </td><td>1991</td></tr>\n",
              "\t<tr><td>Nevermind            </td><td>1991</td></tr>\n",
              "\t<tr><td>Port of Morrow       </td><td>2012</td></tr>\n",
              "\t<tr><td>Dark Side of the Moon</td><td>1973</td></tr>\n",
              "\t<tr><td>Naked                </td><td>1988</td></tr>\n",
              "\t<tr><td>OK Computer          </td><td>1997</td></tr>\n",
              "\t<tr><td>Abbey Road           </td><td>1969</td></tr>\n",
              "\t<tr><td>Thriller             </td><td>1982</td></tr>\n",
              "\t<tr><td>Rumours              </td><td>1977</td></tr>\n",
              "\t<tr><td>The Joshua Tree      </td><td>1987</td></tr>\n",
              "</tbody>\n",
              "</table>\n"
            ],
            "text/markdown": "\nA data.frame: 10 × 2\n\n| Album &lt;chr&gt; | Year &lt;dbl&gt; |\n|---|---|\n| The Low End Theory    | 1991 |\n| Nevermind             | 1991 |\n| Port of Morrow        | 2012 |\n| Dark Side of the Moon | 1973 |\n| Naked                 | 1988 |\n| OK Computer           | 1997 |\n| Abbey Road            | 1969 |\n| Thriller              | 1982 |\n| Rumours               | 1977 |\n| The Joshua Tree       | 1987 |\n\n",
            "text/latex": "A data.frame: 10 × 2\n\\begin{tabular}{ll}\n Album & Year\\\\\n <chr> & <dbl>\\\\\n\\hline\n\t The Low End Theory    & 1991\\\\\n\t Nevermind             & 1991\\\\\n\t Port of Morrow        & 2012\\\\\n\t Dark Side of the Moon & 1973\\\\\n\t Naked                 & 1988\\\\\n\t OK Computer           & 1997\\\\\n\t Abbey Road            & 1969\\\\\n\t Thriller              & 1982\\\\\n\t Rumours               & 1977\\\\\n\t The Joshua Tree       & 1987\\\\\n\\end{tabular}\n",
            "text/plain": [
              "   Album                 Year\n",
              "1  The Low End Theory    1991\n",
              "2  Nevermind             1991\n",
              "3  Port of Morrow        2012\n",
              "4  Dark Side of the Moon 1973\n",
              "5  Naked                 1988\n",
              "6  OK Computer           1997\n",
              "7  Abbey Road            1969\n",
              "8  Thriller              1982\n",
              "9  Rumours               1977\n",
              "10 The Joshua Tree       1987"
            ]
          },
          "metadata": {}
        }
      ]
    },
    {
      "cell_type": "code",
      "source": [
        "# get first five rows and all columns\n",
        "df[1:5, ]"
      ],
      "metadata": {
        "id": "HKch8k3e2T8W",
        "outputId": "ad1f28b9-8bdd-4460-ae18-2ee226c07ca0",
        "colab": {
          "base_uri": "https://localhost:8080/",
          "height": 255
        }
      },
      "execution_count": 30,
      "outputs": [
        {
          "output_type": "display_data",
          "data": {
            "text/html": [
              "<table class=\"dataframe\">\n",
              "<caption>A data.frame: 5 × 4</caption>\n",
              "<thead>\n",
              "\t<tr><th></th><th scope=col>Album</th><th scope=col>Year</th><th scope=col>Digital</th><th scope=col>Artist</th></tr>\n",
              "\t<tr><th></th><th scope=col>&lt;chr&gt;</th><th scope=col>&lt;dbl&gt;</th><th scope=col>&lt;lgl&gt;</th><th scope=col>&lt;chr&gt;</th></tr>\n",
              "</thead>\n",
              "<tbody>\n",
              "\t<tr><th scope=row>1</th><td>The Low End Theory   </td><td>1991</td><td>FALSE</td><td>A Tribe Called Quest</td></tr>\n",
              "\t<tr><th scope=row>2</th><td>Nevermind            </td><td>1991</td><td>FALSE</td><td>Nirvana             </td></tr>\n",
              "\t<tr><th scope=row>3</th><td>Port of Morrow       </td><td>2012</td><td> TRUE</td><td>The Shins           </td></tr>\n",
              "\t<tr><th scope=row>4</th><td>Dark Side of the Moon</td><td>1973</td><td>FALSE</td><td>Pink Floyd          </td></tr>\n",
              "\t<tr><th scope=row>5</th><td>Naked                </td><td>1988</td><td> TRUE</td><td>Talking Heads       </td></tr>\n",
              "</tbody>\n",
              "</table>\n"
            ],
            "text/markdown": "\nA data.frame: 5 × 4\n\n| <!--/--> | Album &lt;chr&gt; | Year &lt;dbl&gt; | Digital &lt;lgl&gt; | Artist &lt;chr&gt; |\n|---|---|---|---|---|\n| 1 | The Low End Theory    | 1991 | FALSE | A Tribe Called Quest |\n| 2 | Nevermind             | 1991 | FALSE | Nirvana              |\n| 3 | Port of Morrow        | 2012 |  TRUE | The Shins            |\n| 4 | Dark Side of the Moon | 1973 | FALSE | Pink Floyd           |\n| 5 | Naked                 | 1988 |  TRUE | Talking Heads        |\n\n",
            "text/latex": "A data.frame: 5 × 4\n\\begin{tabular}{r|llll}\n  & Album & Year & Digital & Artist\\\\\n  & <chr> & <dbl> & <lgl> & <chr>\\\\\n\\hline\n\t1 & The Low End Theory    & 1991 & FALSE & A Tribe Called Quest\\\\\n\t2 & Nevermind             & 1991 & FALSE & Nirvana             \\\\\n\t3 & Port of Morrow        & 2012 &  TRUE & The Shins           \\\\\n\t4 & Dark Side of the Moon & 1973 & FALSE & Pink Floyd          \\\\\n\t5 & Naked                 & 1988 &  TRUE & Talking Heads       \\\\\n\\end{tabular}\n",
            "text/plain": [
              "  Album                 Year Digital Artist              \n",
              "1 The Low End Theory    1991 FALSE   A Tribe Called Quest\n",
              "2 Nevermind             1991 FALSE   Nirvana             \n",
              "3 Port of Morrow        2012  TRUE   The Shins           \n",
              "4 Dark Side of the Moon 1973 FALSE   Pink Floyd          \n",
              "5 Naked                 1988  TRUE   Talking Heads       "
            ]
          },
          "metadata": {}
        }
      ]
    },
    {
      "cell_type": "code",
      "source": [
        "# get whole data frame\n",
        "df[,]"
      ],
      "metadata": {
        "id": "RRwt2n8y2by7",
        "outputId": "bf90aa9c-0f68-47e8-e6a8-6eba1d8c772d",
        "colab": {
          "base_uri": "https://localhost:8080/",
          "height": 412
        }
      },
      "execution_count": 31,
      "outputs": [
        {
          "output_type": "display_data",
          "data": {
            "text/html": [
              "<table class=\"dataframe\">\n",
              "<caption>A data.frame: 10 × 4</caption>\n",
              "<thead>\n",
              "\t<tr><th scope=col>Album</th><th scope=col>Year</th><th scope=col>Digital</th><th scope=col>Artist</th></tr>\n",
              "\t<tr><th scope=col>&lt;chr&gt;</th><th scope=col>&lt;dbl&gt;</th><th scope=col>&lt;lgl&gt;</th><th scope=col>&lt;chr&gt;</th></tr>\n",
              "</thead>\n",
              "<tbody>\n",
              "\t<tr><td>The Low End Theory   </td><td>1991</td><td>FALSE</td><td>A Tribe Called Quest</td></tr>\n",
              "\t<tr><td>Nevermind            </td><td>1991</td><td>FALSE</td><td>Nirvana             </td></tr>\n",
              "\t<tr><td>Port of Morrow       </td><td>2012</td><td> TRUE</td><td>The Shins           </td></tr>\n",
              "\t<tr><td>Dark Side of the Moon</td><td>1973</td><td>FALSE</td><td>Pink Floyd          </td></tr>\n",
              "\t<tr><td>Naked                </td><td>1988</td><td> TRUE</td><td>Talking Heads       </td></tr>\n",
              "\t<tr><td>OK Computer          </td><td>1997</td><td> TRUE</td><td>Radio Head          </td></tr>\n",
              "\t<tr><td>Abbey Road           </td><td>1969</td><td>FALSE</td><td>The Beatles         </td></tr>\n",
              "\t<tr><td>Thriller             </td><td>1982</td><td>FALSE</td><td>Michael Jackson     </td></tr>\n",
              "\t<tr><td>Rumours              </td><td>1977</td><td>FALSE</td><td>Fleetwood Mac       </td></tr>\n",
              "\t<tr><td>The Joshua Tree      </td><td>1987</td><td> TRUE</td><td>U2                  </td></tr>\n",
              "</tbody>\n",
              "</table>\n"
            ],
            "text/markdown": "\nA data.frame: 10 × 4\n\n| Album &lt;chr&gt; | Year &lt;dbl&gt; | Digital &lt;lgl&gt; | Artist &lt;chr&gt; |\n|---|---|---|---|\n| The Low End Theory    | 1991 | FALSE | A Tribe Called Quest |\n| Nevermind             | 1991 | FALSE | Nirvana              |\n| Port of Morrow        | 2012 |  TRUE | The Shins            |\n| Dark Side of the Moon | 1973 | FALSE | Pink Floyd           |\n| Naked                 | 1988 |  TRUE | Talking Heads        |\n| OK Computer           | 1997 |  TRUE | Radio Head           |\n| Abbey Road            | 1969 | FALSE | The Beatles          |\n| Thriller              | 1982 | FALSE | Michael Jackson      |\n| Rumours               | 1977 | FALSE | Fleetwood Mac        |\n| The Joshua Tree       | 1987 |  TRUE | U2                   |\n\n",
            "text/latex": "A data.frame: 10 × 4\n\\begin{tabular}{llll}\n Album & Year & Digital & Artist\\\\\n <chr> & <dbl> & <lgl> & <chr>\\\\\n\\hline\n\t The Low End Theory    & 1991 & FALSE & A Tribe Called Quest\\\\\n\t Nevermind             & 1991 & FALSE & Nirvana             \\\\\n\t Port of Morrow        & 2012 &  TRUE & The Shins           \\\\\n\t Dark Side of the Moon & 1973 & FALSE & Pink Floyd          \\\\\n\t Naked                 & 1988 &  TRUE & Talking Heads       \\\\\n\t OK Computer           & 1997 &  TRUE & Radio Head          \\\\\n\t Abbey Road            & 1969 & FALSE & The Beatles         \\\\\n\t Thriller              & 1982 & FALSE & Michael Jackson     \\\\\n\t Rumours               & 1977 & FALSE & Fleetwood Mac       \\\\\n\t The Joshua Tree       & 1987 &  TRUE & U2                  \\\\\n\\end{tabular}\n",
            "text/plain": [
              "   Album                 Year Digital Artist              \n",
              "1  The Low End Theory    1991 FALSE   A Tribe Called Quest\n",
              "2  Nevermind             1991 FALSE   Nirvana             \n",
              "3  Port of Morrow        2012  TRUE   The Shins           \n",
              "4  Dark Side of the Moon 1973 FALSE   Pink Floyd          \n",
              "5  Naked                 1988  TRUE   Talking Heads       \n",
              "6  OK Computer           1997  TRUE   Radio Head          \n",
              "7  Abbey Road            1969 FALSE   The Beatles         \n",
              "8  Thriller              1982 FALSE   Michael Jackson     \n",
              "9  Rumours               1977 FALSE   Fleetwood Mac       \n",
              "10 The Joshua Tree       1987  TRUE   U2                  "
            ]
          },
          "metadata": {}
        }
      ]
    },
    {
      "cell_type": "code",
      "source": [
        "# get Radio Head\n",
        "df[6,4]"
      ],
      "metadata": {
        "id": "GLUpUiRa2jbc",
        "outputId": "bb1f4f3a-ec83-4936-aa54-6eb729434faf",
        "colab": {
          "base_uri": "https://localhost:8080/",
          "height": 34
        }
      },
      "execution_count": 32,
      "outputs": [
        {
          "output_type": "display_data",
          "data": {
            "text/html": [
              "'Radio Head'"
            ],
            "text/markdown": "'Radio Head'",
            "text/latex": "'Radio Head'",
            "text/plain": [
              "[1] \"Radio Head\""
            ]
          },
          "metadata": {}
        }
      ]
    },
    {
      "cell_type": "code",
      "source": [
        "# get only album and artist for all rows\n",
        "df[ ,-(2:3)]"
      ],
      "metadata": {
        "id": "bbx6ugHR24Fj",
        "outputId": "19a7864d-fe5b-4e1a-a812-b76b6f890c63",
        "colab": {
          "base_uri": "https://localhost:8080/",
          "height": 412
        }
      },
      "execution_count": 33,
      "outputs": [
        {
          "output_type": "display_data",
          "data": {
            "text/html": [
              "<table class=\"dataframe\">\n",
              "<caption>A data.frame: 10 × 2</caption>\n",
              "<thead>\n",
              "\t<tr><th scope=col>Album</th><th scope=col>Artist</th></tr>\n",
              "\t<tr><th scope=col>&lt;chr&gt;</th><th scope=col>&lt;chr&gt;</th></tr>\n",
              "</thead>\n",
              "<tbody>\n",
              "\t<tr><td>The Low End Theory   </td><td>A Tribe Called Quest</td></tr>\n",
              "\t<tr><td>Nevermind            </td><td>Nirvana             </td></tr>\n",
              "\t<tr><td>Port of Morrow       </td><td>The Shins           </td></tr>\n",
              "\t<tr><td>Dark Side of the Moon</td><td>Pink Floyd          </td></tr>\n",
              "\t<tr><td>Naked                </td><td>Talking Heads       </td></tr>\n",
              "\t<tr><td>OK Computer          </td><td>Radio Head          </td></tr>\n",
              "\t<tr><td>Abbey Road           </td><td>The Beatles         </td></tr>\n",
              "\t<tr><td>Thriller             </td><td>Michael Jackson     </td></tr>\n",
              "\t<tr><td>Rumours              </td><td>Fleetwood Mac       </td></tr>\n",
              "\t<tr><td>The Joshua Tree      </td><td>U2                  </td></tr>\n",
              "</tbody>\n",
              "</table>\n"
            ],
            "text/markdown": "\nA data.frame: 10 × 2\n\n| Album &lt;chr&gt; | Artist &lt;chr&gt; |\n|---|---|\n| The Low End Theory    | A Tribe Called Quest |\n| Nevermind             | Nirvana              |\n| Port of Morrow        | The Shins            |\n| Dark Side of the Moon | Pink Floyd           |\n| Naked                 | Talking Heads        |\n| OK Computer           | Radio Head           |\n| Abbey Road            | The Beatles          |\n| Thriller              | Michael Jackson      |\n| Rumours               | Fleetwood Mac        |\n| The Joshua Tree       | U2                   |\n\n",
            "text/latex": "A data.frame: 10 × 2\n\\begin{tabular}{ll}\n Album & Artist\\\\\n <chr> & <chr>\\\\\n\\hline\n\t The Low End Theory    & A Tribe Called Quest\\\\\n\t Nevermind             & Nirvana             \\\\\n\t Port of Morrow        & The Shins           \\\\\n\t Dark Side of the Moon & Pink Floyd          \\\\\n\t Naked                 & Talking Heads       \\\\\n\t OK Computer           & Radio Head          \\\\\n\t Abbey Road            & The Beatles         \\\\\n\t Thriller              & Michael Jackson     \\\\\n\t Rumours               & Fleetwood Mac       \\\\\n\t The Joshua Tree       & U2                  \\\\\n\\end{tabular}\n",
            "text/plain": [
              "   Album                 Artist              \n",
              "1  The Low End Theory    A Tribe Called Quest\n",
              "2  Nevermind             Nirvana             \n",
              "3  Port of Morrow        The Shins           \n",
              "4  Dark Side of the Moon Pink Floyd          \n",
              "5  Naked                 Talking Heads       \n",
              "6  OK Computer           Radio Head          \n",
              "7  Abbey Road            The Beatles         \n",
              "8  Thriller              Michael Jackson     \n",
              "9  Rumours               Fleetwood Mac       \n",
              "10 The Joshua Tree       U2                  "
            ]
          },
          "metadata": {}
        }
      ]
    },
    {
      "cell_type": "code",
      "source": [
        "# get only album and artist for all rows\n",
        "df[ , c(1,4)]"
      ],
      "metadata": {
        "id": "KAvVZxfM3VmZ",
        "outputId": "62300cbb-92f1-4e66-9392-4566433b16ec",
        "colab": {
          "base_uri": "https://localhost:8080/",
          "height": 412
        }
      },
      "execution_count": 34,
      "outputs": [
        {
          "output_type": "display_data",
          "data": {
            "text/html": [
              "<table class=\"dataframe\">\n",
              "<caption>A data.frame: 10 × 2</caption>\n",
              "<thead>\n",
              "\t<tr><th scope=col>Album</th><th scope=col>Artist</th></tr>\n",
              "\t<tr><th scope=col>&lt;chr&gt;</th><th scope=col>&lt;chr&gt;</th></tr>\n",
              "</thead>\n",
              "<tbody>\n",
              "\t<tr><td>The Low End Theory   </td><td>A Tribe Called Quest</td></tr>\n",
              "\t<tr><td>Nevermind            </td><td>Nirvana             </td></tr>\n",
              "\t<tr><td>Port of Morrow       </td><td>The Shins           </td></tr>\n",
              "\t<tr><td>Dark Side of the Moon</td><td>Pink Floyd          </td></tr>\n",
              "\t<tr><td>Naked                </td><td>Talking Heads       </td></tr>\n",
              "\t<tr><td>OK Computer          </td><td>Radio Head          </td></tr>\n",
              "\t<tr><td>Abbey Road           </td><td>The Beatles         </td></tr>\n",
              "\t<tr><td>Thriller             </td><td>Michael Jackson     </td></tr>\n",
              "\t<tr><td>Rumours              </td><td>Fleetwood Mac       </td></tr>\n",
              "\t<tr><td>The Joshua Tree      </td><td>U2                  </td></tr>\n",
              "</tbody>\n",
              "</table>\n"
            ],
            "text/markdown": "\nA data.frame: 10 × 2\n\n| Album &lt;chr&gt; | Artist &lt;chr&gt; |\n|---|---|\n| The Low End Theory    | A Tribe Called Quest |\n| Nevermind             | Nirvana              |\n| Port of Morrow        | The Shins            |\n| Dark Side of the Moon | Pink Floyd           |\n| Naked                 | Talking Heads        |\n| OK Computer           | Radio Head           |\n| Abbey Road            | The Beatles          |\n| Thriller              | Michael Jackson      |\n| Rumours               | Fleetwood Mac        |\n| The Joshua Tree       | U2                   |\n\n",
            "text/latex": "A data.frame: 10 × 2\n\\begin{tabular}{ll}\n Album & Artist\\\\\n <chr> & <chr>\\\\\n\\hline\n\t The Low End Theory    & A Tribe Called Quest\\\\\n\t Nevermind             & Nirvana             \\\\\n\t Port of Morrow        & The Shins           \\\\\n\t Dark Side of the Moon & Pink Floyd          \\\\\n\t Naked                 & Talking Heads       \\\\\n\t OK Computer           & Radio Head          \\\\\n\t Abbey Road            & The Beatles         \\\\\n\t Thriller              & Michael Jackson     \\\\\n\t Rumours               & Fleetwood Mac       \\\\\n\t The Joshua Tree       & U2                  \\\\\n\\end{tabular}\n",
            "text/plain": [
              "   Album                 Artist              \n",
              "1  The Low End Theory    A Tribe Called Quest\n",
              "2  Nevermind             Nirvana             \n",
              "3  Port of Morrow        The Shins           \n",
              "4  Dark Side of the Moon Pink Floyd          \n",
              "5  Naked                 Talking Heads       \n",
              "6  OK Computer           Radio Head          \n",
              "7  Abbey Road            The Beatles         \n",
              "8  Thriller              Michael Jackson     \n",
              "9  Rumours               Fleetwood Mac       \n",
              "10 The Joshua Tree       U2                  "
            ]
          },
          "metadata": {}
        }
      ]
    },
    {
      "cell_type": "code",
      "source": [
        "# use concatenation\n",
        "df[ , c(4,2)]"
      ],
      "metadata": {
        "id": "aIcSQRhB3wTf",
        "outputId": "347da3dd-ca4b-411f-a464-e208df9bf379",
        "colab": {
          "base_uri": "https://localhost:8080/",
          "height": 412
        }
      },
      "execution_count": 35,
      "outputs": [
        {
          "output_type": "display_data",
          "data": {
            "text/html": [
              "<table class=\"dataframe\">\n",
              "<caption>A data.frame: 10 × 2</caption>\n",
              "<thead>\n",
              "\t<tr><th scope=col>Artist</th><th scope=col>Year</th></tr>\n",
              "\t<tr><th scope=col>&lt;chr&gt;</th><th scope=col>&lt;dbl&gt;</th></tr>\n",
              "</thead>\n",
              "<tbody>\n",
              "\t<tr><td>A Tribe Called Quest</td><td>1991</td></tr>\n",
              "\t<tr><td>Nirvana             </td><td>1991</td></tr>\n",
              "\t<tr><td>The Shins           </td><td>2012</td></tr>\n",
              "\t<tr><td>Pink Floyd          </td><td>1973</td></tr>\n",
              "\t<tr><td>Talking Heads       </td><td>1988</td></tr>\n",
              "\t<tr><td>Radio Head          </td><td>1997</td></tr>\n",
              "\t<tr><td>The Beatles         </td><td>1969</td></tr>\n",
              "\t<tr><td>Michael Jackson     </td><td>1982</td></tr>\n",
              "\t<tr><td>Fleetwood Mac       </td><td>1977</td></tr>\n",
              "\t<tr><td>U2                  </td><td>1987</td></tr>\n",
              "</tbody>\n",
              "</table>\n"
            ],
            "text/markdown": "\nA data.frame: 10 × 2\n\n| Artist &lt;chr&gt; | Year &lt;dbl&gt; |\n|---|---|\n| A Tribe Called Quest | 1991 |\n| Nirvana              | 1991 |\n| The Shins            | 2012 |\n| Pink Floyd           | 1973 |\n| Talking Heads        | 1988 |\n| Radio Head           | 1997 |\n| The Beatles          | 1969 |\n| Michael Jackson      | 1982 |\n| Fleetwood Mac        | 1977 |\n| U2                   | 1987 |\n\n",
            "text/latex": "A data.frame: 10 × 2\n\\begin{tabular}{ll}\n Artist & Year\\\\\n <chr> & <dbl>\\\\\n\\hline\n\t A Tribe Called Quest & 1991\\\\\n\t Nirvana              & 1991\\\\\n\t The Shins            & 2012\\\\\n\t Pink Floyd           & 1973\\\\\n\t Talking Heads        & 1988\\\\\n\t Radio Head           & 1997\\\\\n\t The Beatles          & 1969\\\\\n\t Michael Jackson      & 1982\\\\\n\t Fleetwood Mac        & 1977\\\\\n\t U2                   & 1987\\\\\n\\end{tabular}\n",
            "text/plain": [
              "   Artist               Year\n",
              "1  A Tribe Called Quest 1991\n",
              "2  Nirvana              1991\n",
              "3  The Shins            2012\n",
              "4  Pink Floyd           1973\n",
              "5  Talking Heads        1988\n",
              "6  Radio Head           1997\n",
              "7  The Beatles          1969\n",
              "8  Michael Jackson      1982\n",
              "9  Fleetwood Mac        1977\n",
              "10 U2                   1987"
            ]
          },
          "metadata": {}
        }
      ]
    },
    {
      "cell_type": "code",
      "source": [
        "# use concatenation\n",
        "df[c(1,9,4,5), c(4,2)]"
      ],
      "metadata": {
        "id": "588_aaYK3-yd",
        "outputId": "e36e723b-15e0-4705-bb10-35c67e06c052",
        "colab": {
          "base_uri": "https://localhost:8080/",
          "height": 224
        }
      },
      "execution_count": 36,
      "outputs": [
        {
          "output_type": "display_data",
          "data": {
            "text/html": [
              "<table class=\"dataframe\">\n",
              "<caption>A data.frame: 4 × 2</caption>\n",
              "<thead>\n",
              "\t<tr><th></th><th scope=col>Artist</th><th scope=col>Year</th></tr>\n",
              "\t<tr><th></th><th scope=col>&lt;chr&gt;</th><th scope=col>&lt;dbl&gt;</th></tr>\n",
              "</thead>\n",
              "<tbody>\n",
              "\t<tr><th scope=row>1</th><td>A Tribe Called Quest</td><td>1991</td></tr>\n",
              "\t<tr><th scope=row>9</th><td>Fleetwood Mac       </td><td>1977</td></tr>\n",
              "\t<tr><th scope=row>4</th><td>Pink Floyd          </td><td>1973</td></tr>\n",
              "\t<tr><th scope=row>5</th><td>Talking Heads       </td><td>1988</td></tr>\n",
              "</tbody>\n",
              "</table>\n"
            ],
            "text/markdown": "\nA data.frame: 4 × 2\n\n| <!--/--> | Artist &lt;chr&gt; | Year &lt;dbl&gt; |\n|---|---|---|\n| 1 | A Tribe Called Quest | 1991 |\n| 9 | Fleetwood Mac        | 1977 |\n| 4 | Pink Floyd           | 1973 |\n| 5 | Talking Heads        | 1988 |\n\n",
            "text/latex": "A data.frame: 4 × 2\n\\begin{tabular}{r|ll}\n  & Artist & Year\\\\\n  & <chr> & <dbl>\\\\\n\\hline\n\t1 & A Tribe Called Quest & 1991\\\\\n\t9 & Fleetwood Mac        & 1977\\\\\n\t4 & Pink Floyd           & 1973\\\\\n\t5 & Talking Heads        & 1988\\\\\n\\end{tabular}\n",
            "text/plain": [
              "  Artist               Year\n",
              "1 A Tribe Called Quest 1991\n",
              "9 Fleetwood Mac        1977\n",
              "4 Pink Floyd           1973\n",
              "5 Talking Heads        1988"
            ]
          },
          "metadata": {}
        }
      ]
    },
    {
      "cell_type": "code",
      "source": [
        "# specify by column names with concatenation\n",
        "df[ , c(\"Album\",\"Artist\")]"
      ],
      "metadata": {
        "id": "FSPqRTx84Rx8",
        "outputId": "89cd0fd5-099f-4bb0-c1a0-1695814a4e44",
        "colab": {
          "base_uri": "https://localhost:8080/",
          "height": 412
        }
      },
      "execution_count": 37,
      "outputs": [
        {
          "output_type": "display_data",
          "data": {
            "text/html": [
              "<table class=\"dataframe\">\n",
              "<caption>A data.frame: 10 × 2</caption>\n",
              "<thead>\n",
              "\t<tr><th scope=col>Album</th><th scope=col>Artist</th></tr>\n",
              "\t<tr><th scope=col>&lt;chr&gt;</th><th scope=col>&lt;chr&gt;</th></tr>\n",
              "</thead>\n",
              "<tbody>\n",
              "\t<tr><td>The Low End Theory   </td><td>A Tribe Called Quest</td></tr>\n",
              "\t<tr><td>Nevermind            </td><td>Nirvana             </td></tr>\n",
              "\t<tr><td>Port of Morrow       </td><td>The Shins           </td></tr>\n",
              "\t<tr><td>Dark Side of the Moon</td><td>Pink Floyd          </td></tr>\n",
              "\t<tr><td>Naked                </td><td>Talking Heads       </td></tr>\n",
              "\t<tr><td>OK Computer          </td><td>Radio Head          </td></tr>\n",
              "\t<tr><td>Abbey Road           </td><td>The Beatles         </td></tr>\n",
              "\t<tr><td>Thriller             </td><td>Michael Jackson     </td></tr>\n",
              "\t<tr><td>Rumours              </td><td>Fleetwood Mac       </td></tr>\n",
              "\t<tr><td>The Joshua Tree      </td><td>U2                  </td></tr>\n",
              "</tbody>\n",
              "</table>\n"
            ],
            "text/markdown": "\nA data.frame: 10 × 2\n\n| Album &lt;chr&gt; | Artist &lt;chr&gt; |\n|---|---|\n| The Low End Theory    | A Tribe Called Quest |\n| Nevermind             | Nirvana              |\n| Port of Morrow        | The Shins            |\n| Dark Side of the Moon | Pink Floyd           |\n| Naked                 | Talking Heads        |\n| OK Computer           | Radio Head           |\n| Abbey Road            | The Beatles          |\n| Thriller              | Michael Jackson      |\n| Rumours               | Fleetwood Mac        |\n| The Joshua Tree       | U2                   |\n\n",
            "text/latex": "A data.frame: 10 × 2\n\\begin{tabular}{ll}\n Album & Artist\\\\\n <chr> & <chr>\\\\\n\\hline\n\t The Low End Theory    & A Tribe Called Quest\\\\\n\t Nevermind             & Nirvana             \\\\\n\t Port of Morrow        & The Shins           \\\\\n\t Dark Side of the Moon & Pink Floyd          \\\\\n\t Naked                 & Talking Heads       \\\\\n\t OK Computer           & Radio Head          \\\\\n\t Abbey Road            & The Beatles         \\\\\n\t Thriller              & Michael Jackson     \\\\\n\t Rumours               & Fleetwood Mac       \\\\\n\t The Joshua Tree       & U2                  \\\\\n\\end{tabular}\n",
            "text/plain": [
              "   Album                 Artist              \n",
              "1  The Low End Theory    A Tribe Called Quest\n",
              "2  Nevermind             Nirvana             \n",
              "3  Port of Morrow        The Shins           \n",
              "4  Dark Side of the Moon Pink Floyd          \n",
              "5  Naked                 Talking Heads       \n",
              "6  OK Computer           Radio Head          \n",
              "7  Abbey Road            The Beatles         \n",
              "8  Thriller              Michael Jackson     \n",
              "9  Rumours               Fleetwood Mac       \n",
              "10 The Joshua Tree       U2                  "
            ]
          },
          "metadata": {}
        }
      ]
    },
    {
      "cell_type": "code",
      "source": [
        "df"
      ],
      "metadata": {
        "id": "ekzV9ct2psrO",
        "outputId": "326e769f-4d7c-457a-98c9-1d6a8e1b7df7",
        "colab": {
          "base_uri": "https://localhost:8080/",
          "height": 412
        }
      },
      "execution_count": 38,
      "outputs": [
        {
          "output_type": "display_data",
          "data": {
            "text/html": [
              "<table class=\"dataframe\">\n",
              "<caption>A data.frame: 10 × 4</caption>\n",
              "<thead>\n",
              "\t<tr><th scope=col>Album</th><th scope=col>Year</th><th scope=col>Digital</th><th scope=col>Artist</th></tr>\n",
              "\t<tr><th scope=col>&lt;chr&gt;</th><th scope=col>&lt;dbl&gt;</th><th scope=col>&lt;lgl&gt;</th><th scope=col>&lt;chr&gt;</th></tr>\n",
              "</thead>\n",
              "<tbody>\n",
              "\t<tr><td>The Low End Theory   </td><td>1991</td><td>FALSE</td><td>A Tribe Called Quest</td></tr>\n",
              "\t<tr><td>Nevermind            </td><td>1991</td><td>FALSE</td><td>Nirvana             </td></tr>\n",
              "\t<tr><td>Port of Morrow       </td><td>2012</td><td> TRUE</td><td>The Shins           </td></tr>\n",
              "\t<tr><td>Dark Side of the Moon</td><td>1973</td><td>FALSE</td><td>Pink Floyd          </td></tr>\n",
              "\t<tr><td>Naked                </td><td>1988</td><td> TRUE</td><td>Talking Heads       </td></tr>\n",
              "\t<tr><td>OK Computer          </td><td>1997</td><td> TRUE</td><td>Radio Head          </td></tr>\n",
              "\t<tr><td>Abbey Road           </td><td>1969</td><td>FALSE</td><td>The Beatles         </td></tr>\n",
              "\t<tr><td>Thriller             </td><td>1982</td><td>FALSE</td><td>Michael Jackson     </td></tr>\n",
              "\t<tr><td>Rumours              </td><td>1977</td><td>FALSE</td><td>Fleetwood Mac       </td></tr>\n",
              "\t<tr><td>The Joshua Tree      </td><td>1987</td><td> TRUE</td><td>U2                  </td></tr>\n",
              "</tbody>\n",
              "</table>\n"
            ],
            "text/markdown": "\nA data.frame: 10 × 4\n\n| Album &lt;chr&gt; | Year &lt;dbl&gt; | Digital &lt;lgl&gt; | Artist &lt;chr&gt; |\n|---|---|---|---|\n| The Low End Theory    | 1991 | FALSE | A Tribe Called Quest |\n| Nevermind             | 1991 | FALSE | Nirvana              |\n| Port of Morrow        | 2012 |  TRUE | The Shins            |\n| Dark Side of the Moon | 1973 | FALSE | Pink Floyd           |\n| Naked                 | 1988 |  TRUE | Talking Heads        |\n| OK Computer           | 1997 |  TRUE | Radio Head           |\n| Abbey Road            | 1969 | FALSE | The Beatles          |\n| Thriller              | 1982 | FALSE | Michael Jackson      |\n| Rumours               | 1977 | FALSE | Fleetwood Mac        |\n| The Joshua Tree       | 1987 |  TRUE | U2                   |\n\n",
            "text/latex": "A data.frame: 10 × 4\n\\begin{tabular}{llll}\n Album & Year & Digital & Artist\\\\\n <chr> & <dbl> & <lgl> & <chr>\\\\\n\\hline\n\t The Low End Theory    & 1991 & FALSE & A Tribe Called Quest\\\\\n\t Nevermind             & 1991 & FALSE & Nirvana             \\\\\n\t Port of Morrow        & 2012 &  TRUE & The Shins           \\\\\n\t Dark Side of the Moon & 1973 & FALSE & Pink Floyd          \\\\\n\t Naked                 & 1988 &  TRUE & Talking Heads       \\\\\n\t OK Computer           & 1997 &  TRUE & Radio Head          \\\\\n\t Abbey Road            & 1969 & FALSE & The Beatles         \\\\\n\t Thriller              & 1982 & FALSE & Michael Jackson     \\\\\n\t Rumours               & 1977 & FALSE & Fleetwood Mac       \\\\\n\t The Joshua Tree       & 1987 &  TRUE & U2                  \\\\\n\\end{tabular}\n",
            "text/plain": [
              "   Album                 Year Digital Artist              \n",
              "1  The Low End Theory    1991 FALSE   A Tribe Called Quest\n",
              "2  Nevermind             1991 FALSE   Nirvana             \n",
              "3  Port of Morrow        2012  TRUE   The Shins           \n",
              "4  Dark Side of the Moon 1973 FALSE   Pink Floyd          \n",
              "5  Naked                 1988  TRUE   Talking Heads       \n",
              "6  OK Computer           1997  TRUE   Radio Head          \n",
              "7  Abbey Road            1969 FALSE   The Beatles         \n",
              "8  Thriller              1982 FALSE   Michael Jackson     \n",
              "9  Rumours               1977 FALSE   Fleetwood Mac       \n",
              "10 The Joshua Tree       1987  TRUE   U2                  "
            ]
          },
          "metadata": {}
        }
      ]
    },
    {
      "cell_type": "code",
      "source": [
        "# where digital column is FALSE\n",
        "df[df$Digital == FALSE , ]"
      ],
      "metadata": {
        "id": "lajmMc1VptgT",
        "outputId": "81924655-5811-473f-96c1-75a46d5018d8",
        "colab": {
          "base_uri": "https://localhost:8080/",
          "height": 286
        }
      },
      "execution_count": 40,
      "outputs": [
        {
          "output_type": "display_data",
          "data": {
            "text/html": [
              "<table class=\"dataframe\">\n",
              "<caption>A data.frame: 6 × 4</caption>\n",
              "<thead>\n",
              "\t<tr><th></th><th scope=col>Album</th><th scope=col>Year</th><th scope=col>Digital</th><th scope=col>Artist</th></tr>\n",
              "\t<tr><th></th><th scope=col>&lt;chr&gt;</th><th scope=col>&lt;dbl&gt;</th><th scope=col>&lt;lgl&gt;</th><th scope=col>&lt;chr&gt;</th></tr>\n",
              "</thead>\n",
              "<tbody>\n",
              "\t<tr><th scope=row>1</th><td>The Low End Theory   </td><td>1991</td><td>FALSE</td><td>A Tribe Called Quest</td></tr>\n",
              "\t<tr><th scope=row>2</th><td>Nevermind            </td><td>1991</td><td>FALSE</td><td>Nirvana             </td></tr>\n",
              "\t<tr><th scope=row>4</th><td>Dark Side of the Moon</td><td>1973</td><td>FALSE</td><td>Pink Floyd          </td></tr>\n",
              "\t<tr><th scope=row>7</th><td>Abbey Road           </td><td>1969</td><td>FALSE</td><td>The Beatles         </td></tr>\n",
              "\t<tr><th scope=row>8</th><td>Thriller             </td><td>1982</td><td>FALSE</td><td>Michael Jackson     </td></tr>\n",
              "\t<tr><th scope=row>9</th><td>Rumours              </td><td>1977</td><td>FALSE</td><td>Fleetwood Mac       </td></tr>\n",
              "</tbody>\n",
              "</table>\n"
            ],
            "text/markdown": "\nA data.frame: 6 × 4\n\n| <!--/--> | Album &lt;chr&gt; | Year &lt;dbl&gt; | Digital &lt;lgl&gt; | Artist &lt;chr&gt; |\n|---|---|---|---|---|\n| 1 | The Low End Theory    | 1991 | FALSE | A Tribe Called Quest |\n| 2 | Nevermind             | 1991 | FALSE | Nirvana              |\n| 4 | Dark Side of the Moon | 1973 | FALSE | Pink Floyd           |\n| 7 | Abbey Road            | 1969 | FALSE | The Beatles          |\n| 8 | Thriller              | 1982 | FALSE | Michael Jackson      |\n| 9 | Rumours               | 1977 | FALSE | Fleetwood Mac        |\n\n",
            "text/latex": "A data.frame: 6 × 4\n\\begin{tabular}{r|llll}\n  & Album & Year & Digital & Artist\\\\\n  & <chr> & <dbl> & <lgl> & <chr>\\\\\n\\hline\n\t1 & The Low End Theory    & 1991 & FALSE & A Tribe Called Quest\\\\\n\t2 & Nevermind             & 1991 & FALSE & Nirvana             \\\\\n\t4 & Dark Side of the Moon & 1973 & FALSE & Pink Floyd          \\\\\n\t7 & Abbey Road            & 1969 & FALSE & The Beatles         \\\\\n\t8 & Thriller              & 1982 & FALSE & Michael Jackson     \\\\\n\t9 & Rumours               & 1977 & FALSE & Fleetwood Mac       \\\\\n\\end{tabular}\n",
            "text/plain": [
              "  Album                 Year Digital Artist              \n",
              "1 The Low End Theory    1991 FALSE   A Tribe Called Quest\n",
              "2 Nevermind             1991 FALSE   Nirvana             \n",
              "4 Dark Side of the Moon 1973 FALSE   Pink Floyd          \n",
              "7 Abbey Road            1969 FALSE   The Beatles         \n",
              "8 Thriller              1982 FALSE   Michael Jackson     \n",
              "9 Rumours               1977 FALSE   Fleetwood Mac       "
            ]
          },
          "metadata": {}
        }
      ]
    },
    {
      "cell_type": "code",
      "source": [
        "# use mathematical operations to filter\n",
        "df[df$Year > 1990, ]"
      ],
      "metadata": {
        "id": "8Li_TatiptYh",
        "outputId": "fdcf9fdd-ef5d-4ceb-da9e-80a87146f800",
        "colab": {
          "base_uri": "https://localhost:8080/",
          "height": 224
        }
      },
      "execution_count": 42,
      "outputs": [
        {
          "output_type": "display_data",
          "data": {
            "text/html": [
              "<table class=\"dataframe\">\n",
              "<caption>A data.frame: 4 × 4</caption>\n",
              "<thead>\n",
              "\t<tr><th></th><th scope=col>Album</th><th scope=col>Year</th><th scope=col>Digital</th><th scope=col>Artist</th></tr>\n",
              "\t<tr><th></th><th scope=col>&lt;chr&gt;</th><th scope=col>&lt;dbl&gt;</th><th scope=col>&lt;lgl&gt;</th><th scope=col>&lt;chr&gt;</th></tr>\n",
              "</thead>\n",
              "<tbody>\n",
              "\t<tr><th scope=row>1</th><td>The Low End Theory</td><td>1991</td><td>FALSE</td><td>A Tribe Called Quest</td></tr>\n",
              "\t<tr><th scope=row>2</th><td>Nevermind         </td><td>1991</td><td>FALSE</td><td>Nirvana             </td></tr>\n",
              "\t<tr><th scope=row>3</th><td>Port of Morrow    </td><td>2012</td><td> TRUE</td><td>The Shins           </td></tr>\n",
              "\t<tr><th scope=row>6</th><td>OK Computer       </td><td>1997</td><td> TRUE</td><td>Radio Head          </td></tr>\n",
              "</tbody>\n",
              "</table>\n"
            ],
            "text/markdown": "\nA data.frame: 4 × 4\n\n| <!--/--> | Album &lt;chr&gt; | Year &lt;dbl&gt; | Digital &lt;lgl&gt; | Artist &lt;chr&gt; |\n|---|---|---|---|---|\n| 1 | The Low End Theory | 1991 | FALSE | A Tribe Called Quest |\n| 2 | Nevermind          | 1991 | FALSE | Nirvana              |\n| 3 | Port of Morrow     | 2012 |  TRUE | The Shins            |\n| 6 | OK Computer        | 1997 |  TRUE | Radio Head           |\n\n",
            "text/latex": "A data.frame: 4 × 4\n\\begin{tabular}{r|llll}\n  & Album & Year & Digital & Artist\\\\\n  & <chr> & <dbl> & <lgl> & <chr>\\\\\n\\hline\n\t1 & The Low End Theory & 1991 & FALSE & A Tribe Called Quest\\\\\n\t2 & Nevermind          & 1991 & FALSE & Nirvana             \\\\\n\t3 & Port of Morrow     & 2012 &  TRUE & The Shins           \\\\\n\t6 & OK Computer        & 1997 &  TRUE & Radio Head          \\\\\n\\end{tabular}\n",
            "text/plain": [
              "  Album              Year Digital Artist              \n",
              "1 The Low End Theory 1991 FALSE   A Tribe Called Quest\n",
              "2 Nevermind          1991 FALSE   Nirvana             \n",
              "3 Port of Morrow     2012  TRUE   The Shins           \n",
              "6 OK Computer        1997  TRUE   Radio Head          "
            ]
          },
          "metadata": {}
        }
      ]
    },
    {
      "cell_type": "code",
      "source": [
        "# chain operations together\n",
        "df[df$Year > 1990 & df$Digital == TRUE, ]"
      ],
      "metadata": {
        "id": "Obg94MoNptCB",
        "outputId": "34c2a284-0ff5-4bee-8873-2e4a2671a625",
        "colab": {
          "base_uri": "https://localhost:8080/",
          "height": 161
        }
      },
      "execution_count": 45,
      "outputs": [
        {
          "output_type": "display_data",
          "data": {
            "text/html": [
              "<table class=\"dataframe\">\n",
              "<caption>A data.frame: 2 × 4</caption>\n",
              "<thead>\n",
              "\t<tr><th></th><th scope=col>Album</th><th scope=col>Year</th><th scope=col>Digital</th><th scope=col>Artist</th></tr>\n",
              "\t<tr><th></th><th scope=col>&lt;chr&gt;</th><th scope=col>&lt;dbl&gt;</th><th scope=col>&lt;lgl&gt;</th><th scope=col>&lt;chr&gt;</th></tr>\n",
              "</thead>\n",
              "<tbody>\n",
              "\t<tr><th scope=row>3</th><td>Port of Morrow</td><td>2012</td><td>TRUE</td><td>The Shins </td></tr>\n",
              "\t<tr><th scope=row>6</th><td>OK Computer   </td><td>1997</td><td>TRUE</td><td>Radio Head</td></tr>\n",
              "</tbody>\n",
              "</table>\n"
            ],
            "text/markdown": "\nA data.frame: 2 × 4\n\n| <!--/--> | Album &lt;chr&gt; | Year &lt;dbl&gt; | Digital &lt;lgl&gt; | Artist &lt;chr&gt; |\n|---|---|---|---|---|\n| 3 | Port of Morrow | 2012 | TRUE | The Shins  |\n| 6 | OK Computer    | 1997 | TRUE | Radio Head |\n\n",
            "text/latex": "A data.frame: 2 × 4\n\\begin{tabular}{r|llll}\n  & Album & Year & Digital & Artist\\\\\n  & <chr> & <dbl> & <lgl> & <chr>\\\\\n\\hline\n\t3 & Port of Morrow & 2012 & TRUE & The Shins \\\\\n\t6 & OK Computer    & 1997 & TRUE & Radio Head\\\\\n\\end{tabular}\n",
            "text/plain": [
              "  Album          Year Digital Artist    \n",
              "3 Port of Morrow 2012 TRUE    The Shins \n",
              "6 OK Computer    1997 TRUE    Radio Head"
            ]
          },
          "metadata": {}
        }
      ]
    },
    {
      "cell_type": "code",
      "source": [
        "df[df$Year > 1990 | df$Digital == FALSE, ]"
      ],
      "metadata": {
        "id": "nhhR3Q_Q5ZZ5",
        "outputId": "707ed5de-7153-4acc-9999-22183455ac0d",
        "colab": {
          "base_uri": "https://localhost:8080/",
          "height": 349
        }
      },
      "execution_count": 49,
      "outputs": [
        {
          "output_type": "display_data",
          "data": {
            "text/html": [
              "<table class=\"dataframe\">\n",
              "<caption>A data.frame: 8 × 4</caption>\n",
              "<thead>\n",
              "\t<tr><th></th><th scope=col>Album</th><th scope=col>Year</th><th scope=col>Digital</th><th scope=col>Artist</th></tr>\n",
              "\t<tr><th></th><th scope=col>&lt;chr&gt;</th><th scope=col>&lt;dbl&gt;</th><th scope=col>&lt;lgl&gt;</th><th scope=col>&lt;chr&gt;</th></tr>\n",
              "</thead>\n",
              "<tbody>\n",
              "\t<tr><th scope=row>1</th><td>The Low End Theory   </td><td>1991</td><td>FALSE</td><td>A Tribe Called Quest</td></tr>\n",
              "\t<tr><th scope=row>2</th><td>Nevermind            </td><td>1991</td><td>FALSE</td><td>Nirvana             </td></tr>\n",
              "\t<tr><th scope=row>3</th><td>Port of Morrow       </td><td>2012</td><td> TRUE</td><td>The Shins           </td></tr>\n",
              "\t<tr><th scope=row>4</th><td>Dark Side of the Moon</td><td>1973</td><td>FALSE</td><td>Pink Floyd          </td></tr>\n",
              "\t<tr><th scope=row>6</th><td>OK Computer          </td><td>1997</td><td> TRUE</td><td>Radio Head          </td></tr>\n",
              "\t<tr><th scope=row>7</th><td>Abbey Road           </td><td>1969</td><td>FALSE</td><td>The Beatles         </td></tr>\n",
              "\t<tr><th scope=row>8</th><td>Thriller             </td><td>1982</td><td>FALSE</td><td>Michael Jackson     </td></tr>\n",
              "\t<tr><th scope=row>9</th><td>Rumours              </td><td>1977</td><td>FALSE</td><td>Fleetwood Mac       </td></tr>\n",
              "</tbody>\n",
              "</table>\n"
            ],
            "text/markdown": "\nA data.frame: 8 × 4\n\n| <!--/--> | Album &lt;chr&gt; | Year &lt;dbl&gt; | Digital &lt;lgl&gt; | Artist &lt;chr&gt; |\n|---|---|---|---|---|\n| 1 | The Low End Theory    | 1991 | FALSE | A Tribe Called Quest |\n| 2 | Nevermind             | 1991 | FALSE | Nirvana              |\n| 3 | Port of Morrow        | 2012 |  TRUE | The Shins            |\n| 4 | Dark Side of the Moon | 1973 | FALSE | Pink Floyd           |\n| 6 | OK Computer           | 1997 |  TRUE | Radio Head           |\n| 7 | Abbey Road            | 1969 | FALSE | The Beatles          |\n| 8 | Thriller              | 1982 | FALSE | Michael Jackson      |\n| 9 | Rumours               | 1977 | FALSE | Fleetwood Mac        |\n\n",
            "text/latex": "A data.frame: 8 × 4\n\\begin{tabular}{r|llll}\n  & Album & Year & Digital & Artist\\\\\n  & <chr> & <dbl> & <lgl> & <chr>\\\\\n\\hline\n\t1 & The Low End Theory    & 1991 & FALSE & A Tribe Called Quest\\\\\n\t2 & Nevermind             & 1991 & FALSE & Nirvana             \\\\\n\t3 & Port of Morrow        & 2012 &  TRUE & The Shins           \\\\\n\t4 & Dark Side of the Moon & 1973 & FALSE & Pink Floyd          \\\\\n\t6 & OK Computer           & 1997 &  TRUE & Radio Head          \\\\\n\t7 & Abbey Road            & 1969 & FALSE & The Beatles         \\\\\n\t8 & Thriller              & 1982 & FALSE & Michael Jackson     \\\\\n\t9 & Rumours               & 1977 & FALSE & Fleetwood Mac       \\\\\n\\end{tabular}\n",
            "text/plain": [
              "  Album                 Year Digital Artist              \n",
              "1 The Low End Theory    1991 FALSE   A Tribe Called Quest\n",
              "2 Nevermind             1991 FALSE   Nirvana             \n",
              "3 Port of Morrow        2012  TRUE   The Shins           \n",
              "4 Dark Side of the Moon 1973 FALSE   Pink Floyd          \n",
              "6 OK Computer           1997  TRUE   Radio Head          \n",
              "7 Abbey Road            1969 FALSE   The Beatles         \n",
              "8 Thriller              1982 FALSE   Michael Jackson     \n",
              "9 Rumours               1977 FALSE   Fleetwood Mac       "
            ]
          },
          "metadata": {}
        }
      ]
    },
    {
      "cell_type": "markdown",
      "source": [
        "## `tidyverse`"
      ],
      "metadata": {
        "id": "fALGIGm_p0Hq"
      }
    },
    {
      "cell_type": "code",
      "source": [
        "# Installing packages\n",
        "install.packages(\"tidyverse\")"
      ],
      "metadata": {
        "id": "Kyz85b73p2BQ"
      },
      "execution_count": null,
      "outputs": []
    },
    {
      "cell_type": "code",
      "source": [
        "# Loading a library\n",
        "library(tidyverse)"
      ],
      "metadata": {
        "id": "ga-N-9ULrNy9"
      },
      "execution_count": 60,
      "outputs": []
    },
    {
      "cell_type": "code",
      "source": [
        "# Piping - pushing something into something esle\n",
        "# %>% = piping\n",
        "\n",
        "df %>%\n",
        "  select(Album, Year) %>%     # select these two columns\n",
        "  filter(Year > 1990)         # filter by years"
      ],
      "metadata": {
        "id": "Ydtq1VX7p-Or",
        "outputId": "6b129bb3-d091-4bd2-ecef-e8281910fc04",
        "colab": {
          "base_uri": "https://localhost:8080/",
          "height": 224
        }
      },
      "execution_count": 61,
      "outputs": [
        {
          "output_type": "display_data",
          "data": {
            "text/html": [
              "<table class=\"dataframe\">\n",
              "<caption>A data.frame: 4 × 2</caption>\n",
              "<thead>\n",
              "\t<tr><th scope=col>Album</th><th scope=col>Year</th></tr>\n",
              "\t<tr><th scope=col>&lt;chr&gt;</th><th scope=col>&lt;dbl&gt;</th></tr>\n",
              "</thead>\n",
              "<tbody>\n",
              "\t<tr><td>The Low End Theory</td><td>1991</td></tr>\n",
              "\t<tr><td>Nevermind         </td><td>1991</td></tr>\n",
              "\t<tr><td>Port of Morrow    </td><td>2012</td></tr>\n",
              "\t<tr><td>OK Computer       </td><td>1997</td></tr>\n",
              "</tbody>\n",
              "</table>\n"
            ],
            "text/markdown": "\nA data.frame: 4 × 2\n\n| Album &lt;chr&gt; | Year &lt;dbl&gt; |\n|---|---|\n| The Low End Theory | 1991 |\n| Nevermind          | 1991 |\n| Port of Morrow     | 2012 |\n| OK Computer        | 1997 |\n\n",
            "text/latex": "A data.frame: 4 × 2\n\\begin{tabular}{ll}\n Album & Year\\\\\n <chr> & <dbl>\\\\\n\\hline\n\t The Low End Theory & 1991\\\\\n\t Nevermind          & 1991\\\\\n\t Port of Morrow     & 2012\\\\\n\t OK Computer        & 1997\\\\\n\\end{tabular}\n",
            "text/plain": [
              "  Album              Year\n",
              "1 The Low End Theory 1991\n",
              "2 Nevermind          1991\n",
              "3 Port of Morrow     2012\n",
              "4 OK Computer        1997"
            ]
          },
          "metadata": {}
        }
      ]
    },
    {
      "cell_type": "code",
      "source": [
        "# Loading a CSV file into a data frame\n",
        "titanic <- read.csv(\"https://raw.githubusercontent.com/datasciencedojo/datasets/master/titanic.csv\")\n",
        "titanic"
      ],
      "metadata": {
        "id": "3YMU_jGGqQuL"
      },
      "execution_count": null,
      "outputs": []
    },
    {
      "cell_type": "code",
      "source": [
        "# use filtering methods to inspect data\n",
        "titanic %>%\n",
        "  select(Pclass, Name, Sex, Fare, Age) %>%\n",
        "  filter(Sex == \"female\") %>%\n",
        "  filter(Pclass == 3) %>%\n",
        "  filter(Age < 20) %>%\n",
        "  arrange(Name)     # arrange is a sort command -- sorts ascending"
      ],
      "metadata": {
        "id": "G9Z1-bo07VRI"
      },
      "execution_count": null,
      "outputs": []
    },
    {
      "cell_type": "code",
      "source": [
        "# inject into a data fram\n",
        "df2 <- titanic %>%\n",
        "  select(Pclass, Name, Sex, Fare, Age) %>%\n",
        "  filter(Sex == \"female\") %>%\n",
        "  filter(Pclass == 3) %>%\n",
        "  filter(Age < 20) %>%\n",
        "  arrange(Name)"
      ],
      "metadata": {
        "id": "to-uo5uK8IOZ"
      },
      "execution_count": 66,
      "outputs": []
    },
    {
      "cell_type": "code",
      "source": [
        "# R has built in data sets\n",
        "starwars"
      ],
      "metadata": {
        "id": "kxeURyGB8fGl"
      },
      "execution_count": null,
      "outputs": []
    },
    {
      "cell_type": "code",
      "source": [
        "# ? in front of data set to get info\n",
        "?starwars"
      ],
      "metadata": {
        "id": "BIJzuT6H9LIe"
      },
      "execution_count": 74,
      "outputs": []
    },
    {
      "cell_type": "code",
      "source": [
        "str(starwars)"
      ],
      "metadata": {
        "id": "IlkSr4m59EdT"
      },
      "execution_count": null,
      "outputs": []
    },
    {
      "cell_type": "code",
      "source": [
        "# filter data then omit blank / na data\n",
        "starwars %>%\n",
        "  select(gender, mass, height, species) %>%\n",
        "  filter(species == \"Human\") %>%\n",
        "  na.omit()"
      ],
      "metadata": {
        "id": "geAywaDI9Ppv",
        "outputId": "ec3b82f2-f3cf-42e3-90e6-617c2ce0e16c",
        "colab": {
          "base_uri": "https://localhost:8080/",
          "height": 788
        }
      },
      "execution_count": 78,
      "outputs": [
        {
          "output_type": "display_data",
          "data": {
            "text/html": [
              "<table class=\"dataframe\">\n",
              "<caption>A tibble: 22 × 4</caption>\n",
              "<thead>\n",
              "\t<tr><th scope=col>gender</th><th scope=col>mass</th><th scope=col>height</th><th scope=col>species</th></tr>\n",
              "\t<tr><th scope=col>&lt;chr&gt;</th><th scope=col>&lt;dbl&gt;</th><th scope=col>&lt;int&gt;</th><th scope=col>&lt;chr&gt;</th></tr>\n",
              "</thead>\n",
              "<tbody>\n",
              "\t<tr><td>masculine</td><td> 77.0</td><td>172</td><td>Human</td></tr>\n",
              "\t<tr><td>masculine</td><td>136.0</td><td>202</td><td>Human</td></tr>\n",
              "\t<tr><td>feminine </td><td> 49.0</td><td>150</td><td>Human</td></tr>\n",
              "\t<tr><td>masculine</td><td>120.0</td><td>178</td><td>Human</td></tr>\n",
              "\t<tr><td>feminine </td><td> 75.0</td><td>165</td><td>Human</td></tr>\n",
              "\t<tr><td>masculine</td><td> 84.0</td><td>183</td><td>Human</td></tr>\n",
              "\t<tr><td>masculine</td><td> 77.0</td><td>182</td><td>Human</td></tr>\n",
              "\t<tr><td>masculine</td><td> 84.0</td><td>188</td><td>Human</td></tr>\n",
              "\t<tr><td>masculine</td><td> 80.0</td><td>180</td><td>Human</td></tr>\n",
              "\t<tr><td>masculine</td><td> 77.0</td><td>170</td><td>Human</td></tr>\n",
              "\t<tr><td>masculine</td><td>110.0</td><td>180</td><td>Human</td></tr>\n",
              "\t<tr><td>masculine</td><td> 75.0</td><td>170</td><td>Human</td></tr>\n",
              "\t<tr><td>masculine</td><td> 78.2</td><td>183</td><td>Human</td></tr>\n",
              "\t<tr><td>masculine</td><td> 79.0</td><td>177</td><td>Human</td></tr>\n",
              "\t<tr><td>masculine</td><td> 79.0</td><td>175</td><td>Human</td></tr>\n",
              "\t<tr><td>masculine</td><td> 89.0</td><td>193</td><td>Human</td></tr>\n",
              "\t<tr><td>masculine</td><td> 84.0</td><td>188</td><td>Human</td></tr>\n",
              "\t<tr><td>masculine</td><td> 85.0</td><td>185</td><td>Human</td></tr>\n",
              "\t<tr><td>masculine</td><td> 80.0</td><td>193</td><td>Human</td></tr>\n",
              "\t<tr><td>masculine</td><td> 79.0</td><td>183</td><td>Human</td></tr>\n",
              "\t<tr><td>masculine</td><td> 79.0</td><td>188</td><td>Human</td></tr>\n",
              "\t<tr><td>feminine </td><td> 45.0</td><td>165</td><td>Human</td></tr>\n",
              "</tbody>\n",
              "</table>\n"
            ],
            "text/markdown": "\nA tibble: 22 × 4\n\n| gender &lt;chr&gt; | mass &lt;dbl&gt; | height &lt;int&gt; | species &lt;chr&gt; |\n|---|---|---|---|\n| masculine |  77.0 | 172 | Human |\n| masculine | 136.0 | 202 | Human |\n| feminine  |  49.0 | 150 | Human |\n| masculine | 120.0 | 178 | Human |\n| feminine  |  75.0 | 165 | Human |\n| masculine |  84.0 | 183 | Human |\n| masculine |  77.0 | 182 | Human |\n| masculine |  84.0 | 188 | Human |\n| masculine |  80.0 | 180 | Human |\n| masculine |  77.0 | 170 | Human |\n| masculine | 110.0 | 180 | Human |\n| masculine |  75.0 | 170 | Human |\n| masculine |  78.2 | 183 | Human |\n| masculine |  79.0 | 177 | Human |\n| masculine |  79.0 | 175 | Human |\n| masculine |  89.0 | 193 | Human |\n| masculine |  84.0 | 188 | Human |\n| masculine |  85.0 | 185 | Human |\n| masculine |  80.0 | 193 | Human |\n| masculine |  79.0 | 183 | Human |\n| masculine |  79.0 | 188 | Human |\n| feminine  |  45.0 | 165 | Human |\n\n",
            "text/latex": "A tibble: 22 × 4\n\\begin{tabular}{llll}\n gender & mass & height & species\\\\\n <chr> & <dbl> & <int> & <chr>\\\\\n\\hline\n\t masculine &  77.0 & 172 & Human\\\\\n\t masculine & 136.0 & 202 & Human\\\\\n\t feminine  &  49.0 & 150 & Human\\\\\n\t masculine & 120.0 & 178 & Human\\\\\n\t feminine  &  75.0 & 165 & Human\\\\\n\t masculine &  84.0 & 183 & Human\\\\\n\t masculine &  77.0 & 182 & Human\\\\\n\t masculine &  84.0 & 188 & Human\\\\\n\t masculine &  80.0 & 180 & Human\\\\\n\t masculine &  77.0 & 170 & Human\\\\\n\t masculine & 110.0 & 180 & Human\\\\\n\t masculine &  75.0 & 170 & Human\\\\\n\t masculine &  78.2 & 183 & Human\\\\\n\t masculine &  79.0 & 177 & Human\\\\\n\t masculine &  79.0 & 175 & Human\\\\\n\t masculine &  89.0 & 193 & Human\\\\\n\t masculine &  84.0 & 188 & Human\\\\\n\t masculine &  85.0 & 185 & Human\\\\\n\t masculine &  80.0 & 193 & Human\\\\\n\t masculine &  79.0 & 183 & Human\\\\\n\t masculine &  79.0 & 188 & Human\\\\\n\t feminine  &  45.0 & 165 & Human\\\\\n\\end{tabular}\n",
            "text/plain": [
              "   gender    mass  height species\n",
              "1  masculine  77.0 172    Human  \n",
              "2  masculine 136.0 202    Human  \n",
              "3  feminine   49.0 150    Human  \n",
              "4  masculine 120.0 178    Human  \n",
              "5  feminine   75.0 165    Human  \n",
              "6  masculine  84.0 183    Human  \n",
              "7  masculine  77.0 182    Human  \n",
              "8  masculine  84.0 188    Human  \n",
              "9  masculine  80.0 180    Human  \n",
              "10 masculine  77.0 170    Human  \n",
              "11 masculine 110.0 180    Human  \n",
              "12 masculine  75.0 170    Human  \n",
              "13 masculine  78.2 183    Human  \n",
              "14 masculine  79.0 177    Human  \n",
              "15 masculine  79.0 175    Human  \n",
              "16 masculine  89.0 193    Human  \n",
              "17 masculine  84.0 188    Human  \n",
              "18 masculine  85.0 185    Human  \n",
              "19 masculine  80.0 193    Human  \n",
              "20 masculine  79.0 183    Human  \n",
              "21 masculine  79.0 188    Human  \n",
              "22 feminine   45.0 165    Human  "
            ]
          },
          "metadata": {}
        }
      ]
    },
    {
      "cell_type": "code",
      "source": [
        "# calculating BMI using calculations -- more complex\n",
        "starwars %>%\n",
        "  select(gender, mass, height, species) %>%\n",
        "  filter(species == \"Human\") %>%\n",
        "  na.omit() %>%\n",
        "  mutate(height = height / 100) %>%\n",
        "  mutate(BMI = mass / height^2) %>%\n",
        "  group_by(gender) %>%\n",
        "  summarize(Average_BMI = mean(BMI))"
      ],
      "metadata": {
        "id": "VvGsldig9o54",
        "outputId": "3b9279f7-3264-4f6e-bcb6-df9831a49527",
        "colab": {
          "base_uri": "https://localhost:8080/",
          "height": 161
        }
      },
      "execution_count": 80,
      "outputs": [
        {
          "output_type": "display_data",
          "data": {
            "text/html": [
              "<table class=\"dataframe\">\n",
              "<caption>A tibble: 2 × 2</caption>\n",
              "<thead>\n",
              "\t<tr><th scope=col>gender</th><th scope=col>Average_BMI</th></tr>\n",
              "\t<tr><th scope=col>&lt;chr&gt;</th><th scope=col>&lt;dbl&gt;</th></tr>\n",
              "</thead>\n",
              "<tbody>\n",
              "\t<tr><td>feminine </td><td>21.95164</td></tr>\n",
              "\t<tr><td>masculine</td><td>26.04427</td></tr>\n",
              "</tbody>\n",
              "</table>\n"
            ],
            "text/markdown": "\nA tibble: 2 × 2\n\n| gender &lt;chr&gt; | Average_BMI &lt;dbl&gt; |\n|---|---|\n| feminine  | 21.95164 |\n| masculine | 26.04427 |\n\n",
            "text/latex": "A tibble: 2 × 2\n\\begin{tabular}{ll}\n gender & Average\\_BMI\\\\\n <chr> & <dbl>\\\\\n\\hline\n\t feminine  & 21.95164\\\\\n\t masculine & 26.04427\\\\\n\\end{tabular}\n",
            "text/plain": [
              "  gender    Average_BMI\n",
              "1 feminine  21.95164   \n",
              "2 masculine 26.04427   "
            ]
          },
          "metadata": {}
        }
      ]
    }
  ]
}