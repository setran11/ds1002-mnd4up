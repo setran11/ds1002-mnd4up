{
  "nbformat": 4,
  "nbformat_minor": 0,
  "metadata": {
    "colab": {
      "provenance": [],
      "authorship_tag": "ABX9TyPw4ESK06mFe9cHcEn5Vcbh",
      "include_colab_link": true
    },
    "kernelspec": {
      "name": "python3",
      "display_name": "Python 3"
    },
    "language_info": {
      "name": "python"
    }
  },
  "cells": [
    {
      "cell_type": "markdown",
      "metadata": {
        "id": "view-in-github",
        "colab_type": "text"
      },
      "source": [
        "<a href=\"https://colab.research.google.com/github/setran11/ds1002-mnd4up/blob/main/In_Class_Warm_Up_10_18_23.ipynb\" target=\"_parent\"><img src=\"https://colab.research.google.com/assets/colab-badge.svg\" alt=\"Open In Colab\"/></a>"
      ]
    },
    {
      "cell_type": "markdown",
      "source": [
        "Warm Up"
      ],
      "metadata": {
        "id": "-bztR7OEF13a"
      }
    },
    {
      "cell_type": "code",
      "execution_count": 34,
      "metadata": {
        "id": "itkLk1-oFxMr"
      },
      "outputs": [],
      "source": [
        "# Write a function that takes TWO integer parameters.\n",
        "# The function should range from the first integer to the second\n",
        "# The function should then evaluate each integer and determine whether\n",
        "# it is even or odd, and print that out (for every item)\n",
        "\n",
        "# for i in range(1,11):\n",
        "  # print(i)\n",
        "  # print('odd') if i % 2 == 1 else print('even')\n",
        "\n",
        "def even_odd_determiner(start,finish):\n",
        "  for i in range(start,finish):\n",
        "    if i % 2 == 0:\n",
        "      print(i, \"is an even number\")\n",
        "    else:\n",
        "      print(i, \"is an odd number\")"
      ]
    },
    {
      "cell_type": "code",
      "source": [
        "even_odd_determiner(1,11)"
      ],
      "metadata": {
        "colab": {
          "base_uri": "https://localhost:8080/"
        },
        "id": "LNKGdhjWIlzb",
        "outputId": "3a9d3cbe-dd7a-4e3b-f8e9-fbdd5a286809"
      },
      "execution_count": 35,
      "outputs": [
        {
          "output_type": "stream",
          "name": "stdout",
          "text": [
            "1 is an odd number\n",
            "2 is an even number\n",
            "3 is an odd number\n",
            "4 is an even number\n",
            "5 is an odd number\n",
            "6 is an even number\n",
            "7 is an odd number\n",
            "8 is an even number\n",
            "9 is an odd number\n",
            "10 is an even number\n"
          ]
        }
      ]
    },
    {
      "cell_type": "code",
      "source": [
        "m = 30\n",
        "n = 50\n",
        "\n",
        "even_odd_determiner(m,n)"
      ],
      "metadata": {
        "colab": {
          "base_uri": "https://localhost:8080/"
        },
        "id": "3xot2fuSJ0iS",
        "outputId": "663da803-55c5-4498-f84e-091fb244dc83"
      },
      "execution_count": 36,
      "outputs": [
        {
          "output_type": "stream",
          "name": "stdout",
          "text": [
            "30 is an even number\n",
            "31 is an odd number\n",
            "32 is an even number\n",
            "33 is an odd number\n",
            "34 is an even number\n",
            "35 is an odd number\n",
            "36 is an even number\n",
            "37 is an odd number\n",
            "38 is an even number\n",
            "39 is an odd number\n",
            "40 is an even number\n",
            "41 is an odd number\n",
            "42 is an even number\n",
            "43 is an odd number\n",
            "44 is an even number\n",
            "45 is an odd number\n",
            "46 is an even number\n",
            "47 is an odd number\n",
            "48 is an even number\n",
            "49 is an odd number\n"
          ]
        }
      ]
    }
  ]
}