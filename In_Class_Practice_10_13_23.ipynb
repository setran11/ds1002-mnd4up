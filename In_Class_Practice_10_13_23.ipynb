{
  "nbformat": 4,
  "nbformat_minor": 0,
  "metadata": {
    "colab": {
      "provenance": [],
      "authorship_tag": "ABX9TyMh17RUf4I8rKcv6RQ9nfUJ",
      "include_colab_link": true
    },
    "kernelspec": {
      "name": "python3",
      "display_name": "Python 3"
    },
    "language_info": {
      "name": "python"
    }
  },
  "cells": [
    {
      "cell_type": "markdown",
      "metadata": {
        "id": "view-in-github",
        "colab_type": "text"
      },
      "source": [
        "<a href=\"https://colab.research.google.com/github/setran11/ds1002-mnd4up/blob/main/In_Class_Practice_10_13_23.ipynb\" target=\"_parent\"><img src=\"https://colab.research.google.com/assets/colab-badge.svg\" alt=\"Open In Colab\"/></a>"
      ]
    },
    {
      "cell_type": "code",
      "execution_count": 18,
      "metadata": {
        "colab": {
          "base_uri": "https://localhost:8080/"
        },
        "id": "H58XfmlQVg_G",
        "outputId": "9c3e5f23-3471-4d5a-b6b6-8f7121627fb8"
      },
      "outputs": [
        {
          "output_type": "stream",
          "name": "stdout",
          "text": [
            "1234\n",
            "5\n",
            "3\n",
            "6\n",
            "3\n",
            "4564\n",
            "234\n",
            "4564\n",
            "9\n"
          ]
        }
      ],
      "source": [
        "mylist = [1234,5,3,6,3,4564,234,4564,9]\n",
        "\n",
        "for something in mylist:\n",
        "  print(something)"
      ]
    },
    {
      "cell_type": "code",
      "source": [
        "mylist2 = [\"bagels\",\"cereal\",\"yogurt\",\"coffee\",\"eggs\",\"pancakes\",\"waffles\",\"syrups\"]\n",
        "\n",
        "for food in mylist2:\n",
        "  if food == \"eggs\":\n",
        "    # print(\"yo i got eggs\")\n",
        "    continue\n",
        "  elif food == \"yogurt\":\n",
        "    print(\"yogurt is here\")\n",
        "  else:\n",
        "    print(food)"
      ],
      "metadata": {
        "colab": {
          "base_uri": "https://localhost:8080/"
        },
        "id": "hgMU9f0BWc8O",
        "outputId": "64ba967d-a28a-44d8-db48-c8ba94a713a7"
      },
      "execution_count": 17,
      "outputs": [
        {
          "output_type": "stream",
          "name": "stdout",
          "text": [
            "bagels\n",
            "cereal\n",
            "yogurt is here\n",
            "coffee\n",
            "yo i got eggs\n",
            "pancakes\n",
            "waffles\n",
            "syrups\n"
          ]
        }
      ]
    },
    {
      "cell_type": "code",
      "source": [
        "# dictionary\n",
        "myfaves = {\n",
        "    \"food\":\"pasta\",\n",
        "    \"sport\":\"basketball\",\n",
        "    \"color\":\"green\",\n",
        "    \"car\":\"my car\",\n",
        "    \"city\":\"london\"\n",
        "}"
      ],
      "metadata": {
        "id": "LQo3V-d1Y8PO"
      },
      "execution_count": 19,
      "outputs": []
    },
    {
      "cell_type": "code",
      "source": [
        "myfaves"
      ],
      "metadata": {
        "id": "sUGURMlIZbxE"
      },
      "execution_count": null,
      "outputs": []
    },
    {
      "cell_type": "code",
      "source": [
        "myfaves.keys()"
      ],
      "metadata": {
        "id": "KfS_cQEBZ3g7"
      },
      "execution_count": null,
      "outputs": []
    },
    {
      "cell_type": "code",
      "source": [
        "myfaves[\"color\"]"
      ],
      "metadata": {
        "id": "5GOH-dE-aHb0"
      },
      "execution_count": null,
      "outputs": []
    },
    {
      "cell_type": "code",
      "source": [
        "# python first sees the keys of the dictionary\n",
        "for fave in myfaves:\n",
        "  print(fave)"
      ],
      "metadata": {
        "colab": {
          "base_uri": "https://localhost:8080/"
        },
        "id": "qswrvwF1a6HB",
        "outputId": "a486c420-6b72-4a83-e33d-82f1f2c86b2f"
      },
      "execution_count": 25,
      "outputs": [
        {
          "output_type": "stream",
          "name": "stdout",
          "text": [
            "food\n",
            "sport\n",
            "color\n",
            "car\n",
            "city\n"
          ]
        }
      ]
    },
    {
      "cell_type": "code",
      "source": [
        "# getting values from the dictionary -- pass in the particular key\n",
        "for fave in myfaves:\n",
        "  print(myfaves[fave])"
      ],
      "metadata": {
        "colab": {
          "base_uri": "https://localhost:8080/"
        },
        "id": "kUl6AmHmbL4p",
        "outputId": "b55e5720-e6e5-47ec-df9f-b84fe5a93965"
      },
      "execution_count": 26,
      "outputs": [
        {
          "output_type": "stream",
          "name": "stdout",
          "text": [
            "pasta\n",
            "basketball\n",
            "green\n",
            "my car\n",
            "london\n"
          ]
        }
      ]
    },
    {
      "cell_type": "code",
      "source": [
        "# loop with two conditions -- iterate over the items using .items() -- look at it item by item\n",
        "for key, value in myfaves.items():\n",
        "  print(key,\"-->\",value)"
      ],
      "metadata": {
        "colab": {
          "base_uri": "https://localhost:8080/"
        },
        "id": "jN-bWgvGbg21",
        "outputId": "d0050872-9636-47d7-c047-e3367b7a3dfe"
      },
      "execution_count": 30,
      "outputs": [
        {
          "output_type": "stream",
          "name": "stdout",
          "text": [
            "food --> pasta\n",
            "sport --> basketball\n",
            "color --> green\n",
            "car --> my car\n",
            "city --> london\n"
          ]
        }
      ]
    },
    {
      "cell_type": "code",
      "source": [
        "mytupe = (\"squirrels\",\"rabbits\",\"beavers\",\"opposums\",\"foxes\",\"wolves\",\"sheep\")"
      ],
      "metadata": {
        "id": "3rN-RvoXcxC9"
      },
      "execution_count": 31,
      "outputs": []
    },
    {
      "cell_type": "code",
      "source": [
        "mytupe"
      ],
      "metadata": {
        "colab": {
          "base_uri": "https://localhost:8080/"
        },
        "id": "56ThmSeSdDrg",
        "outputId": "7635c491-bdb3-43b7-9034-4c0b109d2745"
      },
      "execution_count": 32,
      "outputs": [
        {
          "output_type": "execute_result",
          "data": {
            "text/plain": [
              "('squirrels', 'rabbits', 'beavers', 'opposums', 'foxes', 'wolves', 'sheep')"
            ]
          },
          "metadata": {},
          "execution_count": 32
        }
      ]
    },
    {
      "cell_type": "code",
      "source": [
        "# will \"zap\" things below it -- logical order does not look for next statements\n",
        "for thing in mytupe:\n",
        "  if (thing != \"opposums\"):\n",
        "    print(thing)\n",
        "  elif (thing == \"rabbits\") or (thing == \"sheep\"):\n",
        "    print(\"I have rabbits or sheep in my tuple\")\n",
        "  else:\n",
        "    continue"
      ],
      "metadata": {
        "colab": {
          "base_uri": "https://localhost:8080/"
        },
        "id": "vPTZJqLGdIPq",
        "outputId": "3a15d213-80bb-4d41-b389-c70459fb7f14"
      },
      "execution_count": 39,
      "outputs": [
        {
          "output_type": "stream",
          "name": "stdout",
          "text": [
            "squirrels\n",
            "rabbits\n",
            "beavers\n",
            "foxes\n",
            "wolves\n",
            "sheep\n"
          ]
        }
      ]
    },
    {
      "cell_type": "code",
      "source": [
        "# can reverse order so all statements are met\n",
        "for thing in mytupe:\n",
        "  if (thing == \"rabbits\") or (thing == \"sheep\"):\n",
        "    print(\"I have rabbits or sheep in my tuple\")\n",
        "  elif (thing != \"opposums\"):\n",
        "    print(thing)\n",
        "  else:\n",
        "    continue"
      ],
      "metadata": {
        "colab": {
          "base_uri": "https://localhost:8080/"
        },
        "id": "R8FcHGmseo0X",
        "outputId": "add7ebd7-5ef6-40c7-eb77-21ee25a2701f"
      },
      "execution_count": 40,
      "outputs": [
        {
          "output_type": "stream",
          "name": "stdout",
          "text": [
            "squirrels\n",
            "I have rabbits or sheep in my tuple\n",
            "beavers\n",
            "foxes\n",
            "wolves\n",
            "I have rabbits or sheep in my tuple\n"
          ]
        }
      ]
    }
  ]
}