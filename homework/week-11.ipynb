{
  "nbformat": 4,
  "nbformat_minor": 0,
  "metadata": {
    "colab": {
      "provenance": [],
      "include_colab_link": true
    },
    "kernelspec": {
      "name": "python3",
      "display_name": "Python 3"
    },
    "language_info": {
      "name": "python"
    }
  },
  "cells": [
    {
      "cell_type": "markdown",
      "metadata": {
        "id": "view-in-github",
        "colab_type": "text"
      },
      "source": [
        "<a href=\"https://colab.research.google.com/github/setran11/ds1002-mnd4up/blob/main/homework/week-11.ipynb\" target=\"_parent\"><img src=\"https://colab.research.google.com/assets/colab-badge.svg\" alt=\"Open In Colab\"/></a>"
      ]
    },
    {
      "cell_type": "markdown",
      "source": [
        "# Homework - Error Handling & Recursion\n",
        "\n",
        "Complete the cells below. Pay close attention to all directions given.\n",
        "\n",
        "## Error Handling (3 pts)\n",
        "\n",
        "```\n",
        "def throw_me_an_error():\n",
        "  val1 = 14\n",
        "  val2 = 0\n",
        "  return val1 / val2\n",
        "\n",
        "throw_me_an_error()\n",
        "```\n",
        "\n",
        "The function above is designed to deliberately throw an error.\n",
        "\n",
        "Create a new version of the function but add `try` and `except` statements correctly. Your exception should print out the type of error this function created. There are a couple of different ways you could do this.\n"
      ],
      "metadata": {
        "id": "v14Xtd9oiTGF"
      }
    },
    {
      "cell_type": "code",
      "execution_count": 9,
      "metadata": {
        "id": "-dfq0Vo_iSi7",
        "colab": {
          "base_uri": "https://localhost:8080/"
        },
        "outputId": "a91a2ed7-4363-4044-e885-41bc0eb039ad"
      },
      "outputs": [
        {
          "output_type": "stream",
          "name": "stdout",
          "text": [
            "Exception caught: division by zero\n"
          ]
        }
      ],
      "source": [
        "# answer goes here.\n",
        "\n",
        "try:\n",
        "  val1 = 14\n",
        "  val2 = 0\n",
        "  print(val1 / val2)\n",
        "\n",
        "except ZeroDivisionError as e:\n",
        "  print(f\"Exception caught: {e}\")"
      ]
    },
    {
      "cell_type": "markdown",
      "source": [
        "## Error Handling (4 pts)\n",
        "\n",
        "Extend the class below to include some error handling. Assume the remote resource is offline for a moment: How would you give a message to the user indicating what has gone wrong? (Hint: one way you can test this is by deliberately misspelling the URL for the remote resource.)\n",
        "\n",
        "Also, include error handling logic so that execution of the class method `guid()` always returns a line \"Your request has been completed\" along with the guid it created.\n",
        "\n",
        "```\n",
        "import requests\n",
        "import json\n",
        "import sys\n",
        "\n",
        "class Id:\n",
        "\n",
        "  def guid():\n",
        "    response = requests.get('https://ids.pods.uvarc.io/guid')\n",
        "    body = json.loads(response.text)\n",
        "    return body['id']\n",
        "\n",
        "Id.guid()\n",
        "```"
      ],
      "metadata": {
        "id": "gf9m78RWmWqC"
      }
    },
    {
      "cell_type": "code",
      "source": [
        "# answer goes here\n",
        "\n",
        "import requests\n",
        "import json\n",
        "import sys\n",
        "\n",
        "class Id:\n",
        "\n",
        "  def guid():\n",
        "    try:\n",
        "      response = requests.get('https:,,ids.pods.uvarc.io/guid')\n",
        "      body = json.loads(response.text)\n",
        "      return body['id']\n",
        "    except IOError as e:\n",
        "      print(f\"Exception caught: {e}\")\n",
        "    finally:\n",
        "      print(\"Your request has been completed\")\n",
        "\n",
        "Id.guid()"
      ],
      "metadata": {
        "id": "hT5B-LokmUbU",
        "colab": {
          "base_uri": "https://localhost:8080/"
        },
        "outputId": "b3652f78-a6ba-4997-ae27-5deeef3e858a"
      },
      "execution_count": 11,
      "outputs": [
        {
          "output_type": "stream",
          "name": "stdout",
          "text": [
            "Exception caught: Invalid URL 'https:,,ids.pods.uvarc.io/guid': No host supplied\n",
            "Your request has been completed\n"
          ]
        }
      ]
    },
    {
      "cell_type": "markdown",
      "source": [
        "## Recursive Functions (3 pts)\n",
        "\n",
        "In the cell below, explain line by line the logic of what is being calculated when the function is called with an input value of 2.\n",
        "\n",
        "```\n",
        "def squarer(n):\n",
        "  if n == 1:\n",
        "    return 2\n",
        "  else:\n",
        "    return squarer(n-1) ** 2 + n\n",
        "\n",
        "squarer(2)\n",
        "```"
      ],
      "metadata": {
        "id": "XCuNofSFomZ6"
      }
    },
    {
      "cell_type": "code",
      "source": [
        "def squarer(n):\n",
        "  if n == 1:\n",
        "    return 2\n",
        "  else:\n",
        "    return squarer(n-1) ** 2 + n\n",
        "\n",
        "squarer(2)"
      ],
      "metadata": {
        "colab": {
          "base_uri": "https://localhost:8080/"
        },
        "id": "lcpl9UaA0074",
        "outputId": "abffaa2c-1488-435a-f664-0da4696c5d4a"
      },
      "execution_count": 12,
      "outputs": [
        {
          "output_type": "execute_result",
          "data": {
            "text/plain": [
              "6"
            ]
          },
          "metadata": {},
          "execution_count": 12
        }
      ]
    },
    {
      "cell_type": "code",
      "source": [
        "# answer goes here. Add space as needed.\n",
        "\n",
        "# I don't understand the question so this is likely very wrong\n",
        "\n",
        "Line 1. # defines the function and the input value called\n",
        "Line 2. # determines if n is equal to one, it is not since the input value is 2\n",
        "Line 3. # applies if input value is one, does not apply\n",
        "Line 4. # since input value is not equal to one, it will follow next steps\n",
        "Line 5. # output will be the input value of two, then squared, then add two"
      ],
      "metadata": {
        "id": "oYiqS2cxxXm4"
      },
      "execution_count": null,
      "outputs": []
    }
  ]
}