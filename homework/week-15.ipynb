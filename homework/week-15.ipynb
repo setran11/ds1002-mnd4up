{
  "nbformat": 4,
  "nbformat_minor": 0,
  "metadata": {
    "colab": {
      "provenance": [],
      "include_colab_link": true
    },
    "kernelspec": {
      "name": "ir",
      "display_name": "R"
    },
    "language_info": {
      "name": "R"
    }
  },
  "cells": [
    {
      "cell_type": "markdown",
      "metadata": {
        "id": "view-in-github",
        "colab_type": "text"
      },
      "source": [
        "<a href=\"https://colab.research.google.com/github/setran11/ds1002-mnd4up/blob/main/homework/week-15.ipynb\" target=\"_parent\"><img src=\"https://colab.research.google.com/assets/colab-badge.svg\" alt=\"Open In Colab\"/></a>"
      ]
    },
    {
      "cell_type": "markdown",
      "source": [
        "# Homework - Week 15\n",
        "\n",
        "Complete the following blocks as specified in the directions. Run each cell to return the desired output. Save your notebook back to your GitHub repository and submit the GitHub URL to your notebook for review."
      ],
      "metadata": {
        "id": "sZruw3XQogej"
      }
    },
    {
      "cell_type": "markdown",
      "source": [
        "## 1. Create Functions (4 pts)\n",
        "\n",
        "Create two functions in the cells below, according to the prompts given."
      ],
      "metadata": {
        "id": "lkaofBQypx1X"
      }
    },
    {
      "cell_type": "code",
      "source": [
        "# create a function in R that:\n",
        "#   1. takes a single integer as an input parameter\n",
        "#   2. determines whether the integer is even or odd\n",
        "#   3. returns a character statement \"The integer <x> is even\" or \"The integer <x> is odd\" (replace <x> with the actual input provided)\n",
        "#\n",
        "# then execute the function twice using two different input values, displaying even and odd results.\n",
        "\n",
        "odd_or_even <- function(x) { if (x%% 2 == 1) {\n",
        "  print(paste(\"The integer\", x, \"is odd\"))\n",
        "} else {\n",
        "  print(paste(\"The integer\", x, \"is even\"))\n",
        "}\n",
        "}"
      ],
      "metadata": {
        "id": "1fjq5bkEp6Zv"
      },
      "execution_count": null,
      "outputs": []
    },
    {
      "cell_type": "code",
      "source": [
        "odd_or_even(11)"
      ],
      "metadata": {
        "colab": {
          "base_uri": "https://localhost:8080/"
        },
        "id": "nfgzoKyCH78J",
        "outputId": "8fb3b194-f252-49c4-8ce0-0fbd4b822944"
      },
      "execution_count": null,
      "outputs": [
        {
          "output_type": "stream",
          "name": "stdout",
          "text": [
            "[1] \"The integer 11 is odd\"\n"
          ]
        }
      ]
    },
    {
      "cell_type": "code",
      "source": [
        "odd_or_even(14)"
      ],
      "metadata": {
        "colab": {
          "base_uri": "https://localhost:8080/"
        },
        "id": "KZNjcyKgIFbC",
        "outputId": "d9721a85-9c83-40ab-a3cc-13a372f2573e"
      },
      "execution_count": null,
      "outputs": [
        {
          "output_type": "stream",
          "name": "stdout",
          "text": [
            "[1] \"The integer 14 is even\"\n"
          ]
        }
      ]
    },
    {
      "cell_type": "code",
      "source": [
        "# create a function in R that:\n",
        "#   1. takes 4 integer input parameters\n",
        "#   2. returns the mean value of the inputs\n",
        "#   3. has default values for the 4 input parameters, in case they are not provided when the function is called.\n",
        "#\n",
        "# then execute the function twice: once where you provide the input values, and once where you do not.\n",
        "\n",
        "mean_vars <- function(var1 = 1, var2 = 2, var3 = 3, var4 = 4) {\n",
        "  mean_of_vars = (var1 + var2 + var3 + var4)/4\n",
        "  mean_of_vars\n",
        "}"
      ],
      "metadata": {
        "id": "f3IFD-T6p6Rd"
      },
      "execution_count": null,
      "outputs": []
    },
    {
      "cell_type": "code",
      "source": [
        "mean_vars(3, 11, 13, 31)"
      ],
      "metadata": {
        "colab": {
          "base_uri": "https://localhost:8080/",
          "height": 34
        },
        "id": "cOJvk6cBLMRb",
        "outputId": "0753993f-a800-4722-a667-7e72133ac6b4"
      },
      "execution_count": null,
      "outputs": [
        {
          "output_type": "display_data",
          "data": {
            "text/html": [
              "14.5"
            ],
            "text/markdown": "14.5",
            "text/latex": "14.5",
            "text/plain": [
              "[1] 14.5"
            ]
          },
          "metadata": {}
        }
      ]
    },
    {
      "cell_type": "code",
      "source": [
        "mean_vars()"
      ],
      "metadata": {
        "colab": {
          "base_uri": "https://localhost:8080/",
          "height": 34
        },
        "id": "f8vzOJL9LQLK",
        "outputId": "c0d0b6a2-86e3-4173-c7a0-4c7fa7ac4d00"
      },
      "execution_count": null,
      "outputs": [
        {
          "output_type": "display_data",
          "data": {
            "text/html": [
              "2.5"
            ],
            "text/markdown": "2.5",
            "text/latex": "2.5",
            "text/plain": [
              "[1] 2.5"
            ]
          },
          "metadata": {}
        }
      ]
    },
    {
      "cell_type": "markdown",
      "source": [
        "## 2. Plot Data (4 pts)"
      ],
      "metadata": {
        "id": "F6Rx0GIGrpOB"
      }
    },
    {
      "cell_type": "markdown",
      "source": [
        "In the cell below, write the code required to plot from the `msleep` sample data set.\n",
        "\n",
        "1. Display only animals with body weights of 30 or greater.\n",
        "2. Group the animals by `order`.\n",
        "3. Display the mean `sleep_total` for each group in a bar plot."
      ],
      "metadata": {
        "id": "IDLyOjOJsFCX"
      }
    },
    {
      "cell_type": "code",
      "source": [
        "install.packages(\"tidyverse\")\n",
        "library(tidyverse)"
      ],
      "metadata": {
        "id": "8X7_0EEeHyDs"
      },
      "execution_count": null,
      "outputs": []
    },
    {
      "cell_type": "code",
      "source": [
        "data <- msleep %>%\n",
        "  select(bodywt, order, sleep_total) %>%\n",
        "  filter(bodywt >= 30) %>%\n",
        "  na.omit() %>%\n",
        "  group_by(order) %>%\n",
        "  summarize(mean_sleep_total = mean(sleep_total), na.rm = TRUE)\n",
        "\n",
        "data"
      ],
      "metadata": {
        "colab": {
          "base_uri": "https://localhost:8080/",
          "height": 318
        },
        "id": "qehHjC8oCys1",
        "outputId": "6a8c64a2-bad2-4c78-e7ae-a5b6f73e55f8"
      },
      "execution_count": null,
      "outputs": [
        {
          "output_type": "display_data",
          "data": {
            "text/html": [
              "<table class=\"dataframe\">\n",
              "<caption>A tibble: 7 × 3</caption>\n",
              "<thead>\n",
              "\t<tr><th scope=col>order</th><th scope=col>mean_sleep_total</th><th scope=col>na.rm</th></tr>\n",
              "\t<tr><th scope=col>&lt;chr&gt;</th><th scope=col>&lt;dbl&gt;</th><th scope=col>&lt;lgl&gt;</th></tr>\n",
              "</thead>\n",
              "<tbody>\n",
              "\t<tr><td>Artiodactyla  </td><td> 4.820000</td><td>TRUE</td></tr>\n",
              "\t<tr><td>Carnivora     </td><td>10.250000</td><td>TRUE</td></tr>\n",
              "\t<tr><td>Cetacea       </td><td> 4.500000</td><td>TRUE</td></tr>\n",
              "\t<tr><td>Cingulata     </td><td>18.100000</td><td>TRUE</td></tr>\n",
              "\t<tr><td>Perissodactyla</td><td> 3.466667</td><td>TRUE</td></tr>\n",
              "\t<tr><td>Primates      </td><td> 8.850000</td><td>TRUE</td></tr>\n",
              "\t<tr><td>Proboscidea   </td><td> 3.600000</td><td>TRUE</td></tr>\n",
              "</tbody>\n",
              "</table>\n"
            ],
            "text/markdown": "\nA tibble: 7 × 3\n\n| order &lt;chr&gt; | mean_sleep_total &lt;dbl&gt; | na.rm &lt;lgl&gt; |\n|---|---|---|\n| Artiodactyla   |  4.820000 | TRUE |\n| Carnivora      | 10.250000 | TRUE |\n| Cetacea        |  4.500000 | TRUE |\n| Cingulata      | 18.100000 | TRUE |\n| Perissodactyla |  3.466667 | TRUE |\n| Primates       |  8.850000 | TRUE |\n| Proboscidea    |  3.600000 | TRUE |\n\n",
            "text/latex": "A tibble: 7 × 3\n\\begin{tabular}{lll}\n order & mean\\_sleep\\_total & na.rm\\\\\n <chr> & <dbl> & <lgl>\\\\\n\\hline\n\t Artiodactyla   &  4.820000 & TRUE\\\\\n\t Carnivora      & 10.250000 & TRUE\\\\\n\t Cetacea        &  4.500000 & TRUE\\\\\n\t Cingulata      & 18.100000 & TRUE\\\\\n\t Perissodactyla &  3.466667 & TRUE\\\\\n\t Primates       &  8.850000 & TRUE\\\\\n\t Proboscidea    &  3.600000 & TRUE\\\\\n\\end{tabular}\n",
            "text/plain": [
              "  order          mean_sleep_total na.rm\n",
              "1 Artiodactyla    4.820000        TRUE \n",
              "2 Carnivora      10.250000        TRUE \n",
              "3 Cetacea         4.500000        TRUE \n",
              "4 Cingulata      18.100000        TRUE \n",
              "5 Perissodactyla  3.466667        TRUE \n",
              "6 Primates        8.850000        TRUE \n",
              "7 Proboscidea     3.600000        TRUE "
            ]
          },
          "metadata": {}
        }
      ]
    },
    {
      "cell_type": "code",
      "source": [
        "ggplot(data, aes(x = order, y = mean_sleep_total)) + geom_col()"
      ],
      "metadata": {
        "colab": {
          "base_uri": "https://localhost:8080/",
          "height": 437
        },
        "id": "s3akJxOCI3w5",
        "outputId": "248f5ab8-5724-4b97-9ca8-01906bdabb88"
      },
      "execution_count": null,
      "outputs": [
        {
          "output_type": "display_data",
          "data": {
            "text/plain": [
              "plot without title"
            ],
            "image/png": "[encoded data removed]"
          },
          "metadata": {
            "image/png": {
              "width": 420,
              "height": 420
            }
          }
        }
      ]
    },
    {
      "cell_type": "markdown",
      "source": [
        "## 3. Clean and Analyze Data Using R (4 pts)\n",
        "\n",
        "In the cells below use R to perform the following data cleaning steps on this file:\n",
        "https://raw.githubusercontent.com/nmagee/ds1002/main/data/social-media-users.csv\n",
        "\n",
        "1. Remove any duplicate rows.\n",
        "2. Remove any records where `last_login` or `birthdate` are empty.\n",
        "3. Display only the records with the 10 highest `follower` counts.\n",
        "4. Determine counts of users when grouped by continent."
      ],
      "metadata": {
        "id": "-2ZaFcCCv3o8"
      }
    },
    {
      "cell_type": "code",
      "source": [
        "df <- read.csv(\"https://raw.githubusercontent.com/nmagee/ds1002/main/data/social-media-users.csv\")\n",
        "df"
      ],
      "metadata": {
        "id": "wBOldNd2y9m0"
      },
      "execution_count": null,
      "outputs": []
    },
    {
      "cell_type": "code",
      "source": [
        "# remove any duplicate rows\n",
        "nrow(df[duplicated(df), ])\n",
        "df2 <- df[!duplicated(df), ]\n",
        "nrow(df2[duplicated(df2), ])"
      ],
      "metadata": {
        "colab": {
          "base_uri": "https://localhost:8080/",
          "height": 52
        },
        "id": "9LB6mckxzEav",
        "outputId": "c2f6ed86-6d18-4779-f519-fcf5fc6667f0"
      },
      "execution_count": 2,
      "outputs": [
        {
          "output_type": "display_data",
          "data": {
            "text/html": [
              "318"
            ],
            "text/markdown": "318",
            "text/latex": "318",
            "text/plain": [
              "[1] 318"
            ]
          },
          "metadata": {}
        },
        {
          "output_type": "display_data",
          "data": {
            "text/html": [
              "0"
            ],
            "text/markdown": "0",
            "text/latex": "0",
            "text/plain": [
              "[1] 0"
            ]
          },
          "metadata": {}
        }
      ]
    },
    {
      "cell_type": "code",
      "source": [
        "# remove any records where last_login or birthdate are empty\n",
        "df2[df2==\"\"] <- NA\n",
        "df3 <- na.omit(df2)"
      ],
      "metadata": {
        "id": "zOq2dtY7zQOi"
      },
      "execution_count": 3,
      "outputs": []
    },
    {
      "cell_type": "code",
      "source": [
        "# display only the records with the 10 highest follower counts\n",
        "df3 %>%\n",
        "  arrange(desc(followers)) %>%\n",
        "  slice(1:10)"
      ],
      "metadata": {
        "id": "WUn7-kBvzjMA"
      },
      "execution_count": null,
      "outputs": []
    },
    {
      "cell_type": "code",
      "source": [
        "# determine counts of users when grouped by continent\n",
        "df3 %>%\n",
        "  select(continent) %>%\n",
        "  count(continent == \"OC\")\n",
        "\n",
        "df3 %>%\n",
        "  select(continent) %>%\n",
        "  count(continent == \"AF\")\n",
        "\n",
        "df3 %>%\n",
        "  select(continent) %>%\n",
        "  count(continent == \"SA\")\n",
        "\n",
        "df3 %>%\n",
        "  select(continent) %>%\n",
        "  count(continent == \"AS\")\n",
        "\n",
        "df3 %>%\n",
        "  select(continent) %>%\n",
        "  count(continent == \"EU\")"
      ],
      "metadata": {
        "colab": {
          "base_uri": "https://localhost:8080/",
          "height": 736
        },
        "id": "5KG25_mI2JVY",
        "outputId": "b057f1d7-ab23-4d68-d1d8-3930f982ed71"
      },
      "execution_count": null,
      "outputs": [
        {
          "output_type": "display_data",
          "data": {
            "text/html": [
              "<table class=\"dataframe\">\n",
              "<caption>A data.frame: 2 × 2</caption>\n",
              "<thead>\n",
              "\t<tr><th scope=col>continent == \"OC\"</th><th scope=col>n</th></tr>\n",
              "\t<tr><th scope=col>&lt;lgl&gt;</th><th scope=col>&lt;int&gt;</th></tr>\n",
              "</thead>\n",
              "<tbody>\n",
              "\t<tr><td>FALSE</td><td>327</td></tr>\n",
              "\t<tr><td> TRUE</td><td> 95</td></tr>\n",
              "</tbody>\n",
              "</table>\n"
            ],
            "text/markdown": "\nA data.frame: 2 × 2\n\n| continent == \"OC\" &lt;lgl&gt; | n &lt;int&gt; |\n|---|---|\n| FALSE | 327 |\n|  TRUE |  95 |\n\n",
            "text/latex": "A data.frame: 2 × 2\n\\begin{tabular}{ll}\n continent == \"OC\" & n\\\\\n <lgl> & <int>\\\\\n\\hline\n\t FALSE & 327\\\\\n\t  TRUE &  95\\\\\n\\end{tabular}\n",
            "text/plain": [
              "  continent == \"OC\" n  \n",
              "1 FALSE             327\n",
              "2  TRUE              95"
            ]
          },
          "metadata": {}
        },
        {
          "output_type": "display_data",
          "data": {
            "text/html": [
              "<table class=\"dataframe\">\n",
              "<caption>A data.frame: 2 × 2</caption>\n",
              "<thead>\n",
              "\t<tr><th scope=col>continent == \"AF\"</th><th scope=col>n</th></tr>\n",
              "\t<tr><th scope=col>&lt;lgl&gt;</th><th scope=col>&lt;int&gt;</th></tr>\n",
              "</thead>\n",
              "<tbody>\n",
              "\t<tr><td>FALSE</td><td>352</td></tr>\n",
              "\t<tr><td> TRUE</td><td> 70</td></tr>\n",
              "</tbody>\n",
              "</table>\n"
            ],
            "text/markdown": "\nA data.frame: 2 × 2\n\n| continent == \"AF\" &lt;lgl&gt; | n &lt;int&gt; |\n|---|---|\n| FALSE | 352 |\n|  TRUE |  70 |\n\n",
            "text/latex": "A data.frame: 2 × 2\n\\begin{tabular}{ll}\n continent == \"AF\" & n\\\\\n <lgl> & <int>\\\\\n\\hline\n\t FALSE & 352\\\\\n\t  TRUE &  70\\\\\n\\end{tabular}\n",
            "text/plain": [
              "  continent == \"AF\" n  \n",
              "1 FALSE             352\n",
              "2  TRUE              70"
            ]
          },
          "metadata": {}
        },
        {
          "output_type": "display_data",
          "data": {
            "text/html": [
              "<table class=\"dataframe\">\n",
              "<caption>A data.frame: 2 × 2</caption>\n",
              "<thead>\n",
              "\t<tr><th scope=col>continent == \"SA\"</th><th scope=col>n</th></tr>\n",
              "\t<tr><th scope=col>&lt;lgl&gt;</th><th scope=col>&lt;int&gt;</th></tr>\n",
              "</thead>\n",
              "<tbody>\n",
              "\t<tr><td>FALSE</td><td>353</td></tr>\n",
              "\t<tr><td> TRUE</td><td> 69</td></tr>\n",
              "</tbody>\n",
              "</table>\n"
            ],
            "text/markdown": "\nA data.frame: 2 × 2\n\n| continent == \"SA\" &lt;lgl&gt; | n &lt;int&gt; |\n|---|---|\n| FALSE | 353 |\n|  TRUE |  69 |\n\n",
            "text/latex": "A data.frame: 2 × 2\n\\begin{tabular}{ll}\n continent == \"SA\" & n\\\\\n <lgl> & <int>\\\\\n\\hline\n\t FALSE & 353\\\\\n\t  TRUE &  69\\\\\n\\end{tabular}\n",
            "text/plain": [
              "  continent == \"SA\" n  \n",
              "1 FALSE             353\n",
              "2  TRUE              69"
            ]
          },
          "metadata": {}
        },
        {
          "output_type": "display_data",
          "data": {
            "text/html": [
              "<table class=\"dataframe\">\n",
              "<caption>A data.frame: 2 × 2</caption>\n",
              "<thead>\n",
              "\t<tr><th scope=col>continent == \"AS\"</th><th scope=col>n</th></tr>\n",
              "\t<tr><th scope=col>&lt;lgl&gt;</th><th scope=col>&lt;int&gt;</th></tr>\n",
              "</thead>\n",
              "<tbody>\n",
              "\t<tr><td>FALSE</td><td>311</td></tr>\n",
              "\t<tr><td> TRUE</td><td>111</td></tr>\n",
              "</tbody>\n",
              "</table>\n"
            ],
            "text/markdown": "\nA data.frame: 2 × 2\n\n| continent == \"AS\" &lt;lgl&gt; | n &lt;int&gt; |\n|---|---|\n| FALSE | 311 |\n|  TRUE | 111 |\n\n",
            "text/latex": "A data.frame: 2 × 2\n\\begin{tabular}{ll}\n continent == \"AS\" & n\\\\\n <lgl> & <int>\\\\\n\\hline\n\t FALSE & 311\\\\\n\t  TRUE & 111\\\\\n\\end{tabular}\n",
            "text/plain": [
              "  continent == \"AS\" n  \n",
              "1 FALSE             311\n",
              "2  TRUE             111"
            ]
          },
          "metadata": {}
        },
        {
          "output_type": "display_data",
          "data": {
            "text/html": [
              "<table class=\"dataframe\">\n",
              "<caption>A data.frame: 2 × 2</caption>\n",
              "<thead>\n",
              "\t<tr><th scope=col>continent == \"EU\"</th><th scope=col>n</th></tr>\n",
              "\t<tr><th scope=col>&lt;lgl&gt;</th><th scope=col>&lt;int&gt;</th></tr>\n",
              "</thead>\n",
              "<tbody>\n",
              "\t<tr><td>FALSE</td><td>345</td></tr>\n",
              "\t<tr><td> TRUE</td><td> 77</td></tr>\n",
              "</tbody>\n",
              "</table>\n"
            ],
            "text/markdown": "\nA data.frame: 2 × 2\n\n| continent == \"EU\" &lt;lgl&gt; | n &lt;int&gt; |\n|---|---|\n| FALSE | 345 |\n|  TRUE |  77 |\n\n",
            "text/latex": "A data.frame: 2 × 2\n\\begin{tabular}{ll}\n continent == \"EU\" & n\\\\\n <lgl> & <int>\\\\\n\\hline\n\t FALSE & 345\\\\\n\t  TRUE &  77\\\\\n\\end{tabular}\n",
            "text/plain": [
              "  continent == \"EU\" n  \n",
              "1 FALSE             345\n",
              "2  TRUE              77"
            ]
          },
          "metadata": {}
        }
      ]
    },
    {
      "cell_type": "code",
      "source": [
        "# CORRECTION TO LAST QUESTION:\n",
        "table(df3[\"continent\"])"
      ],
      "metadata": {
        "colab": {
          "base_uri": "https://localhost:8080/",
          "height": 71
        },
        "id": "sP8x0EW6DnCR",
        "outputId": "02c35a1e-fbd7-43ef-e3f1-ca6ead7ec3e1"
      },
      "execution_count": 13,
      "outputs": [
        {
          "output_type": "display_data",
          "data": {
            "text/plain": [
              "continent\n",
              " AF  AS  EU  OC  SA \n",
              " 70 111  77  95  69 "
            ]
          },
          "metadata": {}
        }
      ]
    },
    {
      "cell_type": "code",
      "source": [
        "# WHAT I DID WRONG:\n",
        "\"\"\" I used piping to count the number of users in each continent with booleans so that each\n",
        "occurence of that specific continent within the data would be true and the number of TRUE\n",
        "values was the number of continents, rather than correctly determine the counts. \"\"\""
      ],
      "metadata": {
        "id": "JPbgMqIHIqrt"
      },
      "execution_count": null,
      "outputs": []
    }
  ]
}