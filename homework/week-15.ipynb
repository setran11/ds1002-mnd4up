{
  "nbformat": 4,
  "nbformat_minor": 0,
  "metadata": {
    "colab": {
      "provenance": [],
      "include_colab_link": true
    },
    "kernelspec": {
      "name": "ir",
      "display_name": "R"
    },
    "language_info": {
      "name": "R"
    }
  },
  "cells": [
    {
      "cell_type": "markdown",
      "metadata": {
        "id": "view-in-github",
        "colab_type": "text"
      },
      "source": [
        "<a href=\"https://colab.research.google.com/github/setran11/ds1002-mnd4up/blob/main/homework/week-15.ipynb\" target=\"_parent\"><img src=\"https://colab.research.google.com/assets/colab-badge.svg\" alt=\"Open In Colab\"/></a>"
      ]
    },
    {
      "cell_type": "markdown",
      "source": [
        "# Homework - Week 15\n",
        "\n",
        "Complete the following blocks as specified in the directions. Run each cell to return the desired output. Save your notebook back to your GitHub repository and submit the GitHub URL to your notebook for review."
      ],
      "metadata": {
        "id": "sZruw3XQogej"
      }
    },
    {
      "cell_type": "markdown",
      "source": [
        "## 1. Create Functions (4 pts)\n",
        "\n",
        "Create two functions in the cells below, according to the prompts given."
      ],
      "metadata": {
        "id": "lkaofBQypx1X"
      }
    },
    {
      "cell_type": "code",
      "source": [
        "# create a function in R that:\n",
        "#   1. takes a single integer as an input parameter\n",
        "#   2. determines whether the integer is even or odd\n",
        "#   3. returns a character statement \"The integer <x> is even\" or \"The integer <x> is odd\" (replace <x> with the actual input provided)\n",
        "#\n",
        "# then execute the function twice using two different input values, displaying even and odd results.\n",
        "\n",
        "odd_or_even <- function(x) { if (x%% 2 == 1) {\n",
        "  print(paste(\"The integer\", x, \"is odd\"))\n",
        "} else {\n",
        "  print(paste(\"The integer\", x, \"is even\"))\n",
        "}\n",
        "}"
      ],
      "metadata": {
        "id": "1fjq5bkEp6Zv"
      },
      "execution_count": 1,
      "outputs": []
    },
    {
      "cell_type": "code",
      "source": [
        "odd_or_even(11)"
      ],
      "metadata": {
        "colab": {
          "base_uri": "https://localhost:8080/"
        },
        "id": "nfgzoKyCH78J",
        "outputId": "8fb3b194-f252-49c4-8ce0-0fbd4b822944"
      },
      "execution_count": 3,
      "outputs": [
        {
          "output_type": "stream",
          "name": "stdout",
          "text": [
            "[1] \"The integer 11 is odd\"\n"
          ]
        }
      ]
    },
    {
      "cell_type": "code",
      "source": [
        "odd_or_even(14)"
      ],
      "metadata": {
        "colab": {
          "base_uri": "https://localhost:8080/"
        },
        "id": "KZNjcyKgIFbC",
        "outputId": "d9721a85-9c83-40ab-a3cc-13a372f2573e"
      },
      "execution_count": 4,
      "outputs": [
        {
          "output_type": "stream",
          "name": "stdout",
          "text": [
            "[1] \"The integer 14 is even\"\n"
          ]
        }
      ]
    },
    {
      "cell_type": "code",
      "source": [
        "# create a function in R that:\n",
        "#   1. takes 4 integer input parameters\n",
        "#   2. returns the mean value of the inputs\n",
        "#   3. has default values for the 4 input parameters, in case they are not provided when the function is called.\n",
        "#\n",
        "# then execute the function twice: once where you provide the input values, and once where you do not.\n",
        "\n",
        "mean_vars <- function(var1 = 1, var2 = 2, var3 = 3, var4 = 4) {\n",
        "  mean_of_vars = (var1 + var2 + var3 + var4)/4\n",
        "  mean_of_vars\n",
        "}"
      ],
      "metadata": {
        "id": "f3IFD-T6p6Rd"
      },
      "execution_count": 27,
      "outputs": []
    },
    {
      "cell_type": "code",
      "source": [
        "mean_vars(3, 11, 13, 31)"
      ],
      "metadata": {
        "colab": {
          "base_uri": "https://localhost:8080/",
          "height": 34
        },
        "id": "cOJvk6cBLMRb",
        "outputId": "0753993f-a800-4722-a667-7e72133ac6b4"
      },
      "execution_count": 28,
      "outputs": [
        {
          "output_type": "display_data",
          "data": {
            "text/html": [
              "14.5"
            ],
            "text/markdown": "14.5",
            "text/latex": "14.5",
            "text/plain": [
              "[1] 14.5"
            ]
          },
          "metadata": {}
        }
      ]
    },
    {
      "cell_type": "code",
      "source": [
        "mean_vars()"
      ],
      "metadata": {
        "colab": {
          "base_uri": "https://localhost:8080/",
          "height": 34
        },
        "id": "f8vzOJL9LQLK",
        "outputId": "c0d0b6a2-86e3-4173-c7a0-4c7fa7ac4d00"
      },
      "execution_count": 30,
      "outputs": [
        {
          "output_type": "display_data",
          "data": {
            "text/html": [
              "2.5"
            ],
            "text/markdown": "2.5",
            "text/latex": "2.5",
            "text/plain": [
              "[1] 2.5"
            ]
          },
          "metadata": {}
        }
      ]
    },
    {
      "cell_type": "markdown",
      "source": [
        "## 2. Plot Data (4 pts)"
      ],
      "metadata": {
        "id": "F6Rx0GIGrpOB"
      }
    },
    {
      "cell_type": "markdown",
      "source": [
        "In the cell below, write the code required to plot from the `msleep` sample data set.\n",
        "\n",
        "1. Display only animals with body weights of 30 or greater.\n",
        "2. Group the animals by `order`.\n",
        "3. Display the mean `sleep_total` for each group in a bar plot."
      ],
      "metadata": {
        "id": "IDLyOjOJsFCX"
      }
    },
    {
      "cell_type": "code",
      "source": [
        "install.packages(\"tidyverse\")\n",
        "library(tidyverse)"
      ],
      "metadata": {
        "id": "8X7_0EEeHyDs"
      },
      "execution_count": null,
      "outputs": []
    },
    {
      "cell_type": "code",
      "source": [
        "msleep"
      ],
      "metadata": {
        "id": "eZ_2Z2VvJQD3"
      },
      "execution_count": null,
      "outputs": []
    },
    {
      "cell_type": "code",
      "source": [
        "data <- msleep %>%\n",
        "  select(bodywt, order, sleep_total) %>%\n",
        "  filter(bodywt >= 30) %>%\n",
        "  na.omit() %>%\n",
        "  group_by(order) %>%\n",
        "  reframe(mean_sleep_total = mean(sleep_total))\n",
        "\n",
        "data"
      ],
      "metadata": {
        "colab": {
          "base_uri": "https://localhost:8080/",
          "height": 788
        },
        "id": "qehHjC8oCys1",
        "outputId": "fa6eb6d8-eb00-4ab3-e1b0-b137b8ce6e5d"
      },
      "execution_count": 214,
      "outputs": [
        {
          "output_type": "display_data",
          "data": {
            "text/html": [
              "<table class=\"dataframe\">\n",
              "<caption>A tibble: 22 × 2</caption>\n",
              "<thead>\n",
              "\t<tr><th scope=col>order</th><th scope=col>mean_sleep_total</th></tr>\n",
              "\t<tr><th scope=col>&lt;chr&gt;</th><th scope=col>&lt;dbl&gt;</th></tr>\n",
              "</thead>\n",
              "<tbody>\n",
              "\t<tr><td>Artiodactyla  </td><td>10.0</td></tr>\n",
              "\t<tr><td>Artiodactyla  </td><td>11.3</td></tr>\n",
              "\t<tr><td>Artiodactyla  </td><td> 7.9</td></tr>\n",
              "\t<tr><td>Artiodactyla  </td><td> 9.8</td></tr>\n",
              "\t<tr><td>Artiodactyla  </td><td>15.1</td></tr>\n",
              "\t<tr><td>Carnivora     </td><td>18.1</td></tr>\n",
              "\t<tr><td>Carnivora     </td><td>12.2</td></tr>\n",
              "\t<tr><td>Carnivora     </td><td>21.8</td></tr>\n",
              "\t<tr><td>Carnivora     </td><td>16.4</td></tr>\n",
              "\t<tr><td>Carnivora     </td><td>19.5</td></tr>\n",
              "\t<tr><td>Carnivora     </td><td> 9.5</td></tr>\n",
              "\t<tr><td>Cetacea       </td><td> 8.7</td></tr>\n",
              "\t<tr><td>Cetacea       </td><td>11.6</td></tr>\n",
              "\t<tr><td>Cetacea       </td><td>11.2</td></tr>\n",
              "\t<tr><td>Cingulata     </td><td>24.1</td></tr>\n",
              "\t<tr><td>Perissodactyla</td><td> 8.9</td></tr>\n",
              "\t<tr><td>Perissodactyla</td><td> 9.1</td></tr>\n",
              "\t<tr><td>Perissodactyla</td><td>10.4</td></tr>\n",
              "\t<tr><td>Primates      </td><td>14.0</td></tr>\n",
              "\t<tr><td>Primates      </td><td>15.7</td></tr>\n",
              "\t<tr><td>Proboscidea   </td><td> 9.9</td></tr>\n",
              "\t<tr><td>Proboscidea   </td><td> 9.3</td></tr>\n",
              "</tbody>\n",
              "</table>\n"
            ],
            "text/markdown": "\nA tibble: 22 × 2\n\n| order &lt;chr&gt; | mean_sleep_total &lt;dbl&gt; |\n|---|---|\n| Artiodactyla   | 10.0 |\n| Artiodactyla   | 11.3 |\n| Artiodactyla   |  7.9 |\n| Artiodactyla   |  9.8 |\n| Artiodactyla   | 15.1 |\n| Carnivora      | 18.1 |\n| Carnivora      | 12.2 |\n| Carnivora      | 21.8 |\n| Carnivora      | 16.4 |\n| Carnivora      | 19.5 |\n| Carnivora      |  9.5 |\n| Cetacea        |  8.7 |\n| Cetacea        | 11.6 |\n| Cetacea        | 11.2 |\n| Cingulata      | 24.1 |\n| Perissodactyla |  8.9 |\n| Perissodactyla |  9.1 |\n| Perissodactyla | 10.4 |\n| Primates       | 14.0 |\n| Primates       | 15.7 |\n| Proboscidea    |  9.9 |\n| Proboscidea    |  9.3 |\n\n",
            "text/latex": "A tibble: 22 × 2\n\\begin{tabular}{ll}\n order & mean\\_sleep\\_total\\\\\n <chr> & <dbl>\\\\\n\\hline\n\t Artiodactyla   & 10.0\\\\\n\t Artiodactyla   & 11.3\\\\\n\t Artiodactyla   &  7.9\\\\\n\t Artiodactyla   &  9.8\\\\\n\t Artiodactyla   & 15.1\\\\\n\t Carnivora      & 18.1\\\\\n\t Carnivora      & 12.2\\\\\n\t Carnivora      & 21.8\\\\\n\t Carnivora      & 16.4\\\\\n\t Carnivora      & 19.5\\\\\n\t Carnivora      &  9.5\\\\\n\t Cetacea        &  8.7\\\\\n\t Cetacea        & 11.6\\\\\n\t Cetacea        & 11.2\\\\\n\t Cingulata      & 24.1\\\\\n\t Perissodactyla &  8.9\\\\\n\t Perissodactyla &  9.1\\\\\n\t Perissodactyla & 10.4\\\\\n\t Primates       & 14.0\\\\\n\t Primates       & 15.7\\\\\n\t Proboscidea    &  9.9\\\\\n\t Proboscidea    &  9.3\\\\\n\\end{tabular}\n",
            "text/plain": [
              "   order          mean_sleep_total\n",
              "1  Artiodactyla   10.0            \n",
              "2  Artiodactyla   11.3            \n",
              "3  Artiodactyla    7.9            \n",
              "4  Artiodactyla    9.8            \n",
              "5  Artiodactyla   15.1            \n",
              "6  Carnivora      18.1            \n",
              "7  Carnivora      12.2            \n",
              "8  Carnivora      21.8            \n",
              "9  Carnivora      16.4            \n",
              "10 Carnivora      19.5            \n",
              "11 Carnivora       9.5            \n",
              "12 Cetacea         8.7            \n",
              "13 Cetacea        11.6            \n",
              "14 Cetacea        11.2            \n",
              "15 Cingulata      24.1            \n",
              "16 Perissodactyla  8.9            \n",
              "17 Perissodactyla  9.1            \n",
              "18 Perissodactyla 10.4            \n",
              "19 Primates       14.0            \n",
              "20 Primates       15.7            \n",
              "21 Proboscidea     9.9            \n",
              "22 Proboscidea     9.3            "
            ]
          },
          "metadata": {}
        }
      ]
    },
    {
      "cell_type": "code",
      "source": [
        "ggplot(data, aes(x = order, y = mean_sleep_total)) + geom_col()"
      ],
      "metadata": {
        "id": "s3akJxOCI3w5",
        "outputId": "2ed738a2-2ff2-444f-c4b0-02266ab14b48",
        "colab": {
          "base_uri": "https://localhost:8080/",
          "height": 437
        }
      },
      "execution_count": 210,
      "outputs": [
        {
          "output_type": "display_data",
          "data": {
            "text/plain": [
              "plot without title"
            ],
            "image/png": "[encoded data removed]"
          },
          "metadata": {
            "image/png": {
              "width": 420,
              "height": 420
            }
          }
        }
      ]
    },
    {
      "cell_type": "markdown",
      "source": [
        "## 3. Clean and Analyze Data Using R (4 pts)\n",
        "\n",
        "In the cells below use R to perform the following data cleaning steps on this file:\n",
        "https://raw.githubusercontent.com/nmagee/ds1002/main/data/social-media-users.csv\n",
        "\n",
        "1. Remove any duplicate rows.\n",
        "2. Remove any records where `last_login` or `birthdate` are empty.\n",
        "3. Display only the records with the 10 highest `follower` counts.\n",
        "4. Determine counts of users when grouped by continent."
      ],
      "metadata": {
        "id": "-2ZaFcCCv3o8"
      }
    },
    {
      "cell_type": "code",
      "source": [
        "df <- read.csv(\"https://raw.githubusercontent.com/nmagee/ds1002/main/data/social-media-users.csv\")\n",
        "df"
      ],
      "metadata": {
        "id": "wBOldNd2y9m0"
      },
      "execution_count": null,
      "outputs": []
    },
    {
      "cell_type": "code",
      "source": [
        "# remove any duplicate rows\n",
        "nrow(df[duplicated(df), ])\n",
        "df2 <- df[!duplicated(df), ]\n",
        "nrow(df2[duplicated(df2), ])"
      ],
      "metadata": {
        "colab": {
          "base_uri": "https://localhost:8080/",
          "height": 52
        },
        "id": "9LB6mckxzEav",
        "outputId": "f8eb453c-1aa9-4964-a7ba-b8d5d7594b53"
      },
      "execution_count": 118,
      "outputs": [
        {
          "output_type": "display_data",
          "data": {
            "text/html": [
              "318"
            ],
            "text/markdown": "318",
            "text/latex": "318",
            "text/plain": [
              "[1] 318"
            ]
          },
          "metadata": {}
        },
        {
          "output_type": "display_data",
          "data": {
            "text/html": [
              "0"
            ],
            "text/markdown": "0",
            "text/latex": "0",
            "text/plain": [
              "[1] 0"
            ]
          },
          "metadata": {}
        }
      ]
    },
    {
      "cell_type": "code",
      "source": [
        "# remove any records where last_login or birthdate are empty\n",
        "df2[df2==\"\"] <- NA\n",
        "df3 <- na.omit(df2)"
      ],
      "metadata": {
        "id": "zOq2dtY7zQOi"
      },
      "execution_count": 122,
      "outputs": []
    },
    {
      "cell_type": "code",
      "source": [
        "# display only the records with the 10 highest follower counts\n",
        "df3 %>%\n",
        "  arrange(desc(followers)) %>%\n",
        "  slice(1:10)"
      ],
      "metadata": {
        "colab": {
          "base_uri": "https://localhost:8080/",
          "height": 588
        },
        "id": "WUn7-kBvzjMA",
        "outputId": "7227b5e5-a562-4029-b4b4-34ca1507948e"
      },
      "execution_count": 129,
      "outputs": [
        {
          "output_type": "display_data",
          "data": {
            "text/html": [
              "<table class=\"dataframe\">\n",
              "<caption>A data.frame: 10 × 8</caption>\n",
              "<thead>\n",
              "\t<tr><th scope=col>username</th><th scope=col>full_name</th><th scope=col>birthdate</th><th scope=col>email</th><th scope=col>continent</th><th scope=col>followers</th><th scope=col>last_login</th><th scope=col>interests</th></tr>\n",
              "\t<tr><th scope=col>&lt;chr&gt;</th><th scope=col>&lt;chr&gt;</th><th scope=col>&lt;chr&gt;</th><th scope=col>&lt;chr&gt;</th><th scope=col>&lt;chr&gt;</th><th scope=col>&lt;int&gt;</th><th scope=col>&lt;chr&gt;</th><th scope=col>&lt;chr&gt;</th></tr>\n",
              "</thead>\n",
              "<tbody>\n",
              "\t<tr><td>lleckeyb6    </td><td>Lynne Leckey        </td><td>4/19/1998 </td><td>lleckeyb6@tripadvisor.com</td><td>SA</td><td>99977</td><td>3/14/2021 </td><td>sports</td></tr>\n",
              "\t<tr><td>cduftondy    </td><td>Celisse Dufton      </td><td>8/24/1995 </td><td>cduftondy@ox.ac.uk       </td><td>OC</td><td>99707</td><td>9/26/2021 </td><td>sports</td></tr>\n",
              "\t<tr><td>dbartalin77  </td><td>Desiree Bartalin    </td><td>8/23/1993 </td><td>dbartalin77@usda.gov     </td><td>AF</td><td>99618</td><td>5/30/2022 </td><td>music </td></tr>\n",
              "\t<tr><td>grivardmp    </td><td>Gwen Rivard         </td><td>9/12/1982 </td><td>grivardmp@google.com.hk  </td><td>OC</td><td>99526</td><td>4/4/2020  </td><td>music </td></tr>\n",
              "\t<tr><td>kmorriceht   </td><td>Kitti Morrice       </td><td>6/3/1995  </td><td>kmorriceht@privacy.gov.au</td><td>SA</td><td>98936</td><td>3/24/2021 </td><td>sports</td></tr>\n",
              "\t<tr><td>smacdonnell7o</td><td>Shoshanna MacDonnell</td><td>9/12/2002 </td><td>smacdonnell7o@toplist.cz </td><td>AS</td><td>98760</td><td>7/20/2021 </td><td>music </td></tr>\n",
              "\t<tr><td>ebroomq9     </td><td>Early Broom         </td><td>3/10/2000 </td><td>ebroomq9@fastcompany.com </td><td>AF</td><td>98606</td><td>10/22/2023</td><td>sports</td></tr>\n",
              "\t<tr><td>schapell4j   </td><td>Shepard Chapell     </td><td>9/3/1993  </td><td>schapell4j@noaa.gov      </td><td>AS</td><td>98479</td><td>2/14/2021 </td><td>music </td></tr>\n",
              "\t<tr><td>tbaptiepo    </td><td>Thorvald Baptie     </td><td>10/23/1981</td><td>tbaptiepo@indiegogo.com  </td><td>OC</td><td>98233</td><td>5/27/2022 </td><td>sports</td></tr>\n",
              "\t<tr><td>nbarbeyq2    </td><td>Nelson Barbey       </td><td>12/15/1984</td><td>nbarbeyq2@histats.com    </td><td>OC</td><td>98172</td><td>6/18/2022 </td><td>music </td></tr>\n",
              "</tbody>\n",
              "</table>\n"
            ],
            "text/markdown": "\nA data.frame: 10 × 8\n\n| username &lt;chr&gt; | full_name &lt;chr&gt; | birthdate &lt;chr&gt; | email &lt;chr&gt; | continent &lt;chr&gt; | followers &lt;int&gt; | last_login &lt;chr&gt; | interests &lt;chr&gt; |\n|---|---|---|---|---|---|---|---|\n| lleckeyb6     | Lynne Leckey         | 4/19/1998  | lleckeyb6@tripadvisor.com | SA | 99977 | 3/14/2021  | sports |\n| cduftondy     | Celisse Dufton       | 8/24/1995  | cduftondy@ox.ac.uk        | OC | 99707 | 9/26/2021  | sports |\n| dbartalin77   | Desiree Bartalin     | 8/23/1993  | dbartalin77@usda.gov      | AF | 99618 | 5/30/2022  | music  |\n| grivardmp     | Gwen Rivard          | 9/12/1982  | grivardmp@google.com.hk   | OC | 99526 | 4/4/2020   | music  |\n| kmorriceht    | Kitti Morrice        | 6/3/1995   | kmorriceht@privacy.gov.au | SA | 98936 | 3/24/2021  | sports |\n| smacdonnell7o | Shoshanna MacDonnell | 9/12/2002  | smacdonnell7o@toplist.cz  | AS | 98760 | 7/20/2021  | music  |\n| ebroomq9      | Early Broom          | 3/10/2000  | ebroomq9@fastcompany.com  | AF | 98606 | 10/22/2023 | sports |\n| schapell4j    | Shepard Chapell      | 9/3/1993   | schapell4j@noaa.gov       | AS | 98479 | 2/14/2021  | music  |\n| tbaptiepo     | Thorvald Baptie      | 10/23/1981 | tbaptiepo@indiegogo.com   | OC | 98233 | 5/27/2022  | sports |\n| nbarbeyq2     | Nelson Barbey        | 12/15/1984 | nbarbeyq2@histats.com     | OC | 98172 | 6/18/2022  | music  |\n\n",
            "text/latex": "A data.frame: 10 × 8\n\\begin{tabular}{llllllll}\n username & full\\_name & birthdate & email & continent & followers & last\\_login & interests\\\\\n <chr> & <chr> & <chr> & <chr> & <chr> & <int> & <chr> & <chr>\\\\\n\\hline\n\t lleckeyb6     & Lynne Leckey         & 4/19/1998  & lleckeyb6@tripadvisor.com & SA & 99977 & 3/14/2021  & sports\\\\\n\t cduftondy     & Celisse Dufton       & 8/24/1995  & cduftondy@ox.ac.uk        & OC & 99707 & 9/26/2021  & sports\\\\\n\t dbartalin77   & Desiree Bartalin     & 8/23/1993  & dbartalin77@usda.gov      & AF & 99618 & 5/30/2022  & music \\\\\n\t grivardmp     & Gwen Rivard          & 9/12/1982  & grivardmp@google.com.hk   & OC & 99526 & 4/4/2020   & music \\\\\n\t kmorriceht    & Kitti Morrice        & 6/3/1995   & kmorriceht@privacy.gov.au & SA & 98936 & 3/24/2021  & sports\\\\\n\t smacdonnell7o & Shoshanna MacDonnell & 9/12/2002  & smacdonnell7o@toplist.cz  & AS & 98760 & 7/20/2021  & music \\\\\n\t ebroomq9      & Early Broom          & 3/10/2000  & ebroomq9@fastcompany.com  & AF & 98606 & 10/22/2023 & sports\\\\\n\t schapell4j    & Shepard Chapell      & 9/3/1993   & schapell4j@noaa.gov       & AS & 98479 & 2/14/2021  & music \\\\\n\t tbaptiepo     & Thorvald Baptie      & 10/23/1981 & tbaptiepo@indiegogo.com   & OC & 98233 & 5/27/2022  & sports\\\\\n\t nbarbeyq2     & Nelson Barbey        & 12/15/1984 & nbarbeyq2@histats.com     & OC & 98172 & 6/18/2022  & music \\\\\n\\end{tabular}\n",
            "text/plain": [
              "   username      full_name            birthdate  email                    \n",
              "1  lleckeyb6     Lynne Leckey         4/19/1998  lleckeyb6@tripadvisor.com\n",
              "2  cduftondy     Celisse Dufton       8/24/1995  cduftondy@ox.ac.uk       \n",
              "3  dbartalin77   Desiree Bartalin     8/23/1993  dbartalin77@usda.gov     \n",
              "4  grivardmp     Gwen Rivard          9/12/1982  grivardmp@google.com.hk  \n",
              "5  kmorriceht    Kitti Morrice        6/3/1995   kmorriceht@privacy.gov.au\n",
              "6  smacdonnell7o Shoshanna MacDonnell 9/12/2002  smacdonnell7o@toplist.cz \n",
              "7  ebroomq9      Early Broom          3/10/2000  ebroomq9@fastcompany.com \n",
              "8  schapell4j    Shepard Chapell      9/3/1993   schapell4j@noaa.gov      \n",
              "9  tbaptiepo     Thorvald Baptie      10/23/1981 tbaptiepo@indiegogo.com  \n",
              "10 nbarbeyq2     Nelson Barbey        12/15/1984 nbarbeyq2@histats.com    \n",
              "   continent followers last_login interests\n",
              "1  SA        99977     3/14/2021  sports   \n",
              "2  OC        99707     9/26/2021  sports   \n",
              "3  AF        99618     5/30/2022  music    \n",
              "4  OC        99526     4/4/2020   music    \n",
              "5  SA        98936     3/24/2021  sports   \n",
              "6  AS        98760     7/20/2021  music    \n",
              "7  AF        98606     10/22/2023 sports   \n",
              "8  AS        98479     2/14/2021  music    \n",
              "9  OC        98233     5/27/2022  sports   \n",
              "10 OC        98172     6/18/2022  music    "
            ]
          },
          "metadata": {}
        }
      ]
    },
    {
      "cell_type": "code",
      "source": [
        "# determine counts of users when grouped by continent\n",
        "df3 %>%\n",
        "  select(continent) %>%\n",
        "  count(continent == \"OC\")\n",
        "\n",
        "df3 %>%\n",
        "  select(continent) %>%\n",
        "  count(continent == \"AF\")\n",
        "\n",
        "df3 %>%\n",
        "  select(continent) %>%\n",
        "  count(continent == \"SA\")\n",
        "\n",
        "df3 %>%\n",
        "  select(continent) %>%\n",
        "  count(continent == \"AS\")\n",
        "\n",
        "df3 %>%\n",
        "  select(continent) %>%\n",
        "  count(continent == \"EU\")"
      ],
      "metadata": {
        "colab": {
          "base_uri": "https://localhost:8080/",
          "height": 736
        },
        "id": "5KG25_mI2JVY",
        "outputId": "b057f1d7-ab23-4d68-d1d8-3930f982ed71"
      },
      "execution_count": 143,
      "outputs": [
        {
          "output_type": "display_data",
          "data": {
            "text/html": [
              "<table class=\"dataframe\">\n",
              "<caption>A data.frame: 2 × 2</caption>\n",
              "<thead>\n",
              "\t<tr><th scope=col>continent == \"OC\"</th><th scope=col>n</th></tr>\n",
              "\t<tr><th scope=col>&lt;lgl&gt;</th><th scope=col>&lt;int&gt;</th></tr>\n",
              "</thead>\n",
              "<tbody>\n",
              "\t<tr><td>FALSE</td><td>327</td></tr>\n",
              "\t<tr><td> TRUE</td><td> 95</td></tr>\n",
              "</tbody>\n",
              "</table>\n"
            ],
            "text/markdown": "\nA data.frame: 2 × 2\n\n| continent == \"OC\" &lt;lgl&gt; | n &lt;int&gt; |\n|---|---|\n| FALSE | 327 |\n|  TRUE |  95 |\n\n",
            "text/latex": "A data.frame: 2 × 2\n\\begin{tabular}{ll}\n continent == \"OC\" & n\\\\\n <lgl> & <int>\\\\\n\\hline\n\t FALSE & 327\\\\\n\t  TRUE &  95\\\\\n\\end{tabular}\n",
            "text/plain": [
              "  continent == \"OC\" n  \n",
              "1 FALSE             327\n",
              "2  TRUE              95"
            ]
          },
          "metadata": {}
        },
        {
          "output_type": "display_data",
          "data": {
            "text/html": [
              "<table class=\"dataframe\">\n",
              "<caption>A data.frame: 2 × 2</caption>\n",
              "<thead>\n",
              "\t<tr><th scope=col>continent == \"AF\"</th><th scope=col>n</th></tr>\n",
              "\t<tr><th scope=col>&lt;lgl&gt;</th><th scope=col>&lt;int&gt;</th></tr>\n",
              "</thead>\n",
              "<tbody>\n",
              "\t<tr><td>FALSE</td><td>352</td></tr>\n",
              "\t<tr><td> TRUE</td><td> 70</td></tr>\n",
              "</tbody>\n",
              "</table>\n"
            ],
            "text/markdown": "\nA data.frame: 2 × 2\n\n| continent == \"AF\" &lt;lgl&gt; | n &lt;int&gt; |\n|---|---|\n| FALSE | 352 |\n|  TRUE |  70 |\n\n",
            "text/latex": "A data.frame: 2 × 2\n\\begin{tabular}{ll}\n continent == \"AF\" & n\\\\\n <lgl> & <int>\\\\\n\\hline\n\t FALSE & 352\\\\\n\t  TRUE &  70\\\\\n\\end{tabular}\n",
            "text/plain": [
              "  continent == \"AF\" n  \n",
              "1 FALSE             352\n",
              "2  TRUE              70"
            ]
          },
          "metadata": {}
        },
        {
          "output_type": "display_data",
          "data": {
            "text/html": [
              "<table class=\"dataframe\">\n",
              "<caption>A data.frame: 2 × 2</caption>\n",
              "<thead>\n",
              "\t<tr><th scope=col>continent == \"SA\"</th><th scope=col>n</th></tr>\n",
              "\t<tr><th scope=col>&lt;lgl&gt;</th><th scope=col>&lt;int&gt;</th></tr>\n",
              "</thead>\n",
              "<tbody>\n",
              "\t<tr><td>FALSE</td><td>353</td></tr>\n",
              "\t<tr><td> TRUE</td><td> 69</td></tr>\n",
              "</tbody>\n",
              "</table>\n"
            ],
            "text/markdown": "\nA data.frame: 2 × 2\n\n| continent == \"SA\" &lt;lgl&gt; | n &lt;int&gt; |\n|---|---|\n| FALSE | 353 |\n|  TRUE |  69 |\n\n",
            "text/latex": "A data.frame: 2 × 2\n\\begin{tabular}{ll}\n continent == \"SA\" & n\\\\\n <lgl> & <int>\\\\\n\\hline\n\t FALSE & 353\\\\\n\t  TRUE &  69\\\\\n\\end{tabular}\n",
            "text/plain": [
              "  continent == \"SA\" n  \n",
              "1 FALSE             353\n",
              "2  TRUE              69"
            ]
          },
          "metadata": {}
        },
        {
          "output_type": "display_data",
          "data": {
            "text/html": [
              "<table class=\"dataframe\">\n",
              "<caption>A data.frame: 2 × 2</caption>\n",
              "<thead>\n",
              "\t<tr><th scope=col>continent == \"AS\"</th><th scope=col>n</th></tr>\n",
              "\t<tr><th scope=col>&lt;lgl&gt;</th><th scope=col>&lt;int&gt;</th></tr>\n",
              "</thead>\n",
              "<tbody>\n",
              "\t<tr><td>FALSE</td><td>311</td></tr>\n",
              "\t<tr><td> TRUE</td><td>111</td></tr>\n",
              "</tbody>\n",
              "</table>\n"
            ],
            "text/markdown": "\nA data.frame: 2 × 2\n\n| continent == \"AS\" &lt;lgl&gt; | n &lt;int&gt; |\n|---|---|\n| FALSE | 311 |\n|  TRUE | 111 |\n\n",
            "text/latex": "A data.frame: 2 × 2\n\\begin{tabular}{ll}\n continent == \"AS\" & n\\\\\n <lgl> & <int>\\\\\n\\hline\n\t FALSE & 311\\\\\n\t  TRUE & 111\\\\\n\\end{tabular}\n",
            "text/plain": [
              "  continent == \"AS\" n  \n",
              "1 FALSE             311\n",
              "2  TRUE             111"
            ]
          },
          "metadata": {}
        },
        {
          "output_type": "display_data",
          "data": {
            "text/html": [
              "<table class=\"dataframe\">\n",
              "<caption>A data.frame: 2 × 2</caption>\n",
              "<thead>\n",
              "\t<tr><th scope=col>continent == \"EU\"</th><th scope=col>n</th></tr>\n",
              "\t<tr><th scope=col>&lt;lgl&gt;</th><th scope=col>&lt;int&gt;</th></tr>\n",
              "</thead>\n",
              "<tbody>\n",
              "\t<tr><td>FALSE</td><td>345</td></tr>\n",
              "\t<tr><td> TRUE</td><td> 77</td></tr>\n",
              "</tbody>\n",
              "</table>\n"
            ],
            "text/markdown": "\nA data.frame: 2 × 2\n\n| continent == \"EU\" &lt;lgl&gt; | n &lt;int&gt; |\n|---|---|\n| FALSE | 345 |\n|  TRUE |  77 |\n\n",
            "text/latex": "A data.frame: 2 × 2\n\\begin{tabular}{ll}\n continent == \"EU\" & n\\\\\n <lgl> & <int>\\\\\n\\hline\n\t FALSE & 345\\\\\n\t  TRUE &  77\\\\\n\\end{tabular}\n",
            "text/plain": [
              "  continent == \"EU\" n  \n",
              "1 FALSE             345\n",
              "2  TRUE              77"
            ]
          },
          "metadata": {}
        }
      ]
    }
  ]
}