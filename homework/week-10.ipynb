{
  "nbformat": 4,
  "nbformat_minor": 0,
  "metadata": {
    "colab": {
      "provenance": [],
      "include_colab_link": true
    },
    "kernelspec": {
      "name": "python3",
      "display_name": "Python 3"
    },
    "language_info": {
      "name": "python"
    }
  },
  "cells": [
    {
      "cell_type": "markdown",
      "metadata": {
        "id": "view-in-github",
        "colab_type": "text"
      },
      "source": [
        "<a href=\"https://colab.research.google.com/github/setran11/ds1002-mnd4up/blob/main/homework/week-10.ipynb\" target=\"_parent\"><img src=\"https://colab.research.google.com/assets/colab-badge.svg\" alt=\"Open In Colab\"/></a>"
      ]
    },
    {
      "cell_type": "markdown",
      "source": [
        "# Homework - Week 10\n",
        "\n",
        "Complete the following blocks as specified in the directions. Run each cell to return the desired output. Save your notebook back to your GitHub repository and submit the GitHub URL to your notebook for review."
      ],
      "metadata": {
        "id": "phbaQTT5gy8A"
      }
    },
    {
      "cell_type": "markdown",
      "source": [
        "## Class Basics\n",
        "\n",
        "Closely inspect the class below and answer the questions in the following cells."
      ],
      "metadata": {
        "id": "38Pg39pMrDua"
      }
    },
    {
      "cell_type": "code",
      "source": [
        "\n",
        "class Products:\n",
        "  def __init__(self, id, name, price, description, manufacturer):\n",
        "    self.id = id\n",
        "    self.name = name\n",
        "    self.price = price\n",
        "    self.description = description\n",
        "    self.manufacturer = manufacturer\n",
        "    self.salesprice = price\n",
        "\n",
        "  def print_product(self):\n",
        "    print(f\"Product {self.id} is {self.name} made by {self.manufacturer}. It costs ${self.price}\")\n"
      ],
      "metadata": {
        "id": "kdFLCHtOg53p"
      },
      "execution_count": 9,
      "outputs": []
    },
    {
      "cell_type": "code",
      "source": [
        "# What are the attributes of this class?\n",
        "\n",
        "# id, name, price, description, manufacturer"
      ],
      "metadata": {
        "id": "SG85PC5Q0oSi"
      },
      "execution_count": null,
      "outputs": []
    },
    {
      "cell_type": "code",
      "source": [
        "# In one line of code, create an instance of the class populating its attributes.\n",
        "\n",
        "Products.__init__"
      ],
      "metadata": {
        "id": "ckuUZlUc0q8D",
        "outputId": "b7d3c500-0df9-49d7-a866-bbefeda0794d",
        "colab": {
          "base_uri": "https://localhost:8080/"
        }
      },
      "execution_count": null,
      "outputs": [
        {
          "output_type": "execute_result",
          "data": {
            "text/plain": [
              "<function __main__.Products.__init__(self, id, name, price, description, manufacturer)>"
            ]
          },
          "metadata": {},
          "execution_count": 6
        }
      ]
    },
    {
      "cell_type": "code",
      "source": [
        "\"\"\" CORRECTIONS \"\"\"\n",
        "# In one line of code, create an instance of the class populating its attributes.\n",
        "product1 = Products(\"QC35\", \"Headphones\", 200, \"Wireless Headphones\", \"Bose\")"
      ],
      "metadata": {
        "id": "OoLoEt8GbZYC"
      },
      "execution_count": 10,
      "outputs": []
    },
    {
      "cell_type": "code",
      "source": [
        "\"\"\" CORRECTIONS -- Explanation of what was incorrect\n",
        "I created an instance of the class Products incorrectly because I printed out the attributes\n",
        "that make up the product, rather than creating an instance and creating its attributes. \"\"\""
      ],
      "metadata": {
        "id": "sfljxt1mb65t"
      },
      "execution_count": null,
      "outputs": []
    },
    {
      "cell_type": "code",
      "source": [
        "# Referencing the instance you just created, what code is required to print out the name of the instance?\n",
        "\n",
        "# .__init__"
      ],
      "metadata": {
        "id": "Ksp2TAiM0u5t"
      },
      "execution_count": null,
      "outputs": []
    },
    {
      "cell_type": "code",
      "source": [
        "\"\"\" CORRECTIONS \"\"\"\n",
        "# Referencing the instance you just created, what code is required to print out the name of the instance?\n",
        "product1.name"
      ],
      "metadata": {
        "colab": {
          "base_uri": "https://localhost:8080/",
          "height": 35
        },
        "id": "fA6L30SybzU-",
        "outputId": "33399309-193a-4ebe-e9ae-88872ccf3e07"
      },
      "execution_count": 11,
      "outputs": [
        {
          "output_type": "execute_result",
          "data": {
            "text/plain": [
              "'Headphones'"
            ],
            "application/vnd.google.colaboratory.intrinsic+json": {
              "type": "string"
            }
          },
          "metadata": {},
          "execution_count": 11
        }
      ]
    },
    {
      "cell_type": "code",
      "source": [
        "\"\"\" CORRECTIONS -- Explanation of what was incorrect\n",
        "I did not print the name of the instance correctly since using .__init__ would\n",
        "print the attributes of the instance, and not the name of the instance. \"\"\""
      ],
      "metadata": {
        "id": "N-bYev1xcDei"
      },
      "execution_count": null,
      "outputs": []
    },
    {
      "cell_type": "markdown",
      "source": [
        "## Class Methods"
      ],
      "metadata": {
        "id": "0jQs4JYU2Kfh"
      }
    },
    {
      "cell_type": "code",
      "source": [
        "# Using the instance you created above, call the `print_product` method properly in a line of code.\n",
        "\n",
        "def print_product(self):\n",
        "  return Products.__init__"
      ],
      "metadata": {
        "id": "aO-zWkhd172f"
      },
      "execution_count": null,
      "outputs": []
    },
    {
      "cell_type": "code",
      "source": [
        "\"\"\" CORRECTIONS \"\"\"\n",
        "# Using the instance you created above, call the `print_product` method properly in a line of code.\n",
        "\n",
        "class Products:\n",
        "  def print_product(self):\n",
        "    print(f\"Product {self.id} is {self.name} made by {self.manufacturer}. It costs ${self.price}\")\n",
        "\n",
        "product1.print_product()"
      ],
      "metadata": {
        "colab": {
          "base_uri": "https://localhost:8080/"
        },
        "id": "4SLcIj8pc82a",
        "outputId": "07348433-80c2-4813-dc13-975e54389aa4"
      },
      "execution_count": 12,
      "outputs": [
        {
          "output_type": "stream",
          "name": "stdout",
          "text": [
            "Product QC35 is Headphones made by Bose. It costs $200\n"
          ]
        }
      ]
    },
    {
      "cell_type": "code",
      "source": [
        "\"\"\" CORRECTIONS -- Explanation of what was incorrect\n",
        "I called the print_product method separately, not defining it within a class \"\"\""
      ],
      "metadata": {
        "id": "wl2419KMc_fo"
      },
      "execution_count": null,
      "outputs": []
    },
    {
      "cell_type": "code",
      "source": [
        "# Now declare the class again (copy + paste from above). But now add a NEW method that you write.\n",
        "# This method should create a new attribute called \"sales_price\" that is 80% of the normal price.\n",
        "#\n",
        "# Finally, write this method to print out a statement like \"The ________ product is on sale for _____\"\n",
        "# where you fill in the blanks with the name and sales_price of the product.\n",
        "\n",
        "class SalesPrice:\n",
        "  name = \"book\"\n",
        "  price = 10\n",
        "\n",
        "print(\"The\", name , \"product is on sale for\", price * 0.8)"
      ],
      "metadata": {
        "id": "75apcUeJ2VQo"
      },
      "execution_count": null,
      "outputs": []
    },
    {
      "cell_type": "code",
      "source": [
        "\"\"\" CORRECTIONS \"\"\"\n",
        "# Now declare the class again (copy + paste from above). But now add a NEW method that you write.\n",
        "# This method should create a new attribute called \"sales_price\" that is 80% of the normal price.\n",
        "#\n",
        "# Finally, write this method to print out a statement like \"The ________ product is on sale for _____\"\n",
        "# where you fill in the blanks with the name and sales_price of the product.\n",
        "\n",
        "class Products:\n",
        "\n",
        "  def __init__(self, id, name, price, description, manufacturer):\n",
        "    self.id = id\n",
        "    self.name = name\n",
        "    self.price = price\n",
        "    self.description = description\n",
        "    self.manufacturer = manufacturer\n",
        "    self.salesprice = price\n",
        "\n",
        "  def print_product(self):\n",
        "    print(f\"Product {self.id} is {self.name} made by {self.manufacturer}. It costs ${self.price}\")\n",
        "\n",
        "  def sales_price(self):\n",
        "    self.salesprice = self.price * 0.8\n",
        "    print(f\"The {self.name} product is on sale for ${self.salesprice}\")\n",
        "\n",
        "product1 = Products(\"QC35\", \"Headphones\", 200, \"Wireless Headphones\", \"Bose\")\n",
        "\n",
        "product1.print_product()\n",
        "\n",
        "product1.sales_price()"
      ],
      "metadata": {
        "colab": {
          "base_uri": "https://localhost:8080/"
        },
        "id": "keOf9uhEd_Ok",
        "outputId": "157295f9-67a6-4376-afd4-420dd70de571"
      },
      "execution_count": 13,
      "outputs": [
        {
          "output_type": "stream",
          "name": "stdout",
          "text": [
            "Product QC35 is Headphones made by Bose. It costs $200\n",
            "The Headphones product is on sale for $160.0\n"
          ]
        }
      ]
    },
    {
      "cell_type": "code",
      "source": [
        "\"\"\" CORRECTIONS -- Explanation of what was incorrect\n",
        "I did not create the method for sales_price correctly and instead made a new class called\n",
        "SalesPrice rather than add a method to the existing class Products. The calculations were\n",
        "included in the print statement instead of within the code for the method. \"\"\""
      ],
      "metadata": {
        "id": "v8Vkyqb7eCDc"
      },
      "execution_count": null,
      "outputs": []
    },
    {
      "cell_type": "code",
      "source": [
        "# Execute the class above"
      ],
      "metadata": {
        "id": "TZiNWOl_2-oh"
      },
      "execution_count": null,
      "outputs": []
    },
    {
      "cell_type": "code",
      "source": [
        "# Now create an instance of the class with new values.\n",
        "\n",
        "salesprice1 = SalesPrice()\n",
        "\n",
        "salesprice1.name = \"textbook\"\n",
        "salesprice1.price = 80"
      ],
      "metadata": {
        "id": "TT8qK1Ie3EVX"
      },
      "execution_count": null,
      "outputs": []
    },
    {
      "cell_type": "code",
      "source": [
        "\"\"\" CORRECTIONS \"\"\"\n",
        "# Now create an instance of the class with new values.\n",
        "\n",
        "product2 = Products(\"32oz\", \"Standard\", 25, \"Water Bottle\", \"Hydro Flask\")"
      ],
      "metadata": {
        "id": "dsWroWM4eFjO"
      },
      "execution_count": 14,
      "outputs": []
    },
    {
      "cell_type": "code",
      "source": [
        "\"\"\" CORRECTIONS -- Explanation of what was incorrect\n",
        "I created an instance of the class incorrectly and did not populate it with the\n",
        "values it asked for. \"\"\""
      ],
      "metadata": {
        "id": "XO2rWYFueFBH"
      },
      "execution_count": null,
      "outputs": []
    },
    {
      "cell_type": "code",
      "source": [
        "# Finally, using the instance you just created, invoke the new method you wrote. Be sure it prints\n",
        "# the desired text described above.\n",
        "\n",
        "print(\"The\", salesprice1.name , \"product is on sale for\", salesprice1.price * 0.8)"
      ],
      "metadata": {
        "id": "mobnFcMw3Icp"
      },
      "execution_count": null,
      "outputs": []
    },
    {
      "cell_type": "code",
      "source": [
        "\"\"\" CORRECTIONS \"\"\"\n",
        "# Finally, using the instance you just created, invoke the new method you wrote. Be sure it prints\n",
        "# the desired text described above.\n",
        "\n",
        "class Products:\n",
        "\n",
        "  def __init__(self, id, name, price, description, manufacturer):\n",
        "    self.id = id\n",
        "    self.name = name\n",
        "    self.price = price\n",
        "    self.description = description\n",
        "    self.manufacturer = manufacturer\n",
        "    self.salesprice = price\n",
        "\n",
        "  def sales_price(self):\n",
        "    self.salesprice = self.price * 0.8\n",
        "    print(f\"The {self.name} product is on sale for ${self.salesprice}\")\n",
        "\n",
        "product2 = Products(\"32oz\", \"Standard Bottle\", 25, \"Water Bottle\", \"Hydro Flask\")\n",
        "\n",
        "product2.sales_price()"
      ],
      "metadata": {
        "colab": {
          "base_uri": "https://localhost:8080/"
        },
        "id": "8KSZ59nyeISP",
        "outputId": "771c4830-dd25-48db-e50d-68f2dca5be81"
      },
      "execution_count": 15,
      "outputs": [
        {
          "output_type": "stream",
          "name": "stdout",
          "text": [
            "The Standard Bottle product is on sale for $20.0\n"
          ]
        }
      ]
    },
    {
      "cell_type": "code",
      "source": [
        "\"\"\" CORRECTIONS -- Explanation of what was incorrect\n",
        "I did not invoke the sales_price method correctly and did not define it within the class. \"\"\""
      ],
      "metadata": {
        "id": "juhBXJ92eH6f"
      },
      "execution_count": null,
      "outputs": []
    }
  ]
}